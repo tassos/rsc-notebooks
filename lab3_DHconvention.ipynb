{
 "cells": [
  {
   "cell_type": "markdown",
   "metadata": {},
   "source": [
    "# Laboratory 3"
   ]
  },
  {
   "cell_type": "markdown",
   "metadata": {},
   "source": [
    "## DH convention for determining the direct geometric model"
   ]
  },
  {
   "cell_type": "markdown",
   "metadata": {},
   "source": [
    "*Kinematics* is the domain that studies motion without taking into consideration forces that generate the respective motion. The study of kinematics analyses the positions, velocities, accelerations and derivatives of higher order of the position (derivatives in respect to time or other variables). The study of kinematics of a robotic arm implies studying the geometric and temporal properties of a motion.\n",
    "\t\n",
    "The study of the geometry of a robotic arm, implies the attachment of a coordinate system on the different parts that constitute the arm. Once this is done, we can study the relationship between these coordinate systems to define the position and orientation of the end effector. However, when the geometry of the robot arm is not a trivial one, the position and orientation of these coordinate systems is difficult to determine in a repetitive way. This laboratory exercise presents a method to determine the position and orientation of the end-effector in respect to the reference frame, as a function of variables that are related to each segment of the arm. This model is an alternative method for calculating the direct geometric model of a robot."
   ]
  },
  {
   "cell_type": "markdown",
   "metadata": {},
   "source": [
    "### 3.1 Description of a link. DH parameters"
   ]
  },
  {
   "cell_type": "markdown",
   "metadata": {},
   "source": [
    "A robotic arm can be seen as a series of bodies connected together through joints, forming a kinematic chain. The bodies are called **links** and a **joint** connects two subsequent links together. From a mechanical design perspective, the majority of the joints implement a single degree of freedom, whether we are referring to translational or rotational joints. In the rare cases that a mechanism constitutes a joint with *n degrees of freedom*, this can be modelled as a series of *n joints with one degree of freedom, connected on n-1 links of length zero*."
   ]
  },
  {
   "cell_type": "markdown",
   "metadata": {},
   "source": [
    "A link can have several attributes that can be important from a mechanical design point of view (form, material, rigidity, mass, etc.). For the purpose of obtaining the geometric model, a link can be considered as a rigid solid that defines a relationship between two adjacent joints (distal and proximal). The axis of a joint is defined as axis around which link $i$ rotates in relation to link $i-1$. For each two axes in space, the distance between them can be measured based on the common perpendicular. This common perpendicular exists always, and it is unique, except in the case of two parallel axes. In this case, there are infinite common perpendiculars but their length is always the same."
   ]
  },
  {
   "cell_type": "markdown",
   "metadata": {},
   "source": [
    "<center>\n",
    "        <figure>\n",
    "          <img src=\"artwork/DH/fig3-1.png\" width=60% />\n",
    "          <figcaption>Figure 3.1: DH parameters definition</figcaption>\n",
    "        </figure>\n",
    "</center>"
   ]
  },
  {
   "cell_type": "markdown",
   "metadata": {},
   "source": [
    "Figure 3.1 presents a link $i-1$ for which we have identified the axis of the joints $i-1$ and $i$, and their common perpendicular. The first parameter that characterises a link is the **the length of the link**, denoted as $r_{i-1}$ and identified as the length of the common perpendicular between the axis of joints $i-1$  and $i$.  -to change in image from a to r"
   ]
  },
  {
   "cell_type": "markdown",
   "metadata": {},
   "source": [
    "The second parameter that is specific to a link is the angle between the axes of the joints. To obtain this parameters, we work as following:\n",
    "\n",
    "- We identify a plane that is normal to the common perpendicular of the two joint axes.\n",
    "- We project the axes of the joints on this plane.\n",
    "- We obtain the angle between these two projection.\n",
    "\n",
    "This parameter is denoted $\\alpha_{i-1}$, and is called **crossing angle** and represents the angle formed from the axes of the two joints, measured from the projection of axis $i-1$ until the axis $i$."
   ]
  },
  {
   "cell_type": "markdown",
   "metadata": {},
   "source": [
    "Adjacent joints share a common axis. The third parameter refers to the distance measured on top of this common axis between link $i-1$ and link $i$. This parameter is called **link offset**, is denoted as $d_i$ and represents the distance measured on axis $i$ between the common perpendicular of axes $i-1$ and $i$ (for link $i-1$) and the common perpendicular of axes $i$ and $i+1$ (for link $i$)."
   ]
  },
  {
   "cell_type": "markdown",
   "metadata": {},
   "source": [
    "The fourth parameters specifies the angle of rotation between the direction of link $i-1$ and the direction of link $i$. This parameter is called **joint angle** and is denoted as $\\theta_i$."
   ]
  },
  {
   "cell_type": "markdown",
   "metadata": {},
   "source": [
    "Figure 3.1 presents the ratio between link $i-1$ and link $i$. The parameter $r_{i-1}$ is the length of the perpendicular between the axes of link $i-1$ (axes $i-1$ and $i$). In a similar way, the parameter $r_i$ is the length of the perpendicular between the axes $i$ and $i+1$, specific to link $i$. The first parameter that realises the interconnection between segment $i-1$ and $i$ is the offset $d_i$, which represents the length (with sign) measured on the length of axis $i$ between the point which segment $r_{i-1}$ intersects axis $i$ and the point which segment $r_i$ intersects axis $i$. The parameter $d_i$ is variable if join $i$ is a translational joint.\n",
    "\n",
    "The second parameter that realises the interconnection is the angle measured around axis $i$ between the extension of segment $r_{i-1}$ and segment $r_i$. This parameter $\\theta_i$ is variable if the join is a rotational joint."
   ]
  },
  {
   "cell_type": "code",
   "execution_count": null,
   "metadata": {},
   "outputs": [],
   "source": [
    "animation for DH from the course"
   ]
  },
  {
   "cell_type": "markdown",
   "metadata": {},
   "source": [
    "Thus, by determining the values of these four parameters for each link, it is possible to determine the geometric model of any kinematic chain. Two of these parameters describe the link itself, while the other two parameters describe the connection with the neighbouring link. The definition of a mechanism through these four quantity is a convention called **Denavit-Hartenberg convention**, or simply **DH** introduced by J. Denavit and R.S. Hartenberg in \"A kinematic notation for lower pair mechanisms based on matrices\", Journal of Applied Mechanics, No. 22, 1959: pp. 215-221."
   ]
  },
  {
   "cell_type": "markdown",
   "metadata": {},
   "source": [
    "### 3.2 Association of coordinate systems according to the DH convention"
   ]
  },
  {
   "cell_type": "markdown",
   "metadata": {},
   "source": [
    "For the description of the position and orientation of any of the joints in relation to adjacent joints, we attach a coordinate system on each one of the links. These are numbered accordingly to the link to which they are attached. Therefore, system $i$ is attached on link $i$."
   ]
  },
  {
   "cell_type": "markdown",
   "metadata": {},
   "source": [
    "#### 3.2.1 Intermediate links"
   ]
  },
  {
   "cell_type": "markdown",
   "metadata": {},
   "source": [
    "We will use the following convention for attaching the coordinate system of a link: We denote as $Z_i$ the axis $Z$ of the coordinate system $i$. This axis is superimposed with the axis of joint $i$. The origin of system $i$, $O_i$, is located in the point that the perpendicular $r_i$ intersects the axis of joint $i$. The axis $X_i$ has the direction of segment $r_i$ and its direction heading from joint $i$ towards joint $i+1$.\n",
    "\n",
    "If $r_i=0$, the axis $X_i$ is the perpendicular on the plane formed by axes $Z_i$ and $Z_{i+1}$. Parameter $\\alpha_i$ is measured according to the positive direction of rotation along axis $X_i$. The axis $Y_i$ completes the coordinate system so that we can apply the rule of the right hand."
   ]
  },
  {
   "cell_type": "markdown",
   "metadata": {},
   "source": [
    "#### 3.2.2 First and last link"
   ]
  },
  {
   "cell_type": "markdown",
   "metadata": {},
   "source": [
    "\n",
    "We attach on the base of the robot (also known as link $\\{0\\}$) a Cartesian system  $O_0X_0Y_0Z_0$. This system is static and can be seen as the reference system, when thinking of the determination of the direct geometric model. It is possible to describe the position and orientation of all the other coordinate systems in relation to the reference system. Even though the system $\\{0\\}$ can be chosen arbitrarily, it is easier if we chose the system to coincides with system $\\{1\\}$ when the variable associated with axis 1 is equal to 0. Under this conditions, we will always have $r_0=0$ and $\\alpha_0=0$. Furthermore, if the first axis is a rotational axis, parameter $d_1$ is 0 or if the first joint is a translational one, $\\theta_1$ will be 0.\n",
    "\n",
    "If the last joint (joint $n$) is a rotational joint, we chose its direction $X_N$ so that it aligns with that of $X_{N-1}$ when $\\theta_N=0$. We further position the origin of system $\\{N\\}$ so that $d_N$ is 0. If the last joint (joint $n$) is a translational joint, we chose its direction $X_N$ so that $\\theta_N=0$, while we position the origin of the system $\\{N\\}$ on the intersection of axis $X_{N-1}$ and the axis of joint $n$ when $d_N$ is 0."
   ]
  },
  {
   "cell_type": "markdown",
   "metadata": {},
   "source": [
    "#### 3.2.3 DH parameters expressed in function of coordinate systems"
   ]
  },
  {
   "cell_type": "markdown",
   "metadata": {},
   "source": [
    "\n",
    "If all the links have a coordinate system attached according to the convention that was just presented, we can use the following definition for the DH parameters:\n",
    "\n",
    "<l>\n",
    "    <ul>$r_{i-1}$ - distance between axes $Z_{i-1}$ and $Z_{i}$, measured on axis $X_{i-1}$;</ul>\n",
    "    <ul>$\\alpha_{i-1}$ - angle between axes $Z_{i-1}$ and $Z_{i}$, measured around axis $X_{i-1}$;</ul>\n",
    "    <ul>$d_i$ - distance between axes $X_{i-1}$ and $X_{i}$, measured on axis $Z_{i}$;</ul>\n",
    "    <ul>$\\theta_i$ - angle between axes $X_{i-1}$ and $X_{i}$, measured around axis $Z_{i}$.</ul>\n",
    "</l>\n",
    "\n",
    "Usually, parameters $r_i$ are positive, as they describe a distance. Parameters $\\alpha_i$, $d_i$ and $\\theta_i$ *correspond to signed sizes*."
   ]
  },
  {
   "cell_type": "markdown",
   "metadata": {},
   "source": [
    "#### 3.2.4 Procedure for associating a Cartesian system on each link"
   ]
  },
  {
   "cell_type": "markdown",
   "metadata": {},
   "source": [
    "1. We identify the joints of the mechanism and we associate each one of the joints with a variable $q_i$, beginning from 1 until the number of degrees of freedom.\n",
    " "
   ]
  },
  {
   "cell_type": "code",
   "execution_count": 1,
   "metadata": {},
   "outputs": [
    {
     "data": {
      "image/png": "[encoded data removed]",
      "text/plain": [
       "<Figure size 432x288 with 1 Axes>"
      ]
     },
     "metadata": {
      "needs_background": "light"
     },
     "output_type": "display_data"
    }
   ],
   "source": [
    "%matplotlib inline\n",
    "from lab3_functions import defineJoints\n",
    "\n",
    "defineJoints()"
   ]
  },
  {
   "cell_type": "markdown",
   "metadata": {},
   "source": [
    "We draw the axes of all the joints. For the following steps (from 2 to 4), we will always consider two adjacent of these axes (corresponding to joints $i$ and $i+1$).\n",
    "\n",
    "    "
   ]
  },
  {
   "cell_type": "markdown",
   "metadata": {},
   "source": [
    "2. We attach $Z_i$ along the direction of movement of joint $i$.\n",
    "   "
   ]
  },
  {
   "cell_type": "code",
   "execution_count": 1,
   "metadata": {},
   "outputs": [
    {
     "data": {
      "image/png": "[encoded data removed]",
      "text/plain": [
       "<Figure size 432x288 with 1 Axes>"
      ]
     },
     "metadata": {
      "needs_background": "light"
     },
     "output_type": "display_data"
    }
   ],
   "source": [
    "%matplotlib inline\n",
    "from lab3_functions import step1_Z\n",
    "\n",
    "step1_Z()\n"
   ]
  },
  {
   "cell_type": "markdown",
   "metadata": {},
   "source": [
    "3. We attach $X_i$ along the common perpendicular of $Z_i$ and $Z_{i+1}$\n",
    "   "
   ]
  },
  {
   "cell_type": "code",
   "execution_count": 1,
   "metadata": {},
   "outputs": [
    {
     "data": {
      "image/png": "[encoded data removed]",
      "text/plain": [
       "<Figure size 432x288 with 1 Axes>"
      ]
     },
     "metadata": {
      "needs_background": "light"
     },
     "output_type": "display_data"
    }
   ],
   "source": [
    "%matplotlib inline\n",
    "from lab3_functions import step2_X\n",
    "\n",
    "step2_X()"
   ]
  },
  {
   "cell_type": "markdown",
   "metadata": {},
   "source": [
    "4. We attach $Y_i$ in a way so that we form a Cartesian system according to the right-hand rule.\n",
    "   "
   ]
  },
  {
   "cell_type": "code",
   "execution_count": 2,
   "metadata": {},
   "outputs": [
    {
     "data": {
      "image/png": "[encoded data removed]",
      "text/plain": [
       "<Figure size 432x288 with 1 Axes>"
      ]
     },
     "metadata": {
      "needs_background": "light"
     },
     "output_type": "display_data"
    }
   ],
   "source": [
    "%matplotlib inline\n",
    "from lab3_functions import step3_Y\n",
    "\n",
    "step3_Y()\n"
   ]
  },
  {
   "cell_type": "markdown",
   "metadata": {},
   "source": [
    "5. We attach system $\\{0\\}$ in a way to coincide with system $\\{1\\}$ when the first joint is in position 0. System $\\{0\\}$ can also be chosen as a first step and proceed from there on. For the end-effector (system $N$) we choose the origin and the axis $X_N$ so that we cancel as many parameters as possible.\n"
   ]
  },
  {
   "cell_type": "code",
   "execution_count": 3,
   "metadata": {},
   "outputs": [
    {
     "data": {
      "image/png": "[encoded data removed]",
      "text/plain": [
       "<Figure size 432x288 with 1 Axes>"
      ]
     },
     "metadata": {
      "needs_background": "light"
     },
     "output_type": "display_data"
    }
   ],
   "source": [
    "%matplotlib inline\n",
    "from lab3_functions import step4_refandfin\n",
    "\n",
    "step4_refandfin()"
   ]
  },
  {
   "cell_type": "markdown",
   "metadata": {},
   "source": [
    "### 3.3 Calculation of the transformation matrices of a link"
   ]
  },
  {
   "cell_type": "markdown",
   "metadata": {},
   "source": [
    "The determination of the transformations that define system $\\{i\\}$ relatively to system $\\{i-1\\}$ are presented. In general, such a transformation will be obtained using the four parameters of the DH convention. Furthermore, for any robot, this transformation will have a single variable (associated with the joint), while the rest of the parameters will be constant and determined only by the structure of the link."
   ]
  },
  {
   "cell_type": "markdown",
   "metadata": {},
   "source": [
    "For solving the direct geometric model problem, we decomposed it in sub-problems, one for each link, represented by the matrices $^nT_{n-1}$. For solving these sub-problems, they will also be decomposed into a set of four sub-problems. Each one of these transformations will be a function of just a variable, and we can therefore write each matrix with a simple inspection of the structure of the robot."
   ]
  },
  {
   "cell_type": "markdown",
   "metadata": {},
   "source": [
    "For a link between joints $i-1$ and $i$, we define a set of intermediate transformation: $\\{P\\}$, $\\{Q\\}$ and  $\\{R\\}$, as can be seen in figure 3.2."
   ]
  },
  {
   "cell_type": "markdown",
   "metadata": {},
   "source": [
    "<center>\n",
    "        <figure>\n",
    "          <img src=\"artwork/DH/fig3-2.png\" width=60%  />\n",
    "          <figcaption>Figure 3.2: Elementary transformations within a link</figcaption>\n",
    "        </figure>\n",
    "</center>"
   ]
  },
  {
   "cell_type": "markdown",
   "metadata": {},
   "source": [
    "\n",
    "The system $\\{R\\}$ differs from system $\\{i-1\\}$ by a rotation of $\\alpha_{i-1}$. System $\\{Q\\}$ differs from system $\\{R\\}$ by a translation of $r_{i-1}$. System $\\{P\\}$ differs from system $\\{Q\\}$ by a rotation of $\\theta_i$,  while system $\\{i\\}$ differs from system $\\{P\\}$ by a translation of $d_i$. Therefore, the transformation that expresses system $\\{i\\}$ in $\\{i-1\\}$ is:"
   ]
  },
  {
   "cell_type": "markdown",
   "metadata": {},
   "source": [
    "\\begin{equation}\\label{eq3.1}\n",
    "    {}^{i - 1} T_i = {}^{i - 1} T_R \\cdot {}^R T_Q \\cdot {}^Q T_P \\cdot {}^P T_i\n",
    "\\end{equation}\n",
    "\n"
   ]
  },
  {
   "cell_type": "markdown",
   "metadata": {},
   "source": [
    "which can be written in the following form too:\n"
   ]
  },
  {
   "cell_type": "markdown",
   "metadata": {},
   "source": [
    "\n",
    "\\begin{equation}\n",
    "    {}^{i} T_{i+1} = RotX(\\alpha_{i}) \\cdot TransX(r_{i}) \\cdot RotZ(\\theta_{i}) \\cdot TransX(d_{i})\n",
    "\\end{equation}\n",
    "\n"
   ]
  },
  {
   "cell_type": "markdown",
   "metadata": {},
   "source": [
    "Equation \\ref{eq3.1} in matrix form is:\n"
   ]
  },
  {
   "cell_type": "markdown",
   "metadata": {},
   "source": [
    "\\begin{equation}\n",
    "T_i=\\left[ {\\begin{array}{*{20}c}\n",
    "   1 & 0 & 0 & 0  \\\\\n",
    "   0 & {c\\alpha _{i - 1} } & { - s\\alpha _{i - 1} } & 0  \\\\\n",
    "   0 & {s\\alpha _{i - 1} } & {c\\alpha _{i - 1} } & 0  \\\\\n",
    "   0 & 0 & 0 & 1  \\\\\n",
    "\\end{array}} \\right]\\left[ {\\begin{array}{*{20}c}\n",
    "   1 & 0 & 0 & {r_{i - 1} }  \\\\\n",
    "   0 & 1 & 0 & 0  \\\\\n",
    "   0 & 0 & 1 & 0  \\\\\n",
    "   0 & 0 & 0 & 1  \\\\\n",
    "\\end{array}} \\right]\\left[ {\\begin{array}{*{20}c}\n",
    "   {c\\theta _i } & { - s\\theta _i } & 0 & 0  \\\\\n",
    "   {s\\theta _i } & {c\\theta _i } & 0 & 0  \\\\\n",
    "   0 & 0 & 1 & 0  \\\\\n",
    "   0 & 0 & 0 & 1  \\\\\n",
    "\\end{array}} \\right]\\left[ {\\begin{array}{*{20}c}\n",
    "   1 & 0 & 0 & 0  \\\\\n",
    "   0 & 1 & 0 & 0  \\\\\n",
    "   0 & 0 & 1 & {d_i }  \\\\\n",
    "   0 & 0 & 0 & 1  \\\\\n",
    "\\end{array}} \\right]\n",
    "\\end{equation}\n"
   ]
  },
  {
   "cell_type": "markdown",
   "metadata": {},
   "source": [
    "resulting in:"
   ]
  },
  {
   "cell_type": "markdown",
   "metadata": {},
   "source": [
    "\\begin{equation}\\label{eq3.3}\n",
    "^{i-1}T_i = \\left[ {\\begin{array}{*{20}c}\n",
    "   {c\\theta _i } & { - s\\theta _i } & 0 & {r_{i - 1} }  \\\\\n",
    "   {s\\theta _i c\\alpha _{i - 1} } & {c\\theta _i c\\alpha _{i - 1} } & { - s\\alpha _{i - 1} } & { - s\\alpha _{i - 1} d_i }  \\\\\n",
    "   {s\\theta _i s\\alpha _{i - 1} } & {c\\theta _i s\\alpha _{i - 1} } & {c\\alpha _{i - 1} } & {c\\alpha _{i - 1} d_i }  \\\\\n",
    "   0 & 0 & 0 & 1  \\\\\n",
    "\\end{array}} \\right]\n",
    "\\end{equation}"
   ]
  },
  {
   "cell_type": "markdown",
   "metadata": {},
   "source": [
    "After we have identified the Cartesian systems that are attached on the links, and the corresponding DH parameters (usually in the form of a table), we can proceed to the determination of a kinematic model. This work assumes the customisation of transformation matrices $^{n-1}T_n$ with parameters corresponding to each link. Once this is done, we can multiply the calculated matrices to obtain a single transformation matrix which provides the position and orientation of system $\\{N\\}$ in respect to system $\\{0\\}$:\n",
    "\n"
   ]
  },
  {
   "cell_type": "markdown",
   "metadata": {},
   "source": [
    "\\begin{equation}\\label{eq3.4}\n",
    "{}^0 T_N  = {}^0 T_1  \\cdot {}^1 T_2  \\cdot {}^2 T_3  \\cdot {}^3 T_4  \\cdot ... \\cdot {}^{N - 1} T_N\n",
    "\\end{equation}"
   ]
  },
  {
   "cell_type": "markdown",
   "metadata": {},
   "source": [
    "\n",
    "This matrix allows to identify the position and orientation of the end-effector in the coordinate system attached to the base."
   ]
  },
  {
   "cell_type": "markdown",
   "metadata": {},
   "source": [
    "### 3.4. Robopy toolbox"
   ]
  },
  {
   "cell_type": "markdown",
   "metadata": {},
   "source": [
    "The DH parameters are commonly used to describe kinematic chains (i.e. robotic\n",
    "structures) throughout the robotics world. Manufacturers usually provide the\n",
    "parameters for each link, and using only these parameters we can calculate the\n",
    "direct geometric model of a robot."
   ]
  },
  {
   "cell_type": "markdown",
   "metadata": {},
   "source": [
    "The robotics toolbox has some very useful functions for simulating robotic arms\n",
    "just by using the DH parameters. We do that by creating all the __link__ objects of a robot (defined by their DH parameters), and then combing them all in a __Serial Link__ object. We can add, if necessary, a __tool__ (end effector) for a robot, by mentioning where the tool is with reference to the last joint. We can visualise a __summary__ of the robot and we can calculate the position of the end-effector of the robot for a specific set of joint coordinates using the __fkine__ command. Finally, we can visualise the robot for a specific set of joint coordinates by __plot__."
   ]
  },
  {
   "cell_type": "code",
   "execution_count": null,
   "metadata": {},
   "outputs": [],
   "source": [
    "import numpy as np\n",
    "from robopy import *\n",
    "from robopy import serial_link as sl\n",
    "import matplotlib.pyplot as plt\n",
    "import math \n",
    "\n",
    "j      = 1\n",
    "offset = 0\n",
    "q1   = 0\n",
    "qlim = [0,3.14] # the range q is allowed to take values from\n",
    "\n",
    "# a link may be Revolute or Prismatic\n",
    "# j, theta, d, a , alpha, offset, qlim\n",
    "L1 = sl.Revolute(j,q1, 1, 0,  0, offset,qlim)\n",
    "L2 = sl.Prismatic(j,q1, 1, 0,  0, offset,qlim)\n",
    "\n",
    "\n",
    "# we combine the links using the SerialLink command\n",
    "bot = sl.SerialLink([L1,L2], name = 'bot')\n",
    "\n",
    "# adding a tool that is 2 units away from the last joint, on x:\n",
    "bot2 = sl.SerialLink([L1,L2], name = 'bot with tool', tool = transl(2,0,0))\n",
    "\n",
    "# you can see the object properties by vars()\n",
    "print(vars(bot))\n",
    "\n",
    "# find the pose of the robot with the following qs:\n",
    "q = np.array([0, 1.4])\n",
    "T = bot.fkine(q)\n",
    "#print(T)\n",
    "\n",
    "# visualising the pose \n",
    "qmat = np.asmatrix(q) #the joint angles given as matrix\n",
    "#bot.plot(qmat, unit = 'rad')\n",
    "\n",
    "\n"
   ]
  },
  {
   "cell_type": "markdown",
   "metadata": {},
   "source": [
    "As another example, we shall see how the already modelled puma560 looks like. The puma560 is a 6 DOF robot with 6 rotational joints. We can use SerialLink methods, such as __plot__ or __fkine__ etc since the model is a SerialLink object. The plot allows pan movement."
   ]
  },
  {
   "cell_type": "code",
   "execution_count": null,
   "metadata": {},
   "outputs": [],
   "source": [
    "import numpy as np\n",
    "from robopy import *\n",
    "from robopy import serial_link\n",
    "import matplotlib.pyplot as plt\n",
    "import math \n",
    "\n",
    "\n",
    "p = Puma560()\n",
    "q = np.array([0, 0, 0, 0, 0, 0])\n",
    "print(p.fkine(q))\n",
    "\n",
    "#new graphical window opens\n",
    "p.plot(np.asmatrix(q), unit='rad')"
   ]
  },
  {
   "cell_type": "markdown",
   "metadata": {},
   "source": [
    "### 3.5. Proposed problems"
   ]
  },
  {
   "cell_type": "markdown",
   "metadata": {},
   "source": [
    "<center>\n",
    "        <figure>\n",
    "          <img src=\"artwork/DH/lego_robots-1.png\"  width=90%/>\n",
    "          <figcaption>Figure 3.3: Blue robot (left), green robot (right)</figcaption>\n",
    "        </figure>\n",
    "</center>"
   ]
  },
  {
   "cell_type": "markdown",
   "metadata": {},
   "source": [
    "1. Consider the two robots from figure 3.3\n",
    "    - Determine the geometric model of the robots using the DH convention.</li>\n",
    "    - Draw the robot for a specific set of coordinates, using the robotics toolbox.\n",
    "\n",
    "\n",
    "2. Consider the Puma robot from figure 3.4:\n",
    "    - Draw a schematic of the structure of the robot.</li>\n",
    "    - Calculate the direct geometric model of the robot using the DH convention.\n",
    "    \n",
    "    "
   ]
  },
  {
   "cell_type": "markdown",
   "metadata": {},
   "source": [
    "<center>\n",
    "        <figure>\n",
    "          <img src=\"artwork/DH/fig3-4.png\\\"  width=70% />\n",
    "          <figcaption>Figure 3.4: Robot Puma</figcaption>\n",
    "        </figure>\n",
    "</center>"
   ]
  },
  {
   "cell_type": "code",
   "execution_count": null,
   "metadata": {},
   "outputs": [],
   "source": []
  }
 ],
 "metadata": {
  "kernelspec": {
   "display_name": "Python 3",
   "language": "python",
   "name": "python3"
  },
  "language_info": {
   "codemirror_mode": {
    "name": "ipython",
    "version": 3
   },
   "file_extension": ".py",
   "mimetype": "text/x-python",
   "name": "python",
   "nbconvert_exporter": "python",
   "pygments_lexer": "ipython3",
   "version": "3.7.6"
  },
  "varInspector": {
   "cols": {
    "lenName": 16,
    "lenType": 16,
    "lenVar": 40
   },
   "kernels_config": {
    "python": {
     "delete_cmd_postfix": "",
     "delete_cmd_prefix": "del ",
     "library": "var_list.py",
     "varRefreshCmd": "print(var_dic_list())"
    },
    "r": {
     "delete_cmd_postfix": ") ",
     "delete_cmd_prefix": "rm(",
     "library": "var_list.r",
     "varRefreshCmd": "cat(var_dic_list()) "
    }
   },
   "types_to_exclude": [
    "module",
    "function",
    "builtin_function_or_method",
    "instance",
    "_Feature"
   ],
   "window_display": false
  }
 },
 "nbformat": 4,
 "nbformat_minor": 2
}

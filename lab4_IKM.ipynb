{
 "cells": [
  {
   "cell_type": "markdown",
   "metadata": {},
   "source": [
    "# Laboratory 4"
   ]
  },
  {
   "cell_type": "markdown",
   "metadata": {},
   "source": [
    "## Determination of an inverse geometric model"
   ]
  },
  {
   "cell_type": "markdown",
   "metadata": {},
   "source": [
    "\n",
    "In the previous works we analysed the problem of calculating the position and orientation of a Cartesian system attached on the end-effector, when the robot coordinates of each joint of the robot is known. This exercise proposes \n",
    "an approach a bit more difficult: we want to determine the joint coordinates for a specific position of the end-effector. In other words, determine a set of coordinates of the robot $q_1,q_2,...,q_n$, that ensure a specific position and orientation of the end-effector. This problem is known as the __inverse geometric model__ of a kinematic chain. The main objective of this exercise is the description of a heuristic method for determining this inverse geometric model of a robotic arm and to apply this method in two robotic kinematic structures."
   ]
  },
  {
   "cell_type": "markdown",
   "metadata": {},
   "source": [
    "### 4.1 Theoretical considerations"
   ]
  },
  {
   "cell_type": "markdown",
   "metadata": {},
   "source": [
    "The problem of determining the inverse geometric model of a robot is a non-linear problem. For a robotic structure, we are starting with the numerical values of the matrix that describes the direct geometric model ($^0T_N$) and we aim at determining the set of joint coordinates of the robot ($q_1,q_2,...q_n$). For a robot with 6 degrees of freedom (6 motor joints), we obtain a system with 12 equations and 6 unknowns. However, from the 9 equations that result from the correspondence of the orientation from matrix $^T_6$, only three of them are independent and the other 6 are redundant. This limits us to the determination of maximum 3 independent variables. If, on these three equations, we add the three equations resulting from the correspondence of the position vectors from matrix $^T_6$, we obtain a set of 6 independent equations that allow us to determine a maximum of 6 independent variables. These variables are corresponding to the 6 degrees of freedom of the robot. This system of equations is non-linear and transcendent, often proving difficult to solve. Like all non-linear systems of equations, the main problems are raised by the existence of solutions, existence of multiple solutions and the method to use for solving the system."
   ]
  },
  {
   "cell_type": "markdown",
   "metadata": {},
   "source": [
    "\n",
    "Considering a robot for which we denote as $\\overline{q}=[q_1,\\; q_2,\\;...\\;q_n]^T$ the vector of coordinates of the robot, and as $\\overline{Z}=[P_{X},\\; P_{Y},\\; P_{Z},\\; \\phi,\\; \\theta,\\; \\psi]^T$ the vector of Cartesian coordinates of the end-effector, the inverse geometric model (IGM) is represented by a system of equations that construct the dependence $\\overline{q}=f(\\overline{Z})$."
   ]
  },
  {
   "cell_type": "markdown",
   "metadata": {},
   "source": [
    "We need to determine the inverse geometric model since the trajectories of the robotic arm are described in Cartesian coordinates, while the robot is driven by the motor joints and is therefore described in the joint coordinates. The inverse geometric model is determined based either on the direct geometric model, on heuristic methods (e.g. for simple structures), on iterative methods (e.g. for more complicated structures), or on geometric methods. It is possible to determine either the particular solution of a model or a general method (analytic) solution thereof. Applying heuristic methods is convenient but does not guarantee a unique solution. Thus, two people who use this method to solve the same problem can reach a different solution (although equivalent)."
   ]
  },
  {
   "cell_type": "markdown",
   "metadata": {},
   "source": [
    "Another problem with the determination of the IGM, is the redundancy of the manipulator. A manipulator is said to be redundant when it is able to reach a specific position and orientation under two or more different configurations of its kinematic chain. This translates mathematically in two or more solutions of the IGM and is linked with the appearance of specific mathematical functions, such as the square root or the cosine, which give usually two solutions: a negative and a positive one.\n"
   ]
  },
  {
   "cell_type": "markdown",
   "metadata": {},
   "source": [
    "For example, in figure 4.1 we present a redundant manipulator with two degrees of freedom, and two configurations of its kinematic chain that generate the same position of its end-effector.\n",
    "\n",
    "<center>\n",
    "    <figure class=\"image\">\n",
    "      <img src=\"artwork/IKM/mgi1.png\"  width=40% />\n",
    "      <figcaption>Figure 4.1: Redundant manipulator</figcaption>\n",
    "    </figure>\n",
    "</center>"
   ]
  },
  {
   "cell_type": "markdown",
   "metadata": {},
   "source": [
    "The choice of one over the other solution depends on external restrictions and on the construction elements of the robot. However, once a solution has been chosen, it should be used with continued consistency to avoid unnecessary displacement of the robot between the two configurations.\n"
   ]
  },
  {
   "cell_type": "markdown",
   "metadata": {},
   "source": [
    "### *Heuristic method for determining the IGM*"
   ]
  },
  {
   "cell_type": "markdown",
   "metadata": {},
   "source": [
    "__I__. We equate the homogeneous transformation matrices of the manipulator (direct geometric model) with the general homogeneous transformation matrix (\\ref{eq4.6}). If we are seeking a specific position, the homogeneous transformation matrix of the manipulator is equated with a matrix that describes this specific position.\n",
    "\n",
    "__II__. We inspect both matrices, observing if:\n",
    "    \n",
    "        a. there are elements that contain only one variable\n",
    "        b. there are pairs of elements that can produce expressions with a single variable after a division. We especially \n",
    "        use divisions that produce an arctan function.\n",
    "        c. there are combinations of elements that can be simplified using trigonometric identities.\n",
    "\n",
    "__III__. Once we select such an element, we equate it with its correspondent from the second matrix, and we solve the obtained equation.\n",
    "__IV__.  We repeat step __III__ until we solve all equations that contain elements identified in step __II__.\n",
    "\n",
    "__V__.  If we obtain redundant or unsatisfactory results, we try again starting from a different equation, keeping the solution aside for later use. We prefer to obtain solutions in function of the vector $P=[P_{X},\\; P_{Y},\\; P_{Z}]^T$  and not in function of the vectors $X$, $Y$ or $Z$, since this imposes in general position only and not orientation.\n",
    "\n",
    "__VI__.  If we cannot identify all the robot joint coordinates, we pre-multiply both parts of the equation with the inverse transformation matrix of the first kinematic joint, obtaining a new set of equations. Alternatively we can try post-multiplication of both parts of the equation with the transformation matrix of the last kinematic joint.\n",
    "\n",
    "__VII__. We repeat steps __II - VI__ until we obtain all the solutions or until we exhaust all the pre- or post-multiplication matrices.\n",
    "\n",
    "__VIII__.  If we cannot obtain a suitable solution for a variable, we can consider one of the solutions obtained in step __V__.\n",
    "\n",
    "__IX__.  If we cannot obtain a solution for one of the variables, it means that the manipulator cannot reach the respective position (it is outside of the space of operation of the robot)\n"
   ]
  },
  {
   "cell_type": "markdown",
   "metadata": {},
   "source": [
    "For example, for the manipulator with two degrees of freedom from fig4.2 we can write the direct geometric model as:\n",
    "\n",
    "\n",
    "<center>\n",
    "    <figure class=\"image\">\n",
    "      <img src=\"artwork/IKM/mgi2.png\"  width=40% />\n",
    "      <figcaption>Figure 4.2: Robt RR</figcaption>\n",
    "    </figure>\n",
    "</center>\n"
   ]
  },
  {
   "cell_type": "markdown",
   "metadata": {},
   "source": [
    "\n",
    "\\begin{equation}\n",
    "T_1=Rot(Z,q_1) = \\left[ {{\\begin{array}{*{20}c}\n",
    " {c_1 } & { - s_1 } & 0 & 0 \\\\\n",
    " {s_1 } & {c_1 } & 0 & 0  \\\\\n",
    " 0  & 0  & 1  & 0 \\\\\n",
    " 0  & 0  & 0  & 1 \\\\\n",
    "\\end{array} }} \\right]\n",
    "\\end{equation}\n",
    "\\begin{equation}\n",
    "T_2=Trans(Z,l1) = \\left[ {{\\begin{array}{*{20}c}\n",
    " 1  & 0  & 0  & 0 \\\\\n",
    " 0  & 1  & 0  & 0  \\\\\n",
    " 0  & 0  & 1  & l_1  \\\\\n",
    " 0  & 0  & 0  & 1  \\\\\n",
    "\\end{array} }} \\right]\n",
    "\\end{equation}\n",
    "\n",
    "\\begin{equation}\n",
    "T_3=Rot(Y,q_2) = \\left[ {{\\begin{array}{*{20}c}\n",
    " {c_2 } & 0 & s_2 & 0 \\\\\n",
    " 0 & 1 & 0 & 0  \\\\\n",
    " -s_2  & 0  & c_2  & 0 \\\\\n",
    " 0  & 0  & 0  & 1 \\\\\n",
    "\\end{array} }} \\right]\n",
    "\\end{equation}\n",
    "\n",
    "\\begin{equation}\n",
    "T_4=Trans(X,l_2) = \\left[ {{\\begin{array}{*{20}c}\n",
    " 1  & 0  & 0  & {l_2 }\\\\\n",
    " 0  & 1  & 0  & 0  \\\\\n",
    " 0  & 0  & 1  & 0  \\\\\n",
    " 0  & 0  & 0  & 1  \\\\\n",
    "\\end{array} }} \\right]\n",
    "\\end{equation}\n",
    "\n",
    "resulting in a direct geometric model in form:\n",
    "\\begin{equation}\n",
    "\\label{eq4.1}\n",
    "DGM = T = T_1 \\cdot T_2 \\cdot T_3 \\cdot T_4 = \\left[ {{\\begin{array}{*{20}c}\n",
    " {c_1\\cdot c_2 }  & { - s_1 }  & {c_1\\cdot s_2 }  & { c_1\\cdot c_2\\cdot l_2} \\\\\n",
    " {s_1\\cdot c_2 }  & {c_1 }  & {s_1\\cdot s_2 }  & { s_1\\cdot c_2\\cdot l_2}  \\\\\n",
    " { - s_2 }  & 0  & {c_2 }  & {l_1 - l_2\\cdot s_2 }  \\\\\n",
    " 0  & 0  & 0  & 1  \\\\\n",
    "\\end{array} }} \\right]\n",
    "\\end{equation}"
   ]
  },
  {
   "cell_type": "markdown",
   "metadata": {},
   "source": [
    "The determination of the inverse geometric model, assumes the equation of the direct transformation matrix ($T$) with the general matrix of a homogeneous transformation ($T_g$) (see also relation eq.1.12):"
   ]
  },
  {
   "cell_type": "markdown",
   "metadata": {},
   "source": [
    "\n",
    "\\begin{equation}\\label{eq4.6}\n",
    "T = T_{g}\n",
    "\\end{equation}\n",
    "\n",
    "\\begin{equation}\\label{eq4.7}\n",
    "\\left[ {{\\begin{array}{*{20}c}\n",
    " {c_1\\cdot c_2 }  & { - s_1 }  & {c_1\\cdot s_2 }  & { c_1\\cdot c_2\\cdot l_2} \\\\\n",
    " {s_1\\cdot c_2 }  & {c_1 }  & {s_1\\cdot s_2 }  & { s_1\\cdot c_2\\cdot l_2}  \\\\\n",
    " { - s_2 }  & 0  & {c_2 }  & {l_1 - l_2\\cdot s_2 }  \\\\\n",
    " 0  & 0  & 0  & 1  \\\\\n",
    "\\end{array} }} \\right]=\n",
    "\\left[ \\begin{array}{cccc}\n",
    " {X_X } & {Y_X } & {Z_X } & {P_X } \\\\\n",
    " {X_Y } & {Y_Y } & {Z_Y } & {P_Y } \\\\\n",
    " {X_Z } & {Y_Z } & {Z_Z } & {P_Z } \\\\\n",
    " 0 & 0 & 0  & 1 \\\\\n",
    "\\end{array} \\right]\n",
    "\\end{equation}"
   ]
  },
  {
   "cell_type": "markdown",
   "metadata": {},
   "source": [
    "\n",
    "For the determination of the joint coordinates vector of the robot $q=[q_1,\\; q_2]^T$ we construct a system of equations:\n",
    "\\begin{equation}\\label{mgi-eq3}\n",
    "\\left\\{ {{\\begin{array}{lll}\n",
    "{ c_1\\cdot c_2\\cdot l_2} & = & P_X\\\\\n",
    "{ s_1\\cdot c_2\\cdot l_2} & = & P_Y \\\\\n",
    "{l_1 - l_2\\cdot s_2 } & = & P_Z \\\\\n",
    "\\end{array} }} \\right.\n",
    "\\end{equation}\n",
    "\n",
    "\\begin{equation}\n",
    "\\frac{P_Y }{P_X } = \\frac{s_1 }{c_1 } \\;\\Longrightarrow \\;q_1 = \\arctan\\left({\\frac{P_Y }{P_X }} \\right)\n",
    "\\end{equation}"
   ]
  },
  {
   "cell_type": "markdown",
   "metadata": {},
   "source": [
    "For the determination of $q_2$ we resort to the pre-multiplication of both parts of the matrix equation (\\ref{eq4.7}) with the inverse of the transformation matrix of the first kinematic joint (step __VI__, obtaining a new set of equations:\n",
    "\n",
    "\\begin{equation}\n",
    "T_1^{ - 1} \\cdot T_1 \\cdot T_2 \\cdot T_3  \\cdot T_4= T_1^{ - 1} \\cdot T_g\n",
    "\\end{equation}"
   ]
  },
  {
   "cell_type": "markdown",
   "metadata": {},
   "source": [
    "\n",
    "\\begin{equation}\n",
    "\\left[ {{\\begin{array}{*{20}c}\n",
    " {c_2 }  & 0  & {s_2 }  & { c_2\\cdot l_2 }  \\\\\n",
    " 0  & 1  & 0  & 0  \\\\\n",
    " { - s_2 }  & 0  & {c_2 }  & {l_1 - l_2\\cdot s_2 }  \\\\\n",
    " 0  & 0  & 0  & 1  \\\\\n",
    "\\end{array} }} \\right] =\n",
    "\\\n",
    "\\\n",
    " \\left[ {{\\begin{array}{*{20}c}\n",
    " {X_X\\cdot c_1 + X_Y\\cdot s_1 }  & {Y_X\\cdot c_1 + Y_Y\\cdot s_1 }  & {Z_X\\cdot c_1 + Z_Y\\cdot s_1 }  & {P_X\\cdot c_1 + P_Y\\cdot s_1 }  \\\\\n",
    " {X_Y\\cdot c_1 - X_X\\cdot s_1 }  & {Y_Y\\cdot c_1 - Y_X\\cdot s_1 }  & {Z_Y\\cdot c_1 - Z_X\\cdot s_1 }  & {P_Y \\cdot c_1 - P_X\\cdot s_1 }  \\\\\n",
    " {X_Z }  & {Y_Z }  & {Z_Z }  & {P_Z }  \\\\\n",
    " 0  & 0  & 0  & 1  \\\\\n",
    "\\end{array} }} \\right]\n",
    "\\end{equation}\n"
   ]
  },
  {
   "cell_type": "markdown",
   "metadata": {},
   "source": [
    "resulting in the system\n",
    "\n",
    "\\begin{equation}\n",
    " \\left\\{ {{\\begin{array}{lll}\n",
    "  c_2 \\cdot l_2 & = & P_X\\cdot c_1 + P_Y\\cdot s_1 \\\\\n",
    "  s_2\\cdot l_2& = & l_1 - P_Z \\\\\n",
    "\\end{array} }} \\right.\n",
    "\\end{equation}\n",
    "\n",
    "\\begin{equation}\n",
    "\\frac{l_1 - P_Z }{P_X\\cdot c_1 + P_Y\\cdot s_1 }  = \\frac{s_2 }{c_2 } \\;\\Longrightarrow\\;\n",
    " q_2 = \\arctan\\left( {\\frac{l_1 - P_Z }{P_X \\cdot c_1 + P_Y\\cdot s_1 }} \\right)\n",
    "\\end{equation}"
   ]
  },
  {
   "cell_type": "markdown",
   "metadata": {},
   "source": [
    "### 4.2. Robopy library"
   ]
  },
  {
   "cell_type": "markdown",
   "metadata": {},
   "source": [
    "In the previous laboratory, we saw how to define links and how to combine them\n",
    "into a robotic structure, using the __Revolute__, __Prismatic__ and __SerialLink__ commands. We also saw how to calculate the end effector position and orientation using the __fkine__ and how to visualise the robot using the\n",
    "__plot__ commands.\n",
    "\n",
    "The toolbox has a lot of useful commands for solving the inverse kinematics\n",
    "model as well. In the examples above, it is easy to calculate the inverse\n",
    "kinematics models by hand, but for more complex robots, we need to solve it\n",
    "numerically. \n",
    "\n",
    "The toolbox can do this using the __ikine__ command (from inverse kinematics). The command works by providing a desired end-effector pose (position and orientation) and gives back the joint coordinates the result in\n",
    "the desired pose. As we know, the inverse kinematics model might have more than just one solution\n",
    "for a specific pose. The way numerical methods work, they start looking for a\n",
    "solution around a specific set of joint coordinates, and slowly converge to the\n",
    "joint coordinates that result in the desired pose. To assist the algorithm, we\n",
    "might want to provide an initial guess for the joint coordinates."
   ]
  },
  {
   "cell_type": "code",
   "execution_count": 12,
   "metadata": {},
   "outputs": [
    {
     "name": "stdout",
     "output_type": "stream",
     "text": [
      "q we expect  [[1.5 2.9]]\n",
      "q computed by function is  [[1.50000014 2.89999992]]\n",
      "q we expect  [[1.5 2.9]]\n",
      "q computed by function with initial guess is [[1.50000002 2.9       ]]\n"
     ]
    }
   ],
   "source": [
    "# 4.2.1\n",
    "# example of use-case\n",
    "\n",
    "from robopy import *\n",
    "from robopy import serial_link as sl\n",
    "import math as m\n",
    "\n",
    "q1, q2 = 0, 0\n",
    "l1, l2 = 1, 1\n",
    "qlim   = [0,m.pi] \n",
    "offset = 0\n",
    "\n",
    "# create the robot\n",
    "#  theta, d, r , alpha, offset, qlim, mdh\n",
    "L1 = sl.Revolute(q1, l1, 0,       0, offset, qlim, mdh=1)\n",
    "L2 = sl.Revolute(q2, 0,  0,  m.pi/2, offset, qlim, mdh=1)\n",
    "bot = SerialLink([L1,L2], name = '2DOF example', tool = trotx(m.pi/2)*transl(l2,0,0))\n",
    "\n",
    "# test the ikine \n",
    "q_dummy  = np.matrix([[1.5, 2.9]])\n",
    "T_dummy  = bot.fkine(q_dummy)\n",
    "q_comp   = bot.ikine(T_dummy)\n",
    "print('q we expect ', q_dummy)\n",
    "print('q computed by function is ', q_comp)\n",
    "\n",
    "#you can also input an initial guess q0 and the unit for the angles\n",
    "q_comp2 = bot.ikine(T_dummy, q0=[1.0, 2.2], unit='rad')\n",
    "print('q we expect ', q_dummy)\n",
    "print('q computed by function with initial guess is', q_comp2)\n",
    "\n",
    "# visualising the pose \n",
    "# bot.plot(q_dummy, unit = 'rad')"
   ]
  },
  {
   "cell_type": "markdown",
   "metadata": {},
   "source": [
    "We can solve the inverse kinematics model not just for a specific pose, but for\n",
    "a series of different poses. If our variable containing the desired pose is an\n",
    "array of $4 \\times 4 \\times N $, then the __ikine__ command will solve the\n",
    "inverse kinematics for N different poses. To generate a series of poses starting\n",
    "from an initial pose $ T_1 $ until a final pose $ T_2 $, in e.g. 50 steps, we\n",
    "can use the __ctraj__ command. \n",
    "The result will be an array of $ N \\times M $, where M is the number of joint\n",
    "coordinates. We can finally feed the result into the __plot__ command to\n",
    "visualise the robot's motion from pose $ T_1 $ until pose $ T_2 $."
   ]
  },
  {
   "cell_type": "code",
   "execution_count": null,
   "metadata": {},
   "outputs": [],
   "source": [
    "# 4.2.2\n",
    "# example of use-case\n",
    "\n",
    "from robopy import *\n",
    "from robopy import serial_link as sl\n",
    "import math as m\n",
    "\n",
    "q1, q2 = 0, 0\n",
    "l1, l2 = 1, 1\n",
    "qlim   = [0, m.pi] \n",
    "offset = 0\n",
    "\n",
    "#  theta, d, r , alpha, offset, qlim, mdh\n",
    "L1 = sl.Revolute(q1, l1, 0,       0, offset, qlim, mdh=1)\n",
    "L2 = sl.Revolute(q2, 0,  0,  m.pi/2, offset, qlim, mdh=1)\n",
    "\n",
    "bot = SerialLink([L1,L2], name = '2DOF example', tool = trotx(m.pi/2)*transl(l2,0,0))\n",
    "\n",
    "# start and end pose\n",
    "T1  = np.matrix([[1,0,0,0],[0,1,0,0],[0,0,1,2],[0,0,0,1]])\n",
    "T2  = np.matrix([[0,-0.7,-0.7,-0.7],[0,0.7,-0.7,-0.7],[1,0,0,1],[0,0,0,1]])\n",
    "\n",
    "steps = 3\n",
    "tr    = ctraj(T1,T2,steps)\n",
    "\n",
    "# the joints' coordinates of the robot for each step\n",
    "manyq = []\n",
    "[manyq.append(bot.ikine(tr._list[i])) for i in range(0,steps)]\n",
    "print(manyq)\n",
    "\n",
    "\n"
   ]
  },
  {
   "cell_type": "markdown",
   "metadata": {},
   "source": [
    "In this example we'll see how to use the robopy library to animate the puma560. "
   ]
  },
  {
   "cell_type": "code",
   "execution_count": 12,
   "metadata": {},
   "outputs": [],
   "source": [
    "# example 4.2.3\n",
    "import numpy as np\n",
    "from robopy import *\n",
    "from robopy import serial_link\n",
    "\n",
    "p = Puma560()\n",
    "\n",
    "# np.linspace(1, -180, 500) -> evenly spaced numbers over the interval [1, -180] for 500 iterations\n",
    "# .T -> transpose of the new matrix of dimensions (1,500)\n",
    "\n",
    "a = np.asmatrix(np.linspace(1, -180, 500)).T\n",
    "b = np.asmatrix(np.linspace(1, 180, 500)).T\n",
    "c = np.asmatrix(np.linspace(1, 90, 500)).T\n",
    "d = np.asmatrix(np.linspace(1, 450, 500)).T\n",
    "e = np.asmatrix(np.zeros((500, 1)))\n",
    "f = np.concatenate((d, b, a, e, c, d), axis=1) # concatenate by column\n",
    "\n",
    "p.animate(stances=f, frame_rate=30, unit='deg')\n"
   ]
  },
  {
   "cell_type": "markdown",
   "metadata": {},
   "source": [
    "For a better lockdown of the DGM and IKM, the next examples show how the change in the joints' angle affects the end effector position and then the other way around. You learned how using the forward kinematics we can have joints' position as inputs and the end-effector position as output. The first example shows that dependency. The second example has as input the end-effector final position and shows how the joints should be positioned. Can you use the whole range?\n"
   ]
  },
  {
   "cell_type": "code",
   "execution_count": null,
   "metadata": {
    "code_folding": []
   },
   "outputs": [],
   "source": [
    "# example 4.2.4\n",
    "from lab4_functions import see_end_effector\n",
    "import math\n",
    "from ipywidgets import interact, interactive, fixed, interact_manual\n",
    "\n",
    "deg = math.pi/2\n",
    "interact_manual(see_end_effector, q1=(-deg,deg), q2=(-deg,deg), q3=(-deg,deg), \n",
    "                q4=(-deg,deg), q5=(-deg,deg), q6=(-deg,deg))\n",
    "      \n",
    "\n",
    "                      \n"
   ]
  },
  {
   "cell_type": "code",
   "execution_count": null,
   "metadata": {},
   "outputs": [],
   "source": [
    "# example 4.2.5\n",
    "from lab4_functions import see_joint_angles\n",
    "import math\n",
    "from ipywidgets import interact, interactive, fixed, interact_manual\n",
    "\n",
    "marg = 0.9\n",
    "interact_manual(see_joint_angles, Px = (-marg,marg), Py = (-marg,marg), Pz = (-marg, marg) )\n",
    "\n",
    "\n",
    "                      \n"
   ]
  },
  {
   "cell_type": "markdown",
   "metadata": {},
   "source": [
    "### 4.3. Proposed problems"
   ]
  },
  {
   "cell_type": "markdown",
   "metadata": {},
   "source": [
    "\n",
    "  1. We consider the robotic structure with 3 degrees of freedom from figure fig4.3, for which $l_1=0.5\\;m$.\n",
    "  \n",
    "\n",
    "  <center>\n",
    "    <figure class=\"image\">\n",
    "      <img src=\"artwork/IKM/mgi3.png\"  width=50% />\n",
    "      <figcaption>Figure 4.3: Robot RRT</figcaption>\n",
    "    </figure>\n",
    "</center>\n",
    "\n",
    "    a. Determine the direct geometric model.\n",
    "    b. Determine the inverse geometric model.\n",
    "  \n",
    "  2. We consider the robotic structure with 3 degrees of freedom from figure fig4.4, for which $ l_1 = 0.5\\;m, l_2 = l_3 = 0.2\\;m $.\n",
    "\n",
    "<center>\n",
    "    <figure class=\"image\">\n",
    "      <img src=\"artwork/IKM/mgi4.png\"  width=50% />\n",
    "      <figcaption>Figure 4.4: Robot TRR</figcaption>\n",
    "    </figure>\n",
    "</center>\n",
    "\n",
    "    a. Determine the robot parameters using the DH convention.\n",
    "    b. Construct the robot's model using the robotic toolbox.\n",
    "    c. Using the robotic toolbox, calculate the trajectory for the robot from\n",
    "      pose A to pose B.\n",
    "\n"
   ]
  },
  {
   "cell_type": "markdown",
   "metadata": {},
   "source": [
    "\n",
    "$ A = \\begin{bmatrix}  \n",
    "  0  & 0  & -1 & 0.1414 \\\\\n",
    "  0  & 1  & 0  & -0.3   \\\\\n",
    "  1  & 0  & 0  & 0.8414 \\\\\n",
    "  0  & 0  & 0  & 1 \n",
    "  \\end{bmatrix} $,  $ B = \\begin{bmatrix}  \n",
    "  -1 & 0  & 0  & 0.4 \\\\\n",
    "  0  & 1  & 0  & 0.2   \\\\\n",
    "  0  & 0  & -1 & 0.5 \\\\\n",
    "  0  & 0  & 0  & 1 \n",
    "\\end{bmatrix} $"
   ]
  },
  {
   "cell_type": "code",
   "execution_count": null,
   "metadata": {},
   "outputs": [],
   "source": []
  }
 ],
 "metadata": {
  "kernelspec": {
   "display_name": "Python 3",
   "language": "python",
   "name": "python3"
  },
  "language_info": {
   "codemirror_mode": {
    "name": "ipython",
    "version": 3
   },
   "file_extension": ".py",
   "mimetype": "text/x-python",
   "name": "python",
   "nbconvert_exporter": "python",
   "pygments_lexer": "ipython3",
   "version": "3.7.6"
  },
  "varInspector": {
   "cols": {
    "lenName": 16,
    "lenType": 16,
    "lenVar": 40
   },
   "kernels_config": {
    "python": {
     "delete_cmd_postfix": "",
     "delete_cmd_prefix": "del ",
     "library": "var_list.py",
     "varRefreshCmd": "print(var_dic_list())"
    },
    "r": {
     "delete_cmd_postfix": ") ",
     "delete_cmd_prefix": "rm(",
     "library": "var_list.r",
     "varRefreshCmd": "cat(var_dic_list()) "
    }
   },
   "types_to_exclude": [
    "module",
    "function",
    "builtin_function_or_method",
    "instance",
    "_Feature"
   ],
   "window_display": false
  }
 },
 "nbformat": 4,
 "nbformat_minor": 4
}

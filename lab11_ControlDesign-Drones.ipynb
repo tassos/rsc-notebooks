{
 "cells": [
  {
   "cell_type": "markdown",
   "metadata": {},
   "source": [
    "## Laboratory 11"
   ]
  },
  {
   "cell_type": "markdown",
   "metadata": {},
   "source": [
    "# Nonlinear Dynamical Model of a Quadrotor"
   ]
  },
  {
   "cell_type": "markdown",
   "metadata": {},
   "source": [
    "## 11.1 Introduction"
   ]
  },
  {
   "cell_type": "markdown",
   "metadata": {},
   "source": [
    "Flight dynamics can be modelled using the following two approaches: using the equation of energy conservation and the Euler-Lagrange formalism, or describing the movement (rotation and translation) of a rigid body in an inertial space, based on the Newton-Euler approach. The former procedure determines the translational dynamics in a simple way, however the rotational dynamics remains at a higher level of description. On the other hand, the Newton-Euler approach\n",
    "provides a complete relationship between rotor speed inputs and the translational and rotational dynamics\n",
    "of the vehicle.\n",
    "\n",
    "Modelling dynamics commonly starts from the assumption of a single-rigid-body representation. However, when focusing e.g. only on the kinematics of the vehicle, a point mass model is also enough. On the other hand, more complex architectures (e.g. flapping-wing) may require non-rigid-body models. Dealing with single-rigid-body models, it is also common to account for additional dynamics separately. Specific to multirotors and helicopters, propeller blade flapping and induced drag are taken further into consideration.\n",
    "\n",
    "Consider a Qadcopter Drone from Figure 11.1. The goal is to model and control the drone and test the results in simulations.\n",
    "\n"
   ]
  },
  {
   "cell_type": "markdown",
   "metadata": {},
   "source": [
    "<center>\n",
    "    <figure class=\"image\">\n",
    "      <img src=\"artwork/drone/0.PNG\" width=50% />\n",
    "      <figcaption>Figure 11.1: Parrot AR 2.0 Drone </figcaption>\n",
    "    </figure>\n",
    "</center>"
   ]
  },
  {
   "cell_type": "markdown",
   "metadata": {},
   "source": [
    "## 11.2 Basic notations and transformations"
   ]
  },
  {
   "cell_type": "markdown",
   "metadata": {},
   "source": [
    "Concerning remotely controlled vehicles, two basic coordinate systems are relevant: a reference frame $\\mathcal{E}$ , called Earth frame and the body frame $\\mathcal{B}$, the frame attached to the quadrotor. Earth frame $\\mathcal{E}$ is an inertial frame of reference with its origin fixed to the home location. The body frame $\\mathcal{B}$ is the coordinate system attached to the center of mass of the quadrotor, as shown in Fig.11.2: the axes indicate the ahead (x axis), to the left (y axis), and upwards (z axis) directions. The kinematics of the vehicle are presented in the Earth frame, whereas the dynamics are studied with respect to the body frame. Whenever the frame is relevant in case of a variable, it will be marked by superscripts like $(\\cdot)^E$ or $(\\cdot)^B$."
   ]
  },
  {
   "cell_type": "markdown",
   "metadata": {},
   "source": [
    "<center>\n",
    "    <figure class=\"image\">\n",
    "      <img src=\"artwork/drone/1.png\" width=60% />\n",
    "      <figcaption>Figure 11.2: Quadrotor model </figcaption>\n",
    "    </figure>\n",
    "</center>"
   ]
  },
  {
   "cell_type": "markdown",
   "metadata": {},
   "source": [
    "The pose of the vehicle in the Earth frame $\\mathcal{E}$ is defined as:\n",
    "\n",
    "\\begin{equation}\\label{pose}\n",
    "P^E = [\\xi^E, \\eta^E]^T = [x,y,z,\\phi, \\theta, \\psi]^T \\text{ (1)}\n",
    "\\end{equation}\n",
    "\n",
    "where $\\xi^E = [x, y, z]^T $ marks the position and $\\eta^E = [\\phi, \\theta, \\psi]^T$ the orientation. The orientation is expressed using the Euler angles roll ($\\phi$), pitch ($\\theta$), yaw ($\\psi$)."
   ]
  },
  {
   "cell_type": "markdown",
   "metadata": {},
   "source": [
    "The velocities of the quadrotor are defined in the body frame $\\mathcal{B}$:\n",
    "\n",
    "\\begin{equation}\\label{velocities}\n",
    "V^B = [\\rho^B, \\pi^B]^T = [u,v,w,p,q,r]^T \\text{ (2)}\n",
    "\\end{equation}"
   ]
  },
  {
   "cell_type": "markdown",
   "metadata": {},
   "source": [
    "To transform a vector defined in a frame into the another frame, the rotational matrix R can be used:\n",
    "\n",
    "\\begin{equation}\n",
    "R_B^E(\\eta)=\\begin{bmatrix}\n",
    "c(\\theta)c(\\psi) & c(\\psi)s(\\theta)s(\\phi) - c(\\phi)s(\\psi) & s(\\phi)s(\\psi) + c(\\phi)c(\\psi)s(\\theta) \\\\\n",
    "c(\\theta)s(\\psi) & c(\\phi)c(\\psi) + s(\\theta)s(\\phi)s(\\psi) & c(\\phi)s(\\theta)s(\\psi) - c(\\psi)s(\\phi) \\\\\n",
    "-s(\\theta) & c(\\theta)s(\\phi)  & c(\\theta)c(\\phi)\n",
    "\\end{bmatrix} \\text{ (3)}\n",
    "\\end{equation}\n",
    "\n",
    "\n",
    "where $s(\\cdot)$ and $c(\\cdot)$ are shorthand notations for the sine and cosine operators, and $R_B^E$ marks that the rotation is performed from body frame to Earth frame. However, since R is an orthogonal matrix, we have the property that $R^{-1} = R^T$ , due to which the transpose of $R_B^E$ is  $R_E^B$."
   ]
  },
  {
   "cell_type": "markdown",
   "metadata": {},
   "source": [
    "The relationship between velocities $\\rho^B$ and $\\dot{\\xi}^E$ can be written using $R_B^E$:\n",
    "\n",
    "\n",
    "\\begin{equation}\\label{rhoandxi}\n",
    "\\dot{\\xi}^E = R_B^E \\cdot \\rho^B \\text{ (4)}\n",
    "\\end{equation}"
   ]
  },
  {
   "cell_type": "markdown",
   "metadata": {},
   "source": [
    "To relate angular velocities $\\pi^B$ and $\\dot{\\eta}^E$, one can use the inverse of the translational matrix T:\n",
    "\n",
    "\\begin{equation}\n",
    "T_E^B(\\eta)=\\begin{bmatrix}\n",
    "1 & 0 & -s(\\theta) \\\\\n",
    "0 & c(\\phi) & c(\\theta)s(\\phi) \\\\\n",
    "0 & -s(\\phi)  & c(\\theta)c(\\phi)\n",
    "\\end{bmatrix} \\text{ (5)}\n",
    "\\end{equation}"
   ]
  },
  {
   "cell_type": "markdown",
   "metadata": {},
   "source": [
    "Since $T_E^B$ is not orthogonal, calculating its inverse one obtains\n",
    "\n",
    "\\begin{equation}\n",
    "T_B^E(\\eta)=\\begin{bmatrix}\n",
    "1 & s(\\phi)t(\\theta) & c(\\phi)t(\\theta) \\\\\n",
    "0 & c(\\phi) & -s(\\phi) \\\\\n",
    "0 & -s(\\phi)c(\\theta)  & c(\\phi)/c(\\theta)\n",
    "\\end{bmatrix} \\text{ (6)}\n",
    "\\end{equation}\n",
    "\n",
    "where $t(\\cdot)$ denotes the tangent operator. Then, we have:\n",
    "\n",
    "\\begin{equation}\\\n",
    "\\dot{\\eta}^E = T_B^E \\cdot \\pi^B \\text{ (7)}\n",
    "\\end{equation}"
   ]
  },
  {
   "cell_type": "markdown",
   "metadata": {},
   "source": [
    "Note that if working with small angles, i.e. in near-hovering mode of the quadrotor, matrix T can be simplified to the identity matrix, which makes $\\dot{\\eta}^E = \\pi^B$"
   ]
  },
  {
   "cell_type": "markdown",
   "metadata": {},
   "source": [
    "## 11.3 Quadrotor dynamics. Euler-Lagrange approach"
   ]
  },
  {
   "cell_type": "markdown",
   "metadata": {},
   "source": [
    "The dynamical model that we present builds upon the near-hovering behaviour of a quadrotor. Also, the quadrotor is modelled as a single rigid body, having a symmetrical structure, with the origin of the body frame in the center of gravity. Furthermore, the propellers are assumed to be rigid objects."
   ]
  },
  {
   "cell_type": "markdown",
   "metadata": {},
   "source": [
    "The Euler-Lagrange approach starts with defining the Lagrangian of the quadrotor. Using vectors $P^E$, $\\xi^E$ and $\\eta^E$ from (1), the Lagrangian of a quadrotor can be written as\n",
    "\n",
    "\\begin{equation}\\\n",
    "L(P^E,\\dot{P^E}) = E_{transl} + E_{rot} - E_{pot} = 0.5m\\dot{\\xi}^T\\dot{\\xi} + 0.5\\dot{\\eta}^TJ(\\eta)\\dot{\\eta}+mgz       \\text{ (8)}\n",
    "\\end{equation}\n"
   ]
  },
  {
   "cell_type": "markdown",
   "metadata": {},
   "source": [
    "with the three terms the total translational, rotational and potential (gravitational) energy acting on the\n",
    "quadrotor, and $J$ the inertia matrix with respect to the Euler angles $\\eta$:\n",
    "\n",
    "\\begin{equation}\n",
    "J(\\eta)=T_E^B(\\eta)^T\\begin{bmatrix}\n",
    "Ixx & 0 & 0 \\\\\n",
    "0 & Iyy & 0 \\\\\n",
    "0 & 0  & Izz\n",
    "\\end{bmatrix}T_E^B(\\eta) = \\begin{bmatrix}\n",
    "I_x & 0 & -I_xs(\\theta) \\\\\n",
    "0 & I_yc^2(\\phi)+I_zs^2(phi) & (I_y - I_z)c(\\phi)s(phi)c(theta) \\\\\n",
    "-I_xs(\\theta) & (I_y - I_z)x(\\phi)s(phi)c(theta) &  I_xs^2(\\theta)+I_ys^2(phi)c^2(theta)+I_zc^2(phi)c^2(theta)\n",
    "\\end{bmatrix}  \\text{ (9)}\n",
    "\\end{equation}\n"
   ]
  },
  {
   "cell_type": "markdown",
   "metadata": {},
   "source": [
    "Ix,Iy and Iz are the moments of inertia corresponding to each axis, and $T_E^B$ is the translational matrix from frame $\\mathcal{E}$ to frame $\\mathcal{B}$."
   ]
  },
  {
   "cell_type": "markdown",
   "metadata": {},
   "source": [
    "The dynamic equations of motion can be formulated using the Euler-Lagrange equation:\n",
    "\n",
    "\\begin{equation}\n",
    "\\frac{d}{dt}\\frac{\\partial L}{\\partial \\dot{P^E}}-\\frac{\\partial L}{\\partial P^E}=\\begin{bmatrix}\n",
    "F_{transl} \\\\\n",
    "F_{rot} \n",
    "\\end{bmatrix} \\text{ (10)}\n",
    "\\end{equation}"
   ]
  },
  {
   "cell_type": "markdown",
   "metadata": {},
   "source": [
    "with $F_{transl}$ the translational and Frot rotational forces acting on the quadrotor. Now, as there are no cross terms between the translational and rotational parts in the above relation, using the definition of the Lagrangian, (10) can be decomposed in the following two relations:\n",
    "\n",
    "\\begin{equation}\n",
    "F_{transl} = \\frac{d}{dt}\\frac{\\partial (E_{transl}-E_{pot})}{\\partial \\dot{P^E}}-\\frac{\\partial (E_{transl}-E_{pot})}{\\partial P^E} \\text{ (11)}\n",
    "\\end{equation}\n",
    "\n",
    "\\begin{equation}\n",
    "F_{rot} = \\frac{d}{dt}\\frac{\\partial E_{rot}}{\\partial \\dot{P^E}}-\\frac{\\partial E_{rot}}{\\partial P^E} \\text{ (12)}\n",
    "\\end{equation}"
   ]
  },
  {
   "cell_type": "markdown",
   "metadata": {},
   "source": [
    "which after some mathematical operations results in:\n",
    "\n",
    "\\begin{equation}\n",
    "F_{transl} = m\\ddot{\\xi} + \\begin{bmatrix}\n",
    "0 \\\\\n",
    "0 \\\\\n",
    "mg\n",
    "\\end{bmatrix}   \\text{ (13)}\n",
    "\\end{equation}\n",
    "\n",
    "\\begin{equation}\n",
    "F_{rot} = J(\\eta)\\ddot{\\eta} + \\dot{J}(\\eta)\\dot{\\eta} - 0.5 \\frac{d}{d\\eta}(\\dot{\\eta}^TJ(\\eta)\\dot{\\eta}) = J(\\eta)\\ddot{\\eta} + C(\\eta, \\dot{\\eta})\\dot{\\eta}  \\text{ (14)}\n",
    "\\end{equation}\n",
    "\n"
   ]
  },
  {
   "cell_type": "markdown",
   "metadata": {},
   "source": [
    "where $C(\\eta, \\dot{\\eta})$ denotes the Coriolis term in the rotational dynamics, and can be expressed as:\n",
    "\n",
    "\\begin{equation}\n",
    "C(\\eta, \\dot{\\eta})=\\begin{bmatrix}\n",
    "c_{11} & c_{12} & c_{13} \\\\\n",
    "c_{21} & c_{22} & c_{23} \\\\\n",
    "c_{31} & c_{32} & c_{33}\n",
    "\\end{bmatrix}  \\text{ (15)}\n",
    "\\end{equation}"
   ]
  },
  {
   "cell_type": "markdown",
   "metadata": {},
   "source": [
    "with system of equations $(16)$:\n",
    "\n",
    "\\begin{equation}\\\n",
    "c_{11} = 0 \n",
    "\\end{equation} \n",
    "\n",
    "\\begin{equation}\\\n",
    "c_{12} = (I_y - I_z)\\dot{\\theta}c(\\phi)s(\\phi) + \\dot(\\psi)s^2(\\phi)c(\\theta) + (I_z - I_y)\\dot{\\psi}c^2(\\phi)c(\\theta) - I_x\\dot{\\psi}c(\\theta)\n",
    "\\end{equation} \n",
    "\n",
    "\\begin{equation}\\\n",
    "c_{13} = (I_z - I_y)\\dot{\\psi}c^2(\\theta)s(\\phi)c(\\phi)\n",
    "\\end{equation} \n",
    "\n",
    "\\begin{equation}\\\n",
    "c_{21} = (I_z - I_y)\\dot{\\theta}s(\\phi)c(\\phi) + \\dot{\\psi}s^2(\\phi)c(\\theta) + (I_y - I_z)\\dot{\\psi}c^2(\\phi)c(\\theta) + I_x\\dot{\\psi}c(\\theta)\n",
    "\\end{equation} \n",
    "\n",
    "\\begin{equation}\\\n",
    "c_{22} =  (I_z - I_y)\\dot{\\phi}c^2(\\phi)s(\\phi) \n",
    "\\end{equation} \n",
    "\n",
    "\\begin{equation}\\\n",
    "c_{23} = -I_x\\dot{\\psi}s(\\theta)c(\\theta) + I_y\\dot{\\psi}s^2(\\phi)s(\\theta)c(\\theta) + I_z\\dot{\\psi}c^2(\\phi)c(\\theta)\n",
    "\\end{equation} \n",
    "\n",
    "\\begin{equation}\\\n",
    "c_{31} = (I_y - I_z)\\dot{\\psi}c^2(\\theta)s(\\phi)c(\\phi) - I_x\\dot{\\theta}c(\\theta)\n",
    "\\end{equation} \n",
    "\n",
    "\\begin{equation}\\\n",
    "c_{32} = (I_z - I_y)(\\dot{\\theta}s(\\phi)c(\\phi)s(\\theta) + \\dot(\\psi)s^2(\\phi)c(\\theta)) + (I_y - I_z)\\dot{\\psi}c^2(\\phi)c(\\theta) + I_x\\dot{\\psi}s(\\theta)c(\\theta) - I_y\\dot{\\psi}s^2(\\phi)s(\\theta)c(\\theta) - I_z\\dot{\\psi}c^2(\\phi)s(\\theta)c(\\theta)\n",
    "\\end{equation} \n",
    "\n",
    "\\begin{equation}\\\n",
    "c_{33} = (I_y - I_z)\\dot{\\psi}c^2(\\theta)s(\\phi)c(\\phi) + I_x\\dot{\\theta}s(\\theta)c(\\theta) - I_y\\dot{\\theta}s^2(\\phi)s(\\theta)c(\\theta) - I_z\\dot{\\theta}c^2(\\phi)s(\\theta)c(\\theta)\n",
    "\\end{equation} \n",
    "\n"
   ]
  },
  {
   "cell_type": "markdown",
   "metadata": {},
   "source": [
    "Now, for modelling the near-hovering operation, the translational forces can be\n",
    "summarized as $F_{transl} = R_B^E \\cdot [0,0,U_{coll}]^T$ . On the other hand, $F_{rot} = [U_{\\phi}, U_{\\theta}, U_{\\psi}]$. From these relations, the dynamics of the quadrotor in near-hovering operation can be summarized as:\n",
    "\n",
    "$$\\begin{equation}\n",
    "\\left\\{ \n",
    "  \\begin{aligned}\n",
    "    \\ddot{x} = [c(\\phi)s(\\theta)c(\\psi) + s(\\phi)s(\\psi)]\\frac{U_{coll}}{m}\\\\\n",
    "    \\ddot{y} = [c(\\phi)s(\\theta)s(\\psi) - s(\\phi)c(\\psi)]\\frac{U_{coll}}{m}\\\\\n",
    "    \\ddot{z} = -g +c(\\phi)c(\\theta)\\frac{U_{coll}}{m}\\\\\n",
    "    \\begin{bmatrix}\n",
    "\\ddot{\\phi} \\\\\n",
    "\\ddot{\\theta} \\\\\n",
    "\\ddot{\\psi}\n",
    "\\end{bmatrix} = J^{-1}(\\eta)\\begin{bmatrix}\n",
    "U_{\\phi} \\\\\n",
    "U_{\\theta} \\\\\n",
    "U_{\\psi}\n",
    "\\end{bmatrix} - J^{-1}(\\eta)C(\\eta, \\dot{\\eta})\\dot{\\eta} \\\\\n",
    "  \\end{aligned}\n",
    "  \\right.\n",
    "\\end{equation} \\text{ (17)}\n",
    "$$"
   ]
  },
  {
   "cell_type": "markdown",
   "metadata": {},
   "source": [
    "This model can be simplified considering that the near-hovering operation means small variations of angle $\\alpha$, thus $sin(\\alpha) = \\alpha$ and $cos(\\alpha) = 1$. Also, $U_{coll}$can be expressed as $U_{coll} = mg + \\Delta U_{coll}$ where the variation of the collective forces is also assumed to be small. Thus, (17) can be simplified as:\n",
    "\n",
    "\n",
    "$$\\begin{equation}\n",
    "\\left\\{ \n",
    "  \\begin{aligned}\n",
    "    \\ddot{x} = \\theta g\\\\\n",
    "    \\ddot{y} = -\\phi g\\\\\n",
    "    \\ddot{z} = \\frac{\\Delta{U_{coll}}}{m}\\\\\n",
    "    \\ddot{\\phi}   = \\frac{1}{I_x}U_{\\phi}\\\\\n",
    "    \\ddot{\\theta} = \\frac{1}{I_y}U_{\\theta}\\\\\n",
    "    \\ddot{\\psi}   = \\frac{1}{I_z}U_{\\psi}\n",
    "  \\end{aligned}\n",
    "  \\right.\n",
    "\\end{equation} \\text{ (18)}\n",
    "$$\n"
   ]
  },
  {
   "cell_type": "markdown",
   "metadata": {},
   "source": [
    "##  11.4 Achieving flight"
   ]
  },
  {
   "cell_type": "markdown",
   "metadata": {},
   "source": [
    "The dynamical model of a quadrotor accounts for inputs resulting from the forces and torques acting on the vehicle. In other words, the model takes as inputs the yawing, pitching and rolling of the quadrotor, and the collective lifting force. The relation between these inputs and individual motor torques and forces depends on the platform configuration in use. \n",
    "\n",
    "Quadrotors are commonly modelled using one of the two configurations presented in Fig. 11.3: “plus” configuration, when the quadrotor arms are aligned with the x and y axes; and “cross” configuration, when the quadrotor is rotated with 45° around the z axis compared to the previous configuration. Both configurations are valid and in use. The latter one is preferred when an ahead-looking camera is mounted on the cross, because the forward direction corresponds to the view direction of the camera. \n",
    "\n",
    "Motor numberings and corresponding angular velocities, marked with $\\omega_i$, are presented in Fig 11.3"
   ]
  },
  {
   "cell_type": "markdown",
   "metadata": {},
   "source": [
    "<center>\n",
    "    <figure class=\"image\">\n",
    "      <img src=\"artwork/drone/2.png\" width=100% />\n",
    "      <figcaption>Figure 11.3: Quadrotor configuration: plus(left) and cross(right) </figcaption>\n",
    "    </figure>\n",
    "</center>"
   ]
  },
  {
   "cell_type": "markdown",
   "metadata": {},
   "source": [
    "Define the forces and torques acting on each rotor as:\n",
    "\n",
    "\\begin{equation}\\\n",
    "F_i = b \\cdot \\omega_i^2  \\text{ (19)}\n",
    "\\end{equation}  \n",
    "\n",
    "\\begin{equation}\\\n",
    "\\tau_i = d \\cdot \\omega_i^2 \\text{ (20)}\n",
    "\\end{equation}  \n",
    "\n",
    "\n",
    "with $b$ the thrust coefficient, $d$ the drag coefficient, and $i$ the index of the rotor. Both the forces and torques act upwards along the z axis."
   ]
  },
  {
   "cell_type": "markdown",
   "metadata": {},
   "source": [
    "For both configurations, vertical displacement results from the collective force generated by the rotors, achieved with $\\omega_1 = \\omega_2 = \\omega_3 = \\omega_4$. Depending on the magnitude of the generated forces compared to gravity, the quadrotor can be lifted, landed or kept hovering. \n",
    "\n",
    "All the rotations result from the generated torques. Yaw rotation (changing angle $\\psi$) results from the sum of the torques, and is achieved by having $\\omega_1 = \\omega_3$ and $\\omega_2 = \\omega_4$. In most cases of near hovering flights, the flight direction is altered by controlling the yaw angle of the vehicle."
   ]
  },
  {
   "cell_type": "markdown",
   "metadata": {},
   "source": [
    "In the plus configuration, horizontal displacement on the $x$ axis can be achieved by pitch rotation (changing angle $\\theta$), which results from keeping $\\omega_1 = \\omega_3$ and setting $\\omega_2 \\neq \\omega_4$, i.e. a torque difference on rotors 2 and 4. For instance, having $\\omega_4 > \\omega_2$, the quadrotor will turn clockwise the $y$ axis. Keeping the new pitch angle constant, the quadrotor will start to fly along the $x$ axis. Displacement on the $y$ axis is obtained similarly, by performing roll rotation (changing angle $\\phi$), with $\\omega_2 = \\omega_4$ and $\\omega_1 \\neq \\omega_3$."
   ]
  },
  {
   "cell_type": "markdown",
   "metadata": {},
   "source": [
    "In the cross configuration, rolling is performed by setting $\\omega_1 = \\omega_4$  and $\\omega_2 = \\omega_3$, while pitching with $\\omega_1 = \\omega_2$ and $\\omega_3 = \\omega_4$. The $x$ and $y$ axes displacements are obtained accordingly, keeping a constant pitch (for $x$ displacement) or roll (for $y$ displacement) of the vehicle."
   ]
  },
  {
   "cell_type": "markdown",
   "metadata": {},
   "source": [
    "Summarizing these intuitive explanations, using eq(19) and eq(20) the control inputs of a quadrotor in plus configuration can be written as:\n",
    "\n",
    "\n",
    "$$\\begin{equation}\n",
    "\\left\\{ \n",
    "  \\begin{aligned}\n",
    "    U_{coll}   = F_1 + F_2 + F_3 + F_4\\\\\n",
    "    U_{\\phi}   = l(F_1 - F_3)\\\\\n",
    "    U_{\\theta} = l(F_2 - F_4)\\\\\n",
    "    U_{\\psi}   = \\tau_1 + \\tau_3 -\\tau_2 -\\tau_4\\\\\n",
    "  \\end{aligned}\n",
    "  \\right.\n",
    "\\end{equation} \\text{ (21)}\n",
    "$$\n",
    "\n",
    "\n",
    "\n",
    "where _l_ marks the distance between a rotor and the origin of frame $\\mathcal{B}$. In case of the plus configuration, the roll and pitch torques act on an arm of length $l \\cdot 1$.\n",
    "\n"
   ]
  },
  {
   "cell_type": "markdown",
   "metadata": {},
   "source": [
    "In the cross configuration, the inputs are defined as:\n",
    "\n",
    "$$\\begin{equation}\n",
    "\\left\\{ \n",
    "  \\begin{aligned}\n",
    "    U_{coll}   = F_1 + F_2 + F_3 + F_4\\\\\n",
    "    U_{\\phi}   = \\frac{\\sqrt{2}}{2}l(F_1 + F_4 - F_2 - F_3)\\\\\n",
    "    U_{\\theta} = \\frac{\\sqrt{2}}{2}l(F_1 - F_4 + F_2 - F_3)\\\\\n",
    "    U_{\\psi}   = \\tau_1 + \\tau_3 -\\tau_2 -\\tau_4\\\\\n",
    "  \\end{aligned}\n",
    "  \\right.\n",
    "\\end{equation} \\text{ (22)}\n",
    "$$\n",
    "\n",
    "\n",
    "Note that the roll and pitch torques act on an arm of $\\frac{\\sqrt{2}}{2}l$ due to the cross configuration."
   ]
  },
  {
   "cell_type": "markdown",
   "metadata": {},
   "source": [
    "In both configurations, the quadrotor is underactuated since the x and y axes displacement can be controlled only through rolling and pitching the vehicle. In other words, only four out of the six degrees of freedom of the vehicle are directly controllable."
   ]
  },
  {
   "cell_type": "markdown",
   "metadata": {},
   "source": [
    "## 11.5 AR.Drone parameters"
   ]
  },
  {
   "cell_type": "markdown",
   "metadata": {},
   "source": [
    "We intend to use the dynamical model for controlling the AR.Drone 2.0 quadrotor. The models introduced in the previous section require some parameters, namely: the moments of inertia of the quadrotor, thrust and drag coefficients, the mass of the vehicle and the length of the axes that connect and hold the rotors. The parameters are summarized from literature in Table 1."
   ]
  },
  {
   "cell_type": "markdown",
   "metadata": {},
   "source": [
    "<center>\n",
    "    <figure class=\"image\">\n",
    "      <img src=\"artwork/drone/tab1.PNG\" width=90% />\n",
    "      <figcaption>Table 1: Parrot AR.Drone 2.0 parameters</figcaption>\n",
    "    </figure>\n",
    "</center>"
   ]
  },
  {
   "cell_type": "markdown",
   "metadata": {},
   "source": [
    "The parameters depend on the actual quadrotor for which they were measured. In this context, the weight of the vehicle depends on the equipment used onboard. We measured the weight of two AR.Drone 2.0 quadrotors by measuring the major components. Results are shown in Table 2."
   ]
  },
  {
   "cell_type": "markdown",
   "metadata": {},
   "source": [
    "<center>\n",
    "    <figure class=\"image\">\n",
    "      <img src=\"artwork/drone/tab2.PNG\" width=90% />\n",
    "      <figcaption>Table 2: Parrot AR.Drone 2.0 parts weight measurements</figcaption>\n",
    "    </figure>\n",
    "</center>"
   ]
  },
  {
   "cell_type": "markdown",
   "metadata": {},
   "source": [
    "Looking at Table 2, one may notice minor differences in the vehicle fuselage and outdoor hull weights. The difference is greater in case of the batteries, where the 1500 mAh battery is somewhat heavier, as expected, than the weaker battery. The difference in the weight of the two indoor hulls appears due to\n",
    "the rebalancing performed with the second hull, repair that added some weight to the hull. Based on these measurements, using e.g. the first quadrotor with the indoor hull and the GPS module one gets a total weight of 0.503 kg."
   ]
  },
  {
   "cell_type": "markdown",
   "metadata": {},
   "source": [
    "### 11.5.1 Control inputs and platform inputs"
   ]
  },
  {
   "cell_type": "markdown",
   "metadata": {},
   "source": [
    "The control inputs of the dynamical model result from the forces and torques acting on the rotors. In terms, both the torques and forces are derived from the angular velocity of the propellers. Thus, to find the relationship between the control inputs and platform control commands, we need to relate propeller\n",
    "angular velocities and control commands sent to the quadrotor motors.\n",
    "\n",
    "According to the official product specifications, the motors are powered at P = 15 W, and have and RPM range between 10350 and 41400 RPM. Hovering is achieved at 28000 RPM. The motors of the AR.Drone 2.0 are commanded in PWM using control inputs $u_i$, defined in the range of 0–255. Thus, first we need to relate the input PWM values to the RPM of the motors. Denote the motor RPMs as $RPM_m$."
   ]
  },
  {
   "cell_type": "markdown",
   "metadata": {},
   "source": [
    "Assuming a linear relationship between RPMm and ui, we obtain the input constant $c = 41400/255 = 162.35$. In our laboratory setup we can check this ratio only for the hovering state, for which we obtain from the recorded navigation data an average control input of 175. Thus, 28000/175 = 160 which confirms the almost linear relationship between motor RPM and PWM control\n",
    "inputs. Since flight is achieved in near-hovering mode, very small inputs are not interesting. Thus, the hovering state ratio can be taken, i.e. we use the input constant $c = 160$. Then, for each motor $i$ one gets:\n",
    "\n",
    "\\begin{equation}\n",
    "RPM_m = x \\cdot u_i  \\text{ (23)}\n",
    "\\end{equation}"
   ]
  },
  {
   "cell_type": "markdown",
   "metadata": {},
   "source": [
    "As we are interested in the angular velocity of the propellers, the motor-propeller gear ratio has to be considered, which is 8:68 in case of the AR.Drone quadrotor:\n",
    "\n",
    "\\begin{equation}\n",
    "RPM_p = RPM_m \\cdot 8/68 \\text{ (24)}\n",
    "\\end{equation}"
   ]
  },
  {
   "cell_type": "markdown",
   "metadata": {},
   "source": [
    "where RPMp represents the RPM of the propellers. Converting RPM to angular velocity, we can write:\n",
    "\n",
    "\\begin{equation}\n",
    "\\omega_i = 2\\pi/60 \\cdot RPM_p \\text{ (25)}\n",
    "\\end{equation}"
   ]
  },
  {
   "cell_type": "markdown",
   "metadata": {},
   "source": [
    "Summarizing the above relations and replacing the known constants, finally one can write the direct relation between motor angular velocities and control inputs:\n",
    "\n",
    "\\begin{equation}\n",
    "\\omega_i = 1.9712 \\cdot u_i \\text{ (26)}\n",
    "\\end{equation}"
   ]
  },
  {
   "cell_type": "markdown",
   "metadata": {},
   "source": [
    "### 11.5.2 Saturation limits of control inputs"
   ]
  },
  {
   "cell_type": "markdown",
   "metadata": {},
   "source": [
    "Based on the motor RPM limits presented before, one can determine the angular velocity limits. Then, using the parameters from Table 1, the definition of forces and torques from literature, and the formulae of control inputs in cross configuration, presented, the minimum and maximum values of these inputs are summarized in Table 3."
   ]
  },
  {
   "cell_type": "markdown",
   "metadata": {},
   "source": [
    "<center>\n",
    "    <figure class=\"image\">\n",
    "      <img src=\"artwork/drone/tab3.PNG\" width=60% />\n",
    "      <figcaption>Table 3: Control inut limits </figcaption>\n",
    "    </figure>\n",
    "</center>"
   ]
  },
  {
   "cell_type": "markdown",
   "metadata": {},
   "source": [
    "### 11.5.3 Linear control"
   ]
  },
  {
   "cell_type": "markdown",
   "metadata": {},
   "source": [
    "Consider the model rewritten in nonlinear state space form:\n",
    "\n",
    "\\begin{equation}\n",
    "\\dot{\\mathbf{x}} = \\mathbf{f(x,u)} \\text{ (27)}\n",
    "\\end{equation}\n",
    "\n",
    "where the states and inputs are:\n",
    "\n",
    "\\begin{equation}\n",
    "\\mathbf{x} = [\\xi, \\eta, \\rho, \\pi]^T \\text{ (28)}\n",
    "\\end{equation}\n",
    "\n",
    "\\begin{equation}\n",
    "\\mathbf{u} = [U_{coll}, U_{\\phi}, U_{\\theta}, U_{\\psi}]^T \\text{ (29)}\n",
    "\\end{equation}\n"
   ]
  },
  {
   "cell_type": "markdown",
   "metadata": {},
   "source": [
    "Let the equilibrium point in hovering mode be $\\mathbf{x^e} = [x^e, y^e, z^e, 0,0,0,0,0,0,0,0,0]^T$ with inputs $\\mathbf{u} = [U_{coll}^e, 0, 0, 0]^T$\n",
    "\n",
    "The linearized model is obtained as:\n",
    "\n",
    "\n",
    "\\begin{equation}\n",
    "\\mathbf{\\dot{x}} = \\frac{\\partial \\mathbf{f}}{\\partial \\mathbf{x}}|_{(x^e, u^e)} \\cdot \\mathbf{x} + \\frac{\\partial \\mathbf{f}}{\\partial \\mathbf{u}}|_{(x^e, u^e)} \\cdot \\mathbf{u}  \\text{ (30)}\n",
    "\\end{equation}"
   ]
  },
  {
   "cell_type": "markdown",
   "metadata": {},
   "source": [
    "For the parameters of the drone the model can be written in state space as:\n",
    "\n",
    "\\begin{equation}\n",
    "\\dot{x} = Ax + Bu \\text{ (31)}\n",
    "\\end{equation}\n",
    "\n",
    "with \n",
    "\n",
    "\n",
    "\\begin{equation}\n",
    "A=\\begin{bmatrix}\n",
    "0 & 0 & 0 & 0    & 0   & 0 & 1 & 0 & 0 & 0 & 0 & 0 \\\\\n",
    "0 & 0 & 0 & 0    & 0   & 0 & 0 & 1 & 0 & 0 & 0 & 0 \\\\\n",
    "0 & 0 & 0 & 0    & 0   & 0 & 0 & 0 & 1 & 0 & 0 & 0 \\\\\n",
    "0 & 0 & 0 & 0    & 0   & 0 & 0 & 0 & 0 & 1 & 0 & 0 \\\\\n",
    "0 & 0 & 0 & 0    & 0   & 0 & 0 & 0 & 0 & 0 & 1 & 0 \\\\\n",
    "0 & 0 & 0 & 0    & 0   & 0 & 0 & 0 & 0 & 0 & 0 & 1 \\\\\n",
    "0 & 0 & 0 & 0    & 9.8 & 0 & 0 & 0 & 0 & 0 & 0 & 0 \\\\\n",
    "0 & 0 & 0 & -9.8 & 0   & 0 & 0 & 0 & 0 & 0 & 0 & 0 \\\\\n",
    "0 & 0 & 0 & 0    & 0   & 0 & 0 & 0 & 0 & 0 & 0 & 0 \\\\\n",
    "0 & 0 & 0 & 0    & 0   & 0 & 0 & 0 & 0 & 0 & 0 & 0 \\\\\n",
    "0 & 0 & 0 & 0    & 0   & 0 & 0 & 0 & 0 & 0 & 0 & 0 \\\\\n",
    "0 & 0 & 0 & 0    & 0   & 0 & 0 & 0 & 0 & 0 & 0 & 0 \\\\\n",
    "\\end{bmatrix}  \n",
    "\\end{equation}\n",
    "\n",
    "\\begin{equation}\n",
    "B=\\begin{bmatrix}\n",
    "0   & 0   & 0   & 0 \\\\\n",
    "0   & 0   & 0   & 0 \\\\\n",
    "0   & 0   & 0   & 0 \\\\\n",
    "0   & 0   & 0   & 0 \\\\\n",
    "0   & 0   & 0   & 0 \\\\\n",
    "0   & 0   & 0   & 0 \\\\\n",
    "0   & 0   & 0   & 0 \\\\\n",
    "0   & 0   & 0   & 0 \\\\\n",
    "2.2 & 0   & 0   & 0 \\\\\n",
    "0   & 500 & 0   & 0 \\\\\n",
    "0   & 0   & 625 & 0 \\\\\n",
    "0   & 0   & 0   & 285.7 \\\\\n",
    "\\end{bmatrix}  \n",
    "\\end{equation}"
   ]
  },
  {
   "cell_type": "markdown",
   "metadata": {},
   "source": [
    "We will first design a state feedback control $u = -K \\cdot x$ to stabilize the system. We impose the following closed loop poles $p =[-20;-20.5;-21;-2.05;-2.1;-2.15;-21.5;-22;-22.5;-2.2;-2.25;-2.3]$,\n",
    "that ensure that the system is stable, without oscillations, and with a relative fast response. \n",
    "\n",
    "\n",
    "\\begin{equation}\n",
    "K=\\begin{bmatrix}\n",
    "24.7267 &  0.0001 & 22.1294 & -0.0002 & 54.2482 & -0.0000 & 22.3994 & 0.0001 & 10.8415 & -0.0000 &  2.0236 & -0.0000\\\\\n",
    "-0.0000 & -0.3909 & -0.0000 &  1.2201 & -0.0000 &  0.0001 & -0.0000 & -0.4084 & -0.0000 &  0.0914 & -0.0000 &  0.0000\\\\\t  \n",
    "0.3998 &  0.0000 &  0.0000 & -0.0000 & 1.0992 & -0.0000 &  0.3919 &  0.0000 &  0.0000 & -0.0000 &  0.0776 & -0.0000\\\\  \n",
    "0.0000 & -0.1374 &  0.0000 &  0.0665 &  0.0000 &  0.1457 &  0.0000 & -0.0783 &  0.0000 &  0.0016 &  0.0000 &  0.0773\\\\\n",
    "\\end{bmatrix}  \n",
    "\\end{equation}\n",
    "\t\n",
    "\t\n",
    "\n"
   ]
  },
  {
   "cell_type": "markdown",
   "metadata": {},
   "source": [
    "Next, we add an output feedback loop after the positions x; y; z (tracking) as in Figure 4. The new control signal now becomes:\n",
    "\n",
    "\\begin{equation}\n",
    "\\mathbf{u} = -\\mathbf{K} \\cdot \\mathbf{x} + \\mathbf{u}_0 \\text{ (32)}\n",
    "\\end{equation}\n",
    "\n",
    "with \n",
    "\n",
    "\\begin{equation}\n",
    "\\mathbf{u}_0 = [u_z, u_y, u_x, 0]^T \\text{ (33)}\n",
    "\\end{equation}\n",
    "\n",
    "\n",
    "and\n",
    "$$\\begin{equation}\n",
    "\\left\\{ \n",
    "  \\begin{aligned}\n",
    "    u_x   = \\frac{k_{ix}}{s}(r_x-x)\\\\\n",
    "    u_y   = \\frac{k_{iy}}{s}(r_y-y)\\\\\n",
    "    u_z   = \\frac{k_{iz}}{s}(r_z-z)\\\\\n",
    "    ref   = [r_x, r_y, r_z]^T\\\\\n",
    "  \\end{aligned}\n",
    "  \\right.\n",
    "\\end{equation} \n",
    "$$\n",
    "\n",
    "The integrator gains can be tuned experimentally in order to obtain good tracking performances."
   ]
  },
  {
   "cell_type": "markdown",
   "metadata": {},
   "source": [
    "<center>\n",
    "    <figure class=\"image\">\n",
    "      <img src=\"artwork/drone/4.PNG\" width=70% />\n",
    "      <figcaption>Figure 11.4: Linear control of Quadcopter</figcaption>\n",
    "    </figure>\n",
    "</center>"
   ]
  },
  {
   "cell_type": "markdown",
   "metadata": {},
   "source": [
    "## 11.6 Proposed problems"
   ]
  },
  {
   "cell_type": "markdown",
   "metadata": {},
   "source": [
    "1. Implement in Python the model and linear control for hovering action for the described quadcopter."
   ]
  },
  {
   "cell_type": "code",
   "execution_count": 21,
   "metadata": {},
   "outputs": [
    {
     "data": {
      "image/png": "[encoded data removed]",
      "text/plain": [
       "<Figure size 1332x756 with 1 Axes>"
      ]
     },
     "metadata": {
      "needs_background": "light"
     },
     "output_type": "display_data"
    }
   ],
   "source": [
    "import math as m \n",
    "import numpy as np\n",
    "from scipy.integrate import odeint\n",
    "import matplotlib.pyplot as plt\n",
    "from odeintw import *\n",
    "from math import pi\n",
    "from math import *\n",
    "from scipy.signal import place_poles\n",
    "from control import *\n",
    "\n",
    "# parameters\n",
    "m, g, l = 0.4, 9.8, 0.1778\n",
    "Ix, Iy, Iz = 0.002, 0.0016, 0.0035\n",
    "b, d = 192.32*10**(-7), 1*10**(-7)\n",
    "c = 1.9712\n",
    "\n",
    "def model(x,t,u):\n",
    "    \n",
    "    u = u.reshape(4,1)\n",
    "    x = x.reshape(12,1)\n",
    "    \n",
    "    px     = x[0]\n",
    "    py     = x[1]\n",
    "    pz     = x[2]\n",
    "    phi    = x[3]\n",
    "    theta  = x[4]\n",
    "    psi    = x[5]\n",
    "    dx     = x[6]\n",
    "    dy     = x[7]\n",
    "    dz     = x[8]\n",
    "    dphi   = x[9]\n",
    "    dtheta = x[10]\n",
    "    dpsi   = x[11]\n",
    "    \n",
    "    J = np.array([[Ix,              0,                                    -Ix*sin(theta)],\n",
    "                 [0,               Iy*(cos(phi))**2+Iz*(sin(phi))**2,    (Iy-Iz)*cos(phi)*sin(phi)*cos(theta)],\n",
    "                 [-Ix*sin(theta),  (Iy-Iz)*cos(phi)*sin(phi)*cos(theta),  Ix*(sin(theta))**2+Iy*(sin(phi))**2*(cos(theta))**2+Iz*(cos(phi))**2*(cos(theta))**2]])\n",
    "    \n",
    "    c11 = 0\n",
    "    c12 = (Iy-Iz)*(dtheta*cos(phi)*sin(phi)+dpsi*(sin(phi))**2*cos(theta))+(Iz-Iy)*dpsi*(cos(phi))**2*cos(theta)-Ix*dpsi*cos(theta)\n",
    "    c13 = (Iz-Iy)*dpsi*(cos(theta))**2*sin(phi)*cos(phi)\n",
    "    c21 = (Iz-Iy)*(dtheta*sin(phi)*cos(phi)+dpsi*(sin(phi))**2*cos(theta))+(Iy-Iz)*dpsi*(cos(phi))**2*cos(theta)+Ix*dpsi*cos(theta)\n",
    "    c22 = (Iz-Iy)*dphi*cos(phi)*sin(phi)\n",
    "    c23 = -Ix*dpsi*sin(theta)*cos(theta)+Iy*dpsi*(sin(phi))**2*sin(theta)*cos(theta)+Iz*dpsi*(cos(phi))**2*sin(theta)*cos(theta)\n",
    "    c31 = (Iy-Iz)*dpsi*(cos(theta))**2*sin(phi)*cos(phi)-Ix*dtheta*cos(theta)\n",
    "    c32 = (Iz-Iy)*(dtheta*cos(phi)*sin(phi)*sin(theta)+dphi*(sin(phi))**2*cos(theta))+(Iy-Iz)*dphi*(cos(phi))**2*cos(theta)+Ix*dpsi*sin(theta)*cos(theta)-Iy*dpsi*(sin(phi))**2*sin(theta)*cos(theta)-Iz*dpsi*(cos(phi))**2*sin(theta)*cos(theta)\n",
    "    c33 = (Iy-Iz)*dphi*(cos(theta))**2*sin(phi)*cos(phi)-Iy*dtheta*(sin(phi))**2*sin(theta)*cos(theta)-Iz*dtheta*(cos(phi))**2*sin(theta)*cos(theta)+Ix*dtheta*sin(theta)*cos(theta)\n",
    " \n",
    "    if c12.shape == (1,): c12 = c12[0]\n",
    "    if c13.shape == (1,): c13 = c13[0]\n",
    "    if c21.shape == (1,): c21 = c21[0]\n",
    "    if c22.shape == (1,): c22 = c22[0]\n",
    "    if c23.shape == (1,): c23 = c23[0]\n",
    "    if c31.shape == (1,): c31 = c31[0]\n",
    "    if c32.shape == (1,): c32 = c32[0]\n",
    "    if c33.shape == (1,): c33 = c33[0]\n",
    "\n",
    "    C = np.array([[c11, c12, c13], [c21, c22, c23], [c31, c32, c33]])\n",
    "\n",
    "    Jinv = np.linalg.inv(J)\n",
    "   \n",
    "    Ucoll  = u[0] + m*g\n",
    "    Uphi   = u[1]\n",
    "    Utheta = u[2]\n",
    "    Upsi   = u[3]\n",
    "            \n",
    "    ddx  = theta*g \n",
    "    ddy  = -phi*g \n",
    "    ddz  = (Ucoll-m*g)/m \n",
    "    \n",
    "    ddphi   = Uphi/Ix\n",
    "    ddtheta = Utheta/Iy\n",
    "    ddpsi   = Upsi/Iz\n",
    "\n",
    "    xddot = np.array([dx,dy,dz,dphi,dtheta,dpsi,ddx,ddy,ddz,ddphi,ddtheta,ddpsi])\n",
    "\n",
    "    return xddot\n",
    "\n",
    "# time interval/sampling time\n",
    "dt = 0.01\n",
    "\n",
    "# final time\n",
    "tf = 20\n",
    "\n",
    "# nr of samples\n",
    "n = int(np.round(tf/dt))\n",
    "\n",
    "# Desired time samples for the solution.\n",
    "t = np.arange(0, tf, dt)\n",
    "\n",
    "# initial conditions\n",
    "\n",
    "px     = 0.0\n",
    "py     = 0.0\n",
    "pz     = 0.0\n",
    "theta  = 0.0\n",
    "phi    = 0.0\n",
    "psi    = 0.0\n",
    "dx     = 0.0 \n",
    "dy     = 0.0 \n",
    "dz     = 0.0 \n",
    "dphi   = 0.0 \n",
    "dtheta = 0.0 \n",
    "dpsi   = 0.0 \n",
    "\n",
    "x0 = np.array([[px], [py], [pz], [phi], [theta], [psi], [dx], [dy], [dz], [dphi], [dtheta], [dpsi]])\n",
    "\n",
    "plotx     = np.zeros(n)\n",
    "ploty     = np.zeros(n)\n",
    "plotz     = np.zeros(n)\n",
    "plotphi   = np.zeros(n)\n",
    "plottheta = np.zeros(n)\n",
    "plotpsi   = np.zeros(n)\n",
    "\n",
    "u = np.zeros((4,n))\n",
    "\n",
    "\n",
    "K = np.array([[24.7267,  0.0001, 22.1294, -0.0002, 54.2482, -0.0000, 22.3994,  0.0001, 10.8415, -0.0000,  2.0236, -0.0000],\n",
    "[-0.0000, -0.3909, -0.0000,  1.2201, -0.0000,  0.0001, -0.0000, -0.4084, -0.0000,  0.0914, -0.0000,  0.0000],\n",
    "[0.3998,  0.0000,  0.0000, -0.0000,  1.0992, -0.0000,  0.3919,  0.0000,  0.0000, -0.0000,  0.0776, -0.0000],\n",
    "[0.0000, -0.1374,  0.0000,  0.0665,  0.0000,  0.1457,  0.0000, -0.0783,  0.0000,  0.0016,  0.0000,  0.0773]])\n",
    "\n",
    "# references\n",
    "\n",
    "# integrator parameters\n",
    "\n",
    "px_prev    = 0\n",
    "py_prev    = 0\n",
    "pz_prev    = 0\n",
    "phi_prev   = 0\n",
    "theta_prev = 0\n",
    "psi_prev   = 0\n",
    "\n",
    "dx = 0\n",
    "dy = 0\n",
    "dz = 0\n",
    "dphi = 0\n",
    "dtheta = 0\n",
    "dpsi = 0\n",
    "\n",
    "xerror = 0\n",
    "yerror = 0\n",
    "zerror = 0\n",
    "\n",
    "# solve ODE for each step\n",
    "for i in range(1,n):\n",
    "    # span for next time step\n",
    "    tspan = [t[i-1],t[i]]\n",
    "    \n",
    "    #state feedback\n",
    "\n",
    "   \n",
    "    #state feedback & follow\n",
    "\n",
    "    \n",
    "    # solve for next step\n",
    "    x = odeintw(model,x0,tspan,args=(u[:,i],))\n",
    "    \n",
    "    # store solution for plotting\n",
    "    px    = x[1][0,0]\n",
    "    py    = x[1][1,0]\n",
    "    pz    = x[1][2,0]\n",
    "    phi   = x[1][3,0]\n",
    "    theta = x[1][4,0]\n",
    "    psi   = x[1][5,0]\n",
    "    \n",
    "    dx     = (px - px_prev)/dt\n",
    "    dy     = (py - py_prev)/dt\n",
    "    dz     = (pz - pz_prev)/dt\n",
    "    dphi   = (phi - phi_prev)/dt\n",
    "    dtheta = (theta - theta_prev)/dt\n",
    "    dpsi   = (psi - psi_prev)/dt\n",
    "\n",
    "    # next initial condition \n",
    "    x0 = np.array([px, py, pz, phi, theta, psi, dx, dy, dz, dphi, dtheta, dpsi]).reshape(12,1)\n",
    "\n",
    "    px_prev    = px\n",
    "    py_prev    = py\n",
    "    pz_prev    = pz\n",
    "    phi_prev   = phi\n",
    "    theta_prev = theta\n",
    "    psi_prev   = psi\n",
    "    \n",
    "    plotx[i] = px\n",
    "    ploty[i] = py\n",
    "    plotz[i] = pz\n",
    "    plotphi[i] = phi\n",
    "    plottheta[i] = theta\n",
    "    plotpsi[i] = psi\n",
    "\n",
    "    \n",
    "fig = plt.figure()\n",
    "fig.set_size_inches(18.5, 10.5)\n",
    "\n",
    "plt.plot(t, plotx,  label='x')\n",
    "plt.plot(t, ploty,  label='y')\n",
    "plt.plot(t, plotz,  label='z')\n",
    "plt.plot(t, plotphi,  label='phi')\n",
    "plt.plot(t, plottheta,  label='theta')\n",
    "plt.plot(t, plotpsi, label='psi')\n",
    "\n",
    "plt.legend(loc='best')\n",
    "plt.ylabel('all')\n",
    "plt.xlabel('time')\n",
    "plt.grid(True)\n",
    "\n",
    "plt.show()\n",
    "  \n",
    "# fig = plt.figure()\n",
    "\n",
    "# plt.plot(plotx, ploty,  label='trajectory')\n",
    "\n",
    "# plt.legend(loc='best')\n",
    "# plt.ylabel('py')\n",
    "# plt.xlabel('px')\n",
    "# plt.grid(True)\n",
    "\n",
    "# plt.show()"
   ]
  },
  {
   "cell_type": "code",
   "execution_count": null,
   "metadata": {},
   "outputs": [],
   "source": []
  }
 ],
 "metadata": {
  "kernelspec": {
   "display_name": "Python 3",
   "language": "python",
   "name": "python3"
  },
  "language_info": {
   "codemirror_mode": {
    "name": "ipython",
    "version": 3
   },
   "file_extension": ".py",
   "mimetype": "text/x-python",
   "name": "python",
   "nbconvert_exporter": "python",
   "pygments_lexer": "ipython3",
   "version": "3.7.6"
  },
  "varInspector": {
   "cols": {
    "lenName": 16,
    "lenType": 16,
    "lenVar": 40
   },
   "kernels_config": {
    "python": {
     "delete_cmd_postfix": "",
     "delete_cmd_prefix": "del ",
     "library": "var_list.py",
     "varRefreshCmd": "print(var_dic_list())"
    },
    "r": {
     "delete_cmd_postfix": ") ",
     "delete_cmd_prefix": "rm(",
     "library": "var_list.r",
     "varRefreshCmd": "cat(var_dic_list()) "
    }
   },
   "types_to_exclude": [
    "module",
    "function",
    "builtin_function_or_method",
    "instance",
    "_Feature"
   ],
   "window_display": false
  }
 },
 "nbformat": 4,
 "nbformat_minor": 4
}

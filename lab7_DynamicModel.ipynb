{
 "cells": [
  {
   "cell_type": "markdown",
   "metadata": {},
   "source": [
    "# Laboratory 7"
   ]
  },
  {
   "cell_type": "markdown",
   "metadata": {},
   "source": [
    "## Robot Arm Process. Modeling and Control"
   ]
  },
  {
   "cell_type": "markdown",
   "metadata": {},
   "source": [
    "### 7.1 Euler-Lagrange equations"
   ]
  },
  {
   "cell_type": "markdown",
   "metadata": {},
   "source": [
    "The Lagrangian is defined as\n",
    "\n",
    "\\begin{equation}\n",
    "L=K-P,\n",
    "\\end{equation}\n",
    "where $K$ represents the total kinetic energy of the system and $P$ represents the total potential energy of the system. \n"
   ]
  },
  {
   "cell_type": "markdown",
   "metadata": {},
   "source": [
    "The Euler-Lagrange equations that describe the dynamics of a $n-DOF$ mechanical system are:\n",
    "\n",
    "\\begin{equation}\n",
    "\\frac{d}{dt}\\frac{\\partial L}{\\partial \\dot{q}_i}-\\frac{\\partial L}{\\partial q_i}=\\tau_i, \\qquad i=1,...,n,\n",
    "\\end{equation}\n",
    "\n",
    "where $q_i$ represent generalized coordinates (in our case the joint angles) and $\\tau_i$ generalized forces (in our case motor torques)"
   ]
  },
  {
   "cell_type": "markdown",
   "metadata": {},
   "source": [
    "\n",
    "The matrix form of the Euler-Lagrange equations is:\n",
    "\n",
    "\\begin{equation}\\label{robmodel}\n",
    "D(q)\\ddot{q}+C(q,\\dot{q})\\dot{q}+G(q)=\\tau\n",
    "\\end{equation}\n",
    "\n",
    "where $q=[q_1,...,q_n]^T, \\tau=[\\tau_1,...,\\tau_n]^T$. "
   ]
  },
  {
   "cell_type": "markdown",
   "metadata": {},
   "source": [
    "\n",
    "The matrix $D(q)$ is called inertia matrix, it is symmetric and positive definite, and can be expressed in terms of the kinetic energy:\n",
    "\\begin{equation}\n",
    "K=\\frac{1}{2} \\dot{q}^T D(q) \\dot{q}=\\frac{1}{2}\\sum_{i,j}^{n} d_{i,j}(q)\\dot{q}_i\\dot{q}_j.\n",
    "\\end{equation}"
   ]
  },
  {
   "cell_type": "markdown",
   "metadata": {},
   "source": [
    "The matrix $C(q)$ takes into account centrifugal and Coriolis terms, and each $k,j-th$ matrix element can be calculated as:\n",
    "\n",
    "\\begin{equation}\\label{cterms}\n",
    "c_{kj}=\\frac{1}{2}\\sum_{i=1}^{n} \n",
    "\\bigg \\{\n",
    "\\underbrace{\n",
    "\\frac{\\partial d_{kj}}{\\partial q_i}+\\frac{\\partial d_{ki}}{\\partial q_j}-\\frac{\\partial d_{ij}}{\\partial q_k}\n",
    "}_{c_{ijk}}\n",
    "\\bigg \\}\n",
    "\\dot{q}_i.\n",
    "\\end{equation}\n"
   ]
  },
  {
   "cell_type": "markdown",
   "metadata": {},
   "source": [
    "The last term $G(q)$, sometimes called gravity term, is a column vector $G=[g_1...g_n]^T$, where each $k-th$ term is derived from the potential energy:\n",
    "\n",
    "\\begin{equation}\\label{grav}\n",
    "g_k(q)=\\frac{\\partial P}{\\partial q_k },  \\qquad k=1,...,n.\n",
    "\\end{equation}"
   ]
  },
  {
   "cell_type": "markdown",
   "metadata": {},
   "source": [
    "### 7.2 A 2DOF robot arm with spatial movement"
   ]
  },
  {
   "cell_type": "markdown",
   "metadata": {},
   "source": [
    "Consider a 2DOF robot arm with two revolute joints, that can move in a 3D Cartesian space, with the schematic representation from Figure 7.1. Because the first rotation axis is on the X axis, and the second on the Y axis, that robot can move in a 3D space."
   ]
  },
  {
   "cell_type": "markdown",
   "metadata": {},
   "source": [
    "<center>\n",
    "    <figure class=\"image\">\n",
    "      <img src=\"artwork/DynMod/fig7-1.png\" width=40% />\n",
    "      <figcaption>Figure 7.1: Schematic representation of a 2DOF robot arm </figcaption>\n",
    "    </figure>\n",
    "</center>"
   ]
  },
  {
   "cell_type": "markdown",
   "metadata": {},
   "source": [
    "#### 7.2.1 Geometric Model"
   ]
  },
  {
   "cell_type": "markdown",
   "metadata": {},
   "source": [
    "The geometric model can be derived through transformation matrices from the base frame to the end effector frame. The base frame coincides with the first frame (that is the frame of joint 1, with origin $O_1$ in the center of the joint). Thus the transformation matrix $T_{01}$ is simply a rotation around X: "
   ]
  },
  {
   "cell_type": "markdown",
   "metadata": {},
   "source": [
    "\\begin{equation}\n",
    "T_{01}=Rot(x,q_1)=\\begin{bmatrix}\n",
    " 1 &       0 &        0 & 0\\\\\n",
    " 0 & cos(q_1) & -sin(q_1) & 0\\\\\n",
    " 0 & sin(q_1) &  cos(q_1) & 0\\\\\n",
    " 0 &       0 &        0 & 1\n",
    "\\end{bmatrix}\\\n",
    "\\end{equation}"
   ]
  },
  {
   "cell_type": "markdown",
   "metadata": {},
   "source": [
    "From Frame 1 we arrive at Frame 2 (corresponding to the joint 2) through a translation on Z and a rotation around Y ($T_{12}$):"
   ]
  },
  {
   "cell_type": "markdown",
   "metadata": {},
   "source": [
    "\\begin{equation}\n",
    "T_{12}=Transl(z,L_1) \\cdot  Rot(y,q_2)=\\begin{bmatrix}\n",
    "  cos(q2) & 0 & sin(q2) &  0\\\\\n",
    "       0 & 1 &       0 &  0\\\\\n",
    " -sin(q2) & 0 & cos(q2) & L_1\\\\\n",
    " 0 &       0 &        0 & 1\n",
    "\\end{bmatrix}\\\n",
    "\\end{equation}"
   ]
  },
  {
   "cell_type": "markdown",
   "metadata": {},
   "source": [
    " Finally, the end effector frame is obtained through a translation on Z ($T_{23}$): "
   ]
  },
  {
   "cell_type": "markdown",
   "metadata": {},
   "source": [
    "\\begin{equation}\n",
    "T_{23}=Transl(z,L_2)=\\begin{bmatrix}\n",
    " 1 &       0 &        0 & 0\\\\\n",
    " 0 & 1 & 0 & 0\\\\\n",
    " 0 & 0 &  1\t & L_2\\\\\n",
    " 0 &       0 &        0 & 1\n",
    "\\end{bmatrix}\\\n",
    "\\end{equation}\n"
   ]
  },
  {
   "cell_type": "markdown",
   "metadata": {},
   "source": [
    "The transformation matrix from the based frame to the end effector, that is the geometric model is obtained through multiplication:"
   ]
  },
  {
   "cell_type": "markdown",
   "metadata": {},
   "source": [
    "\\begin{equation}\\label{geom}\n",
    "T=T_{03}=T_{01} \\cdot T_{12} \\cdot T_{23}= \\begin{bmatrix}\n",
    "          cos(q_2)&       0&          sin(q_2)&                 L_2sin(q_2)\\\\\n",
    "  sin(q_1)sin(q_2)& cos(q_1)& -cos(q_2)sin(q_1)& -sin(q_1)(L_1 + L_2cos(q_2))\\\\\n",
    " -cos(q_1)sin(q_2)& sin(q_1)&  cos(q_1)cos(q_2)&  cos(q_1)(L_1 + L_2cos(q_2))\\\\\n",
    "                0&       0&                0&                          1\n",
    "\\end{bmatrix}\n",
    "\\end{equation}\n"
   ]
  },
  {
   "cell_type": "markdown",
   "metadata": {},
   "source": [
    "The position of the end effector with respect to the joint angles $q_1$ and $q_2$ is given by the first three elements of the 4th column:"
   ]
  },
  {
   "cell_type": "markdown",
   "metadata": {},
   "source": [
    "\\begin{equation}\n",
    "x=L_2 sin(q_1),\n",
    "y=L_1 sin(q_1)-L_2 sin(q_1) cos(q_2),\n",
    "z= L_1 cos(q_1)+L_2 cos(q_1) cos(q_2).\n",
    "\\end{equation}"
   ]
  },
  {
   "cell_type": "markdown",
   "metadata": {},
   "source": [
    "The orientation of the end effector is given by the submatrix R (lines 1-3 and columns 1-3 of T):"
   ]
  },
  {
   "cell_type": "markdown",
   "metadata": {},
   "source": [
    "\\begin{equation}\n",
    "R=\n",
    "\\begin{bmatrix}\n",
    "          cos(q_2)&       0&          sin(q_2)\\\\\n",
    "  sin(q_1)sin(q_2)& cos(q_1)& -cos(q_2)sin(q_1)\\\\\n",
    " -cos(q_1)sin(q_2)& sin(q_1)&  cos(q_1)cos(q_2)\n",
    "\\end{bmatrix}.\n",
    "\\end{equation}"
   ]
  },
  {
   "cell_type": "markdown",
   "metadata": {},
   "source": [
    "#### 7.2.2 Jacobian"
   ]
  },
  {
   "cell_type": "markdown",
   "metadata": {},
   "source": [
    "The Jacobian relates the joint velocities to the linear and angular velocities of the end effector. For the 2DOF robot arm from Figure 7.1, with the geometric model \\ref{geom}, the Jacobian is:"
   ]
  },
  {
   "cell_type": "markdown",
   "metadata": {},
   "source": [
    "\\begin{equation}\n",
    "J=\n",
    "\\begin{bmatrix}\n",
    "        0                                  &       \\frac{L_2}{2}cos(q_2)    \\\\\n",
    "-\\frac{L_2}{2}cos(q_1)cos(q_2)-L_1cos(q_1) &       \\frac{L_2}{2}sin(q_1)sin(q_2) \\\\\n",
    "-\\frac{L_2}{2}sin(q_1)cos(q_2)-L_1sin(q_1) &       -\\frac{L_2}{2}cos(q_1)sin(q_2) \\\\\n",
    "          1                                &       0 \\\\       \n",
    "          0                                &       cos(q_1) \\\\ \n",
    "          0                                &       sin(q_1) \n",
    "\\end{bmatrix}\n",
    "\\end{equation}"
   ]
  },
  {
   "cell_type": "markdown",
   "metadata": {},
   "source": [
    "Thus, if we refer to link 2, the angular and linear Jacobians are:"
   ]
  },
  {
   "cell_type": "markdown",
   "metadata": {},
   "source": [
    "\\begin{equation}\n",
    "J_{vc2}=J_{vc}=\n",
    "\\begin{bmatrix}\n",
    "        0                                  &       \\frac{L_2}{2}cos(q_2)    \\\\\n",
    "-\\frac{L_2}{2}cos(q_1)cos(q_2)-L_1cos(q_1) &       \\frac{L_2}{2}sin(q_1)sin(q_2) \\\\\n",
    "-\\frac{L_2}{2}sin(q_1)cos(q_2)-L_1sin(q_1) &       -\\frac{L_2}{2}cos(q_1)sin(q_2)\n",
    "\\end{bmatrix}\n",
    "\\end{equation}"
   ]
  },
  {
   "cell_type": "markdown",
   "metadata": {},
   "source": [
    "\\begin{equation}\n",
    "J_{\\omega2}=J_{\\omega}=\n",
    "\\begin{bmatrix}\n",
    "          1                                &       0 \\\\       \n",
    "          0                                &       cos(q_1) \\\\ \n",
    "          0                                &       sin(q_1) \n",
    "\\end{bmatrix}\n",
    "\\end{equation}"
   ]
  },
  {
   "cell_type": "markdown",
   "metadata": {},
   "source": [
    "Further on, the angular and linear Jacobians for link 1 can be determined as:"
   ]
  },
  {
   "cell_type": "markdown",
   "metadata": {},
   "source": [
    "\\begin{equation}\n",
    "J_{vc1}=\n",
    "\\begin{bmatrix}\n",
    "        0              &       0    \\\\\n",
    "-\\frac{L_1}{2}cos(q_1) &       0 \\\\\n",
    "-\\frac{L_1}{2}sin(q_1)  &       0\n",
    "\\end{bmatrix},\n",
    "\\end{equation}"
   ]
  },
  {
   "cell_type": "markdown",
   "metadata": {},
   "source": [
    "\\begin{equation}\n",
    "J_{\\omega1}=\n",
    "\\begin{bmatrix}\n",
    "          1                                &       0 \\\\       \n",
    "          0                                &       0 \\\\ \n",
    "          0                                &       0 \n",
    "\\end{bmatrix}\n",
    "\\end{equation}"
   ]
  },
  {
   "cell_type": "markdown",
   "metadata": {},
   "source": [
    "#### 7.2.3 Lagrangian"
   ]
  },
  {
   "cell_type": "markdown",
   "metadata": {},
   "source": [
    "The Lagrangian is composed out of kinetic energy and potential energy.\n",
    "The kinetic energy has a translational and a rotational component"
   ]
  },
  {
   "cell_type": "markdown",
   "metadata": {},
   "source": [
    "\\begin{equation}\n",
    "K=K_{transl}+K_{rot}\n",
    "\\end{equation}"
   ]
  },
  {
   "cell_type": "markdown",
   "metadata": {},
   "source": [
    "given by the expressions:\n",
    "\\begin{equation}\n",
    "K_{transl}=\\frac{1}{2}m_1 v_{c1}^T v_{c1}+\\frac{1}{2}m_2 v_{c2}^T v_{c2}=\\frac{1}{2} \\dot{q}^T (m_1 J_{vc1}^T J_{vc1}+m_2 J_{vc2}^T J_{vc2}) \\dot{q}\n",
    "\\end{equation}"
   ]
  },
  {
   "cell_type": "markdown",
   "metadata": {},
   "source": [
    "and\n",
    "\\begin{equation}\n",
    "K_{rot}=\\frac{1}{2} \\dot{q}^T(J_{\\omega2}^T R_2 I_2 R_2^T J_{\\omega2}+J_{\\omega1}^T R_1 I_1 R_1^T J_{\\omega1})\\dot{q}\n",
    "\\end{equation}"
   ]
  },
  {
   "cell_type": "markdown",
   "metadata": {},
   "source": [
    "with \\begin{equation}\n",
    "R_2=R, \\quad R_1=T_{01}(1:3,1:3), I_2=diag\\{0,I_{2y},0\\},\\quad I_1=diag\\{I_{1x},0,0\\}.\n",
    "\\end{equation}\n"
   ]
  },
  {
   "cell_type": "markdown",
   "metadata": {},
   "source": [
    "After calculating the expressions for both components of the kinetic energy, we obtain the inertia matrix $D(q)$ as"
   ]
  },
  {
   "cell_type": "markdown",
   "metadata": {},
   "source": [
    "\\begin{equation}\n",
    "D(q)=\\begin{bmatrix}\n",
    "          d_{11}&    d_{12}\\\\\n",
    "          d_{21}&    d_{22}\n",
    "\\end{bmatrix}=\\begin{bmatrix}\n",
    "  I_{1x}+\\frac{L_1^2 m_1}{4}+L_1^2m_2+\\frac{L_2^2 m_2}{4}cos^2(q_2)+L_1L_2m_2cos(q_2)   &    0\\\\\n",
    "     0\t\t\t\t\t\t\t\t\t\t\t\t\t\t\t\t\t\t\t\t\t&    \\frac{m_2 L_2^2}{4}+I_{2y}\n",
    "\\end{bmatrix}\n",
    "\\end{equation}"
   ]
  },
  {
   "cell_type": "markdown",
   "metadata": {},
   "source": [
    "In deriving matrix $C(q,\\dot{q})$, we first calculate each $c_{ijk}$ term from (\\ref{cterms}):\n"
   ]
  },
  {
   "cell_type": "markdown",
   "metadata": {},
   "source": [
    "\\begin{equation}\n",
    "\\begin{matrix}\n",
    "  c_{111}=\\frac{\\partial d_{11}}{\\partial q_1}+\\frac{\\partial d_{11}}{\\partial q_1}-\\frac{\\partial d_{11}}{\\partial q_1}=0   \\\\\n",
    "     c_{112}=\\frac{\\partial d_{21}}{\\partial q_1}+\\frac{\\partial d_{21}}{\\partial q_1}-\\frac{\\partial d_{11}}{\\partial q_2}=\\frac{L_2^2 m_2}{4}sin(2q_2)+L_1L_2m_2sin(q_2)\t\t\t\t\t\t\t\t\t\t\t\t\t\t\t\t\t\t\t\\\\\n",
    "     c_{121}=\\frac{\\partial d_{12}}{\\partial q_1}+\\frac{\\partial d_{11}}{\\partial q_2}-\\frac{\\partial d_{12}}{\\partial q_1}=-\\frac{L_2^2 m_2}{4}sin(2q_2)-L_1L_2m_2sin(q_2) \\\\\n",
    "     c_{122}=\\frac{\\partial d_{22}}{\\partial q_1}+\\frac{\\partial d_{21}}{\\partial q_2}-\\frac{\\partial d_{12}}{\\partial q_2}=0 \\\\\n",
    "     c_{211}=\\frac{\\partial d_{11}}{\\partial q_2}+\\frac{\\partial d_{12}}{\\partial q_1}-\\frac{\\partial d_{21}}{\\partial  q_1}=c_{121} \\\\\n",
    "     c_{212}=\\frac{\\partial d_{21}}{\\partial q_2}+\\frac{\\partial d_{22}}{\\partial q_1}-\\frac{\\partial d_{21}}{\\partial q_2}=0 \\\\\n",
    "     c_{221}=\\frac{\\partial d_{12}}{\\partial q_2}+\\frac{\\partial d_{12}}{\\partial q_2}-\\frac{\\partial d_{22}}{\\partial q_1}=0 \\\\\n",
    "     c_{222}=\\frac{\\partial d_{22}}{\\partial q_2}+\\frac{\\partial d_{22}}{\\partial q_2}-\\frac{\\partial d_{22}}{\\partial q_2}=0\n",
    "\\end{matrix}\n",
    "\\end{equation}\n"
   ]
  },
  {
   "cell_type": "markdown",
   "metadata": {},
   "source": [
    "In the end we obtain the matrix:\n",
    "\\begin{equation}\n",
    "C(q,\\dot{q})= \\begin{bmatrix} -\\frac{L_2^2 m_2}{8}sin(2q_2)\\dot{q}_2-\\frac{1}{2} L_1L_2m_2sin(q_2)\\dot{q}_2  &  -\\frac{L_2^2 m_2}{8}sin(2q_2)\\dot{q}_1-\\frac{1}{2}L_1L_2m_2sin(q_2)\\dot{q}_1\\\\\n",
    "         \\frac{L_2^2 m_2}{8}sin(2q_2)\\dot{q}_1+\\frac{1}{2}L_1L_2m_2sin(q_2)\\dot{q}_1  &  0\n",
    "\\end{bmatrix}\n",
    "\\end{equation}"
   ]
  },
  {
   "cell_type": "markdown",
   "metadata": {},
   "source": [
    "\n",
    "The potential energy is determined by multiplying the mass by the gravitational acceleration and the height at the center of mass:\n",
    "\\begin{equation}\n",
    "P_1=m_1g\\frac{L_1}{2}cos(q_1),\\\\\n",
    "P_2=m_2g \\Big (L_1cos(q_1)+\\frac{L_2}{2}cos(q_1)cos(q_2) \\Big),\\\\\n",
    "P=P_1+P_2.\n",
    "\\end{equation}"
   ]
  },
  {
   "cell_type": "markdown",
   "metadata": {},
   "source": [
    "Based on (\\ref{grav}), the gravity term is determined as:\n",
    "\\begin{equation}\n",
    "G(q)=\\begin{bmatrix}\n",
    "-\\frac{m_1gL_1+2m_2gL_1}{2}sin(q_1)-\\frac{m_2gL_2}{2}sin(q_1)cos(q_2)\\\\\n",
    "-\\frac{m_2gL_2}{2}cos(q_1)sin(q_2)\n",
    "\\end{bmatrix}\n",
    "\\end{equation}"
   ]
  },
  {
   "cell_type": "markdown",
   "metadata": {},
   "source": [
    "This completes the dynamic model for our robot arm."
   ]
  },
  {
   "cell_type": "markdown",
   "metadata": {},
   "source": [
    "##  Proposed problems"
   ]
  },
  {
   "cell_type": "markdown",
   "metadata": {},
   "source": [
    "\n",
    "  1. Consider the robotic structure from Fig 7.2 with only 1 degree of freedom rotating around z axis, for which $l=1\\;m$ and $m=1\\;kg$.\n",
    "  \n",
    "  \n",
    "    a. Compute the Euler-Lagrange equations for the robot\n",
    "    b. Implement the robot model using a user-defined function and having the torque as a sine wave. Interpret the results.\n",
    "<center>\n",
    "    <figure class=\"image\">\n",
    "      <img src=\"artwork/DynMod/fig7-2.png\" width=50% />\n",
    "      <figcaption>Figure 7.2: 1DOF robot </figcaption>\n",
    "    </figure>\n",
    "</center>\n",
    "  \n",
    "  2. Consider the 2DOF robotic structure from Figure 7.3, for which $L1=0.095\\;m$, $L2=0.1\\;m$, $m1=0.095\\;kg$, $m2=0.37\\;kg$, and $I1=I2=0.025\\;kg/m^2$. The q1 and q2 initial conditions are $\\pi$/18 and $\\pi$/2\n",
    "  \n",
    "\n",
    "    a. Find the DGM using the D-H convention and create the robot using the robopy library.\n",
    "    b. Compute the C, D, and G matrices.\n",
    "    \n",
    "    c. Implement in Python the robot model with odeintw (wrapper of odeint for working with matrices), having two sine waves as the input joint torques.  \n",
    "    d. Plot and animate the positions and velocities compared with the inputs. Interpret the results.\n",
    "   \n",
    "<center>\n",
    "    <figure class=\"image\">\n",
    "      <img src=\"artwork/DynMod/fig7-2.png\" width=50% />\n",
    "      <figcaption>Figure 7.3: 2DOF robot </figcaption>\n",
    "    </figure>\n",
    "</center>\n",
    "\n",
    "\n"
   ]
  },
  {
   "cell_type": "code",
   "execution_count": null,
   "metadata": {
    "scrolled": false
   },
   "outputs": [],
   "source": [
    "%reset -f\n",
    "import numpy as np\n",
    "from scipy.integrate import odeint\n",
    "import matplotlib.pyplot as plt\n",
    "\n",
    "from robopy import serial_link as sl\n",
    "import math as m\n",
    "from robopy import *\n",
    "\n",
    "#######  1B  ########\n",
    "\n",
    "def model(x,t,u):\n",
    "  \n",
    "    g = 9.98\n",
    "    \n",
    "    q  = x[0]\n",
    "    dq = x[1]\n",
    "    \n",
    "    xdot1 = \n",
    "    xdot2 = \n",
    "    xdot  = [xdot1,xdot2]\n",
    "    \n",
    "    return xdot\n",
    "\n",
    "# initial condition\n",
    "x0 = [0,0]\n",
    "\n",
    "# number of time points\n",
    "n = 201\n",
    "\n",
    "# initial and final time\n",
    "t0 = 0\n",
    "tf = 20\n",
    "\n",
    "# time points\n",
    "t = np.linspace(t0,tf,n)\n",
    "\n",
    "# input\n",
    "u =\n",
    "\n",
    "# store solution in an array like t\n",
    "q = np.empty_like(t)\n",
    "dq = np.empty_like(t)\n",
    "\n",
    "# record initial conditions\n",
    "q[0]  = x0[0]\n",
    "dq[0] = x0[1]\n",
    "\n",
    "# solve ODE for each step\n",
    "for i in range(1,n):\n",
    "    # span for next time step\n",
    "    tspan = [t[i-1],t[i]]\n",
    "    # solve for next step\n",
    "    x = odeint(model,x0,tspan,args=(u[i],))\n",
    "    # store solution for plotting\n",
    "    q[i]  = x[1][0]\n",
    "    dq[i] = x[1][1]\n",
    "    # next initial condition\n",
    "    x0 = x[1]\n",
    "\n",
    "################ plot results\n",
    "# plt.plot(t,u,'g:',label='u(t)')\n",
    "# plt.plot(t,q,'b-',label='q(t)')\n",
    "# plt.plot(t,dq,'r--',label='dq(t)')\n",
    "# plt.ylabel('values')\n",
    "# plt.xlabel('time')\n",
    "# plt.legend(loc='best')\n",
    "# plt.show()\n",
    "\n",
    "\n",
    "################ animation \n",
    "# qval = 0\n",
    "# l    = 1\n",
    "# qlim = [0,m.pi*2]\n",
    "\n",
    "# L1    = sl.Revolute(qval, 0, 0, 0, 0, qlim, mdh=1) \n",
    "# robot = sl.SerialLink([L1], name = '1DOF robot', tool = transl(l,0,0))\n",
    "\n",
    "# q = np.asmatrix(q).reshape(n,1)\n",
    "# robot.animate(stances=q, frame_rate=30, unit='rad')\n"
   ]
  },
  {
   "cell_type": "markdown",
   "metadata": {},
   "source": []
  },
  {
   "cell_type": "code",
   "execution_count": null,
   "metadata": {},
   "outputs": [],
   "source": [
    "########### 2 ############\n",
    "\n",
    "%reset -f\n",
    "import matplotlib.pyplot as plt\n",
    "from odeintw import *\n",
    "import math as m\n",
    "import numpy as np\n",
    "from math import pi\n",
    "\n",
    "def model(x,t,u):\n",
    "    \n",
    "  \n",
    "    u = u.reshape(2,1) # reshaping for mathematical operations\n",
    "    \n",
    "    q  = x[:,0]  #first column of x, the states\n",
    "    dq = x[:,1]  #second column of x, the states derivated\n",
    "\n",
    "    D =     \n",
    "\n",
    "    C =\n",
    " \n",
    "    G = \n",
    "    \n",
    "\n",
    "    xdot1 = \n",
    "    xdot2 = \n",
    "    \n",
    "    xdot = np.concatenate((xdot1, xdot2), axis=1)\n",
    "\n",
    "    return xdot\n",
    "\n",
    "\n",
    "    \n"
   ]
  }
 ],
 "metadata": {
  "kernelspec": {
   "display_name": "Python 3",
   "language": "python",
   "name": "python3"
  },
  "language_info": {
   "codemirror_mode": {
    "name": "ipython",
    "version": 3
   },
   "file_extension": ".py",
   "mimetype": "text/x-python",
   "name": "python",
   "nbconvert_exporter": "python",
   "pygments_lexer": "ipython3",
   "version": "3.7.6"
  },
  "varInspector": {
   "cols": {
    "lenName": 16,
    "lenType": 16,
    "lenVar": 40
   },
   "kernels_config": {
    "python": {
     "delete_cmd_postfix": "",
     "delete_cmd_prefix": "del ",
     "library": "var_list.py",
     "varRefreshCmd": "print(var_dic_list())"
    },
    "r": {
     "delete_cmd_postfix": ") ",
     "delete_cmd_prefix": "rm(",
     "library": "var_list.r",
     "varRefreshCmd": "cat(var_dic_list()) "
    }
   },
   "types_to_exclude": [
    "module",
    "function",
    "builtin_function_or_method",
    "instance",
    "_Feature"
   ],
   "window_display": false
  }
 },
 "nbformat": 4,
 "nbformat_minor": 4
}

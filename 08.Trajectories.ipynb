{
 "cells": [
  {
   "cell_type": "code",
   "execution_count": 2,
   "metadata": {
    "jupyter": {
     "source_hidden": true
    }
   },
   "outputs": [],
   "source": [
    "import robopy.base.model as model\n",
    "import matplotlib.pyplot as plt\n",
    "import numpy as np\n",
    "from __future__ import print_function\n",
    "from ipywidgets import interact, interactive, fixed, interact_manual\n",
    "import ipywidgets as widgets\n",
    "\n",
    "def plot_robot(qs):\n",
    "    robot = model.Puma560()\n",
    "    robot.animate(stances=qs, frame_rate=30, unit='deg')\n",
    "    del robot\n",
    "\n",
    "def plot_interpolation(time, s, q, dq, ddq, title, plot_der):\n",
    "    if plot_der:\n",
    "        fig, axs = plt.subplots(4,1)\n",
    "        fig.set_figheight(10)\n",
    "    else:\n",
    "        fig, axs = plt.subplots(2,1)\n",
    "        fig.set_figheight(5)\n",
    "\n",
    "    axs[0].plot(time,s)\n",
    "    axs[0].set_ylabel(\"s(t)\", fontsize=20)\n",
    "    axs[0].grid(True)\n",
    "    axs[1].plot(time,q)\n",
    "    axs[1].set_ylabel(\"q(t)\", fontsize=20)\n",
    "    axs[1].set_xlabel(\"time\", fontsize=20)\n",
    "    axs[1].grid(True)\n",
    "    if plot_der:\n",
    "        axs[2].plot(time,dq)\n",
    "        axs[2].set_ylabel(\"$\\dot{q}(t)$\", fontsize=20)\n",
    "        axs[2].set_xlabel(\"time\", fontsize=20)\n",
    "        axs[2].grid(True)\n",
    "        axs[3].plot(time,ddq)\n",
    "        axs[3].set_ylabel(\"$\\ddot{q}(t)$\", fontsize=20)\n",
    "        axs[3].set_xlabel(\"time\", fontsize=20)\n",
    "        axs[3].grid(True)\n",
    "    plt.suptitle(title, fontsize=30)\n",
    "    fig.set_figwidth(15)\n",
    "    \n",
    "    plt.show()\n",
    "    \n",
    "def plot_car_interpolation(time, x, y, z, title):\n",
    "    fig, axs = plt.subplots(3,1)\n",
    "    fig.set_figheight(10)\n",
    "    axs[0].plot(time,x)\n",
    "    axs[0].set_ylabel(\"x(t)\", fontsize=20)\n",
    "    axs[0].grid(True)\n",
    "    axs[1].plot(time,y)\n",
    "    axs[1].set_ylabel(\"$y(t)$\", fontsize=20)\n",
    "    axs[1].grid(True)\n",
    "    axs[2].plot(time,z)\n",
    "    axs[2].set_ylabel(\"$z(t)$\", fontsize=20)\n",
    "    axs[2].set_xlabel(\"time\", fontsize=20)\n",
    "    axs[2].grid(True)\n",
    "    plt.suptitle(title, fontsize=30)\n",
    "    fig.set_figwidth(15)\n",
    "    plt.show()"
   ]
  },
  {
   "cell_type": "markdown",
   "metadata": {},
   "source": [
    "# End-effector trajectories\n",
    "\n",
    "Until now, we have seen how we describe a robotic system in a static configuration, either when it is about the relationship between joint position and end-effector position, or when it is about joint velocity and end-effector velocity (but solved for a specific joint configuration). However, one of the most relevant tasks for a robotic system is to be able to plan its trajectory over time. This is important for two reasons: a) it gives us a way to control the velocity of the robot along a specific path b) it allows us to develop obstacle avoidance algorithms.\n",
    "\n",
    "There are several methods for executing end-effector trajectories. In this laboratory we will explore a couple of them, starting from the most naive to more advanced ones."
   ]
  },
  {
   "cell_type": "markdown",
   "metadata": {},
   "source": [
    "# Single joint trajectories\n",
    "\n",
    "A trajectory is a set of poses (path) with a time component. Remember that a pose defines both the position and the orientation of a body in space. For now, we will deal with position and orientation together, but later on we will see that we need to do different calculations for each component of pose.\n",
    "\n",
    "Since we want to control the position of the end-effector, we need to first have calculated the inverse kinematics model of the robot. If we know the inverse kinematics model, then we can control the joint coordinates so that the end-effector moves along the points of the trajectory.\n",
    "\n",
    "\\begin{equation}\n",
    "    f(P) \\rightarrow q\n",
    "\\end{equation}\n",
    "\n",
    "Suppose that we want to move the end-effector of a robot to move from pose S to point E in space. We would need to firstly calculate the joint coordinates for the start and end position, using the inverse kinematics\n",
    "\n",
    "\\begin{equation}\n",
    "    f(P_{s}) \\rightarrow q_{s}\\\\\n",
    "    f(P_{e}) \\rightarrow q_{e}\n",
    "\\end{equation}\n",
    "\n",
    "Remember that $q_s$ and $q_e$ are vectors, having one element for each joint. Therefore, if we want to move the from pose S to pose E, we need to change the joint coordinates from values $q_s$ to the values of $q_e$. There are two main ways of doing this, either using the maximum velocity of each joint, or using the mimimum velocity of all the joints.\n",
    "\n",
    "## Interpolation basics\n",
    "\n",
    "In this case, each joint moves individually with its maximum velocity. This will ensure the fastest possible transition from pose S to pose E, as each joint will move to its target coordinate the fastest possible. This means that some joints might finish executing their motion faster than others, based on their maximum velocity and how much distance they need to cover.\n",
    "\n",
    "\\begin{equation}\n",
    "    q_{1s} \\rightarrow q_{1e}\\\\\n",
    "    q_{2s} \\rightarrow q_{2e}\\\\\n",
    "    \\vdots \\\\\n",
    "    q_{ns} \\rightarrow q_{ne}\n",
    "\\end{equation}\n",
    "\n",
    "The process of changing smoothly a variable from an initial value to a final value over time, is called _interpolation_ and it can be achieved using the following equation:\n",
    "\n",
    "\\begin{equation}\n",
    "  q(t) = (1-s(t))q_s+s(t)q_e\n",
    "\\end{equation}\n",
    "\n",
    "Where $q(t)$ is the interpolated value of the joint coordinate over time, $q_s$ and $q_e$ are the starting and ending joint coordinates, and $s(t)$ is a function that varies from 0 to 1 monotonously over time. This means that $s(0) = 0$, $s(T) = 1$, and it has values between 0 and 1 for the time in between. Based on the form of $s(t)$ we can achieve different types of interpolations."
   ]
  },
  {
   "cell_type": "markdown",
   "metadata": {},
   "source": [
    "### Linear interpolation\n",
    "\n",
    "The most basic form of interpolation is _linear interpolation_ and can be achieved if $s(t)$ is a linear function. For example, if want to achieve a motion from $q_s = 1$ to $q_e = 5$ in 8 seconds, then $s(t) = \\frac{1}{8}t$, since $s(0) = 0$ and $s(8) = 1$. This means that:\n",
    "\n",
    "\\begin{equation}\n",
    "    q(0) = (1 - 0)q_s + 0q_e = q_s\\\\\n",
    "    q(8) = (1 - 1)q_s + 1q_e = q_e\n",
    "\\end{equation}\n",
    "\n",
    "You can see a graphic representation of how the variable s and q look like over time, for various values of time duration, and starting and ending joint coordinates."
   ]
  },
  {
   "cell_type": "code",
   "execution_count": 3,
   "metadata": {
    "jupyter": {
     "source_hidden": true
    }
   },
   "outputs": [
    {
     "data": {
      "application/vnd.jupyter.widget-view+json": {
       "model_id": "49e87116f8f24461afee1d0cf28c65f9",
       "version_major": 2,
       "version_minor": 0
      },
      "text/plain": [
       "interactive(children=(IntSlider(value=0, description='qs', max=90), IntSlider(value=90, description='qe', max=…"
      ]
     },
     "metadata": {},
     "output_type": "display_data"
    },
    {
     "data": {
      "text/plain": [
       "<function __main__.linear_interpolation(qs=0, qe=90, T=8)>"
      ]
     },
     "execution_count": 3,
     "metadata": {},
     "output_type": "execute_result"
    }
   ],
   "source": [
    "def linear_interpolation(qs=0, qe=90, T=8):\n",
    "    steps = 30*T\n",
    "    time = np.linspace(0.01,T,steps)\n",
    "    s = time/T\n",
    "    ds = s/time\n",
    "    dds = ds-ds\n",
    "    q = (1-s)*qs+s*qe\n",
    "    dq = (1-ds)*qs+ds*qe\n",
    "    ddq = (1-dds)*qs+dds*qe\n",
    "    s.shape = (steps,1)\n",
    "    q.shape = (steps,1)\n",
    "    dq.shape = (steps,1)\n",
    "    ddq.shape = (steps,1)\n",
    "    plot_interpolation(time, s, q, dq, ddq, 'Linear interpolation', False)\n",
    "    \n",
    "    zers = np.asmatrix(np.zeros((time.shape[0], 1)))\n",
    "    qs = np.concatenate((zers, q, zers, zers, zers, zers), axis=1)\n",
    "    qs = np.concatenate((np.zeros((15,6)),qs), axis=0)\n",
    "    plot_robot(qs)\n",
    "    \n",
    "interact_manual(linear_interpolation, qs=(0,90), qe=(0,90), T=(1,10))"
   ]
  },
  {
   "cell_type": "markdown",
   "metadata": {},
   "source": [
    "The main disadvantage of linear interpolation is that it introduces discontiniouities in the first and second derivatives of the variable. This means that velocity and acceleration will need to change instanteounsly, which will introduce trouble for the controller."
   ]
  },
  {
   "cell_type": "markdown",
   "metadata": {},
   "source": [
    "### Polynomial interpolation\n",
    "\n",
    "To alleviate the problems of discontiniouities in the velocity and acceleration, we can perform more complex forms of interpolation, namely with a polynomial instead of a linear function. We can choose the order of the polynomial to our needs, but if we want to ensure continiouity in the first and second derivaties at the beginning and the end of the trajectory, then we need at least a 5th order polynomial. This polynomial would look like this:\n",
    "\n",
    "\\begin{equation}\n",
    "  s(t) = At^5 + Bt^4 + Ct^3 + Dt^2 + Et + F, t \\in [0,T]\n",
    "\\end{equation}\n",
    "\n",
    "To ensure continiouity, we can define the following boundary conditions, that define the six coefficients of the polynomial.\n",
    "\n",
    "\\begin{equation}\n",
    "  s(0) = q_s \\\\\n",
    "  s(end) = q_e \\\\ \n",
    "  \\dot{s}(0) = 0 \\\\\n",
    "  \\dot{s}(T) = 0 \\\\\n",
    "  \\ddot{s}(0) = 0 \\\\\n",
    "  \\ddot{s}(T) = 0 \\\\\n",
    "\\end{equation}\n",
    "\n",
    "Knowning that:\n",
    "\n",
    "\\begin{equation}\n",
    "  \\dot{s} = 5As^4 + 4Bs^3 + 3Cs^2 + 2Ds + E \\\\\n",
    "  \\ddot{s} = 20As^3 + 12Bs^2 + 6Cs + 2D\n",
    "\\end{equation}\n",
    "\n",
    "We can of course define different starting and ending velocities and accelerations. Using these boundary conditions, we end up with a system of six equations with six unknowns, that can be expressed in algebraic form like this:\n",
    "\n",
    "\\begin{equation}\n",
    "\\left[ {\\begin{array}{*{20}c}\n",
    "   s(0)  \\\\\n",
    "   s(T)  \\\\\n",
    "   \\dot{s}(0)\\\\\n",
    "   \\dot{s}(T)\\\\\n",
    "   \\ddot{s}(0)\\\\\n",
    "   \\ddot{s}(T)\\\\\n",
    "\\end{array}}\n",
    "\\right] = \\left[ {\\begin{array}{*{20}c}\n",
    "   0   & 0   & 0   & 0   & 0  & 1 \\\\\n",
    "   T^5 & T^4 & T^3 & T^2 & T  & 1 \\\\\n",
    "   0   & 0   & 0   & 0   & 1  & 0 \\\\\n",
    "   5T^4& 4T^3& 3T^2& 2T  & 1  & 0 \\\\\n",
    "   0   & 0   & 0   & 2   & 0  & 0 \\\\\n",
    "   20T^3&12T^2&6T& 2  & 0  & 0 \\\\\n",
    "\\end{array}} \\right] \\left[ {\\begin{array}{*{20}c}\n",
    "   A  \\\\\n",
    "   B  \\\\\n",
    "   C  \\\\\n",
    "   D  \\\\\n",
    "   E  \\\\\n",
    "   F  \\\\\n",
    "\\end{array}}\n",
    "\\right]\n",
    "\\end{equation}\n",
    "\n",
    "This is a linear system of equations that can be easily solved by inverting the 6x6 matrix. Remember that we are looking for the coefficiencts A, B, C, D, E, and F for desired boundary conditions (velocity and acceleration at the beginning and the end of the trajectory). You can see a graphic representation of how the variable s and q look like over time, for various values of time duration, starting and ending joint coordinates, and boundary conditions."
   ]
  },
  {
   "cell_type": "code",
   "execution_count": 4,
   "metadata": {
    "jupyter": {
     "source_hidden": true
    }
   },
   "outputs": [
    {
     "data": {
      "application/vnd.jupyter.widget-view+json": {
       "model_id": "a7b196fa9b474aeb84be848898f164c3",
       "version_major": 2,
       "version_minor": 0
      },
      "text/plain": [
       "interactive(children=(IntSlider(value=0, description='qs', max=90), IntSlider(value=20, description='qe', max=…"
      ]
     },
     "metadata": {},
     "output_type": "display_data"
    },
    {
     "data": {
      "text/plain": [
       "<function __main__.polynomial_interpolation(qs=0, qe=20, dss=0, dse=0, ddss=0, ddse=0, T=8)>"
      ]
     },
     "execution_count": 4,
     "metadata": {},
     "output_type": "execute_result"
    }
   ],
   "source": [
    "def polynomial_interpolation(qs=0, qe=20, dss=0, dse=0, ddss=0, ddse=0, T=8):\n",
    "    steps = 30*T\n",
    "    time = np.linspace(0,T,steps)\n",
    "    A = np.array([[0,0,0,0,0,1],[T**5, T**4, T**3,T**2, T, 1],[0,0,0,0,1,0],[5*T**4,4*T**3,3*T**2,2*T,1,0],[0,0,0,2,0,0],[20*T**3,12*T**2,6*T,2,0,0]])\n",
    "    inpt = np.array([0,1,dss,dse,ddss,ddse])\n",
    "    inpt.shape = (6,1)\n",
    "    sol = np.linalg.inv(A).dot(inpt)\n",
    "    timed = np.array((np.power(time,5),np.power(time,4),np.power(time,3),np.power(time,2),time,np.ones((1,steps))))\n",
    "    s = sol[0]*timed[0]+sol[1]*timed[1]+sol[2]*timed[2]+sol[3]*timed[3]+sol[4]*timed[4]+sol[5]*timed[5]\n",
    "    ds = 5*sol[0]*timed[1]+4*sol[1]*timed[2]+3*sol[2]*timed[3]+2*sol[3]*timed[4]+sol[4]\n",
    "    dds = 20*sol[0]*timed[2]+12*sol[1]*timed[3]+6*sol[2]*timed[4]+2*sol[3]\n",
    "    q = (1-s)*qs+s*qe\n",
    "    dq = (1-ds)*qs+ds*qe\n",
    "    ddq = (1-dds)*qs+dds*qe\n",
    "    s.shape = (steps,1)\n",
    "    q.shape = (steps,1)\n",
    "    dq.shape = (steps,1)\n",
    "    ddq.shape = (steps,1)\n",
    "    plot_interpolation(time, s, q, dq, ddq, 'Polynomial interpolation', True)\n",
    "    \n",
    "    zers = np.asmatrix(np.zeros((time.shape[0], 1)))\n",
    "    qs = np.concatenate((zers, q, zers, zers, zers, zers), axis=1)\n",
    "    qs = np.concatenate((np.zeros((15,6)),qs), axis=0)\n",
    "    plot_robot(qs)\n",
    "    \n",
    "interact_manual(polynomial_interpolation, qs=(0,90), qe=(0,90), dss=(-2,2,0.1), dse=(-2,2,0.1), ddss=(-2,2,0.01), ddse=(-2,2,0.01), T=(1,10))"
   ]
  },
  {
   "cell_type": "markdown",
   "metadata": {},
   "source": [
    "Obviously, we can do the same thing for two or more joints. We just need to decide on the boundary conditions of each joint and calculate its own trajectory"
   ]
  },
  {
   "cell_type": "code",
   "execution_count": 5,
   "metadata": {
    "jupyter": {
     "source_hidden": true
    }
   },
   "outputs": [
    {
     "data": {
      "application/vnd.jupyter.widget-view+json": {
       "model_id": "70dfa27f634047b9a36152c27c722b07",
       "version_major": 2,
       "version_minor": 0
      },
      "text/plain": [
       "interactive(children=(IntSlider(value=0, description='qs', max=90), IntSlider(value=20, description='qe', max=…"
      ]
     },
     "metadata": {},
     "output_type": "display_data"
    },
    {
     "data": {
      "text/plain": [
       "<function __main__.polynomial_interpolation(qs=0, qe=20, dss=0, dse=0, ddss=0, ddse=0, T=8)>"
      ]
     },
     "execution_count": 5,
     "metadata": {},
     "output_type": "execute_result"
    }
   ],
   "source": [
    "def polynomial_interpolation(qs=0, qe=20, dss=0, dse=0, ddss=0, ddse=0, T=8):\n",
    "    steps = 30*T\n",
    "    time = np.linspace(0,T,steps)\n",
    "    timed = np.array((np.power(time,5),np.power(time,4),np.power(time,3),np.power(time,2),time,np.ones((1,steps))))\n",
    "    A = np.array([[0,0,0,0,0,1],[T**5, T**4, T**3,T**2, T, 1],[0,0,0,0,1,0],[5*T**4,4*T**3,3*T**2,2*T,1,0],[0,0,0,2,0,0],[20*T**3,12*T**2,6*T,2,0,0]])\n",
    "    inpt1 = np.array([0,1,0,0,0,0])\n",
    "    inpt1.shape = (6,1)\n",
    "    sol1 = np.linalg.inv(A).dot(inpt1)\n",
    "    s1 = sol1[0]*timed[0]+sol1[1]*timed[1]+sol1[2]*timed[2]+sol1[3]*timed[3]+sol1[4]*timed[4]+sol1[5]*timed[5]\n",
    "    q1 = (1-s1)*0+s1*90\n",
    "    \n",
    "    inpt = np.array([0,1,dss,dse,ddss,ddse])\n",
    "    inpt.shape = (6,1)\n",
    "    sol = np.linalg.inv(A).dot(inpt)\n",
    "    s = sol[0]*timed[0]+sol[1]*timed[1]+sol[2]*timed[2]+sol[3]*timed[3]+sol[4]*timed[4]+sol[5]*timed[5]\n",
    "    q = (1-s)*qs+s*qe\n",
    "    \n",
    "    q.shape = (steps,1)\n",
    "    q1.shape = (steps,1)\n",
    "    \n",
    "    zers = np.asmatrix(np.zeros((time.shape[0], 1)))\n",
    "    qs = np.concatenate((zers, q1, q, zers, zers, zers), axis=1)\n",
    "    plot_robot(qs)\n",
    "    \n",
    "interact_manual(polynomial_interpolation, qs=(0,90), qe=(-90,90), dss=(-2,2,0.1), dse=(-2,2,0.1), ddss=(-2,2,0.01), ddse=(-2,2,0.01), T=(1,10))"
   ]
  },
  {
   "cell_type": "markdown",
   "metadata": {},
   "source": [
    "# End effector trajectories\n",
    "\n",
    "Controlling each individual joint is not by itself very useful, as we are usually interested to control the end-effector pose. As we know from inverse kinematics we can calculate the joint coordinates required to achieve a certain pose, depending always on the degrees of freedom of our robotic arm. Therefore, if we can calculate a trajectory for the end-effector, then we can calculate the required joint coordinates for achieving the trajectory using inverse kinematics. In order to produce once again smooth transitions in pose, we will need to interpolate from a starting to an ending position. We will decompose the interpolation of pose into two parts: position and orientation\n",
    "\n",
    "## Interpolating position\n",
    "\n",
    "Interpolating the position is rather straight-forward, as we can interpolate each one of the components of the position vector ($X$, $Y$, and $Z$ coordinates) from the beginning to the end-position. If we want to ensure smooth motion without jerk, we should once again apply a polynomial interpolation to each coordinate individually.\n",
    "\n",
    "\\begin{equation}\n",
    "  P_x(0) \\rightarrow P_x(T)\\\\\n",
    "  P_y(0) \\rightarrow P_y(T)\\\\\n",
    "  P_z(0) \\rightarrow P_z(T)\\\\\n",
    "\\end{equation}"
   ]
  },
  {
   "cell_type": "code",
   "execution_count": 6,
   "metadata": {
    "jupyter": {
     "source_hidden": true
    }
   },
   "outputs": [
    {
     "data": {
      "application/vnd.jupyter.widget-view+json": {
       "model_id": "f631ed9e62cb4b88b01026ee93b35c6d",
       "version_major": 2,
       "version_minor": 0
      },
      "text/plain": [
       "interactive(children=(IntSlider(value=0, description='xs', max=90), IntSlider(value=20, description='xe', max=…"
      ]
     },
     "metadata": {},
     "output_type": "display_data"
    },
    {
     "data": {
      "text/plain": [
       "<function __main__.threed_interpolation(xs=0, xe=20, ys=0, ye=30, zs=0, ze=10, T=8)>"
      ]
     },
     "execution_count": 6,
     "metadata": {},
     "output_type": "execute_result"
    }
   ],
   "source": [
    "def threed_interpolation(xs=0, xe=20, ys=0, ye=30, zs=0, ze=10, T=8):\n",
    "    dss, dse, ddss, ddse = 0,0,0,0\n",
    "    steps = 30*T\n",
    "    time = np.linspace(0,T,steps)\n",
    "    timed = np.array((np.power(time,5),np.power(time,4),np.power(time,3),np.power(time,2),time,np.ones((1,steps))))\n",
    "    A = np.array([[0,0,0,0,0,1],[T**5, T**4, T**3,T**2, T, 1],[0,0,0,0,1,0],[5*T**4,4*T**3,3*T**2,2*T,1,0],[0,0,0,2,0,0],[20*T**3,12*T**2,6*T,2,0,0]])  \n",
    "    inpt = np.array([0,1,dss,dse,ddss,ddse])\n",
    "    inpt.shape = (6,1)\n",
    "    sol = np.linalg.inv(A).dot(inpt)\n",
    "    s = sol[0]*timed[0]+sol[1]*timed[1]+sol[2]*timed[2]+sol[3]*timed[3]+sol[4]*timed[4]+sol[5]*timed[5]\n",
    "    x = (1-s)*xs+s*xe\n",
    "    y = (1-s)*ys+s*ye\n",
    "    z = (1-s)*zs+s*ze\n",
    "    \n",
    "    x.shape = (steps,1)\n",
    "    y.shape = (steps,1)\n",
    "    z.shape = (steps,1)\n",
    "    \n",
    "    plot_car_interpolation(time, x, y, z, '3D interpolation')\n",
    "    \n",
    "interact_manual(threed_interpolation, xs=(0,90), xe=(-90,90), ys=(-2,2,0.1), ye=(-2,2,0.1), zs=(-2,2,0.01), ze=(-2,2,0.01), T=(1,10))"
   ]
  },
  {
   "cell_type": "markdown",
   "metadata": {},
   "source": [
    "Now that we have a cartesian trajectory, we can generate the joint trajectories by solving the inverse kinematics model for each step of the trajectory."
   ]
  },
  {
   "cell_type": "code",
   "execution_count": 7,
   "metadata": {},
   "outputs": [
    {
     "data": {
      "application/vnd.jupyter.widget-view+json": {
       "model_id": "a509bc5d76864cdeb85e356dbe263826",
       "version_major": 2,
       "version_minor": 0
      },
      "text/plain": [
       "interactive(children=(FloatSlider(value=0.2, description='xs', max=0.6, min=-0.6), FloatSlider(value=0.5, desc…"
      ]
     },
     "metadata": {},
     "output_type": "display_data"
    },
    {
     "data": {
      "text/plain": [
       "<function __main__.eef_translation(xs=0.2, xe=0.5, ys=0.1, ye=0.5, zs=0.3, ze=0.5, T=8)>"
      ]
     },
     "execution_count": 7,
     "metadata": {},
     "output_type": "execute_result"
    }
   ],
   "source": [
    "import robopy\n",
    "\n",
    "def eef_translation(xs=0.2, xe=0.5, ys=0.1, ye=0.5, zs=0.3, ze=0.5, T=8):\n",
    "    dss, dse, ddss, ddse = 0,0,0,0\n",
    "    steps = 30*T\n",
    "    time = np.linspace(0,T,steps)\n",
    "    timed = np.array((np.power(time,5),np.power(time,4),np.power(time,3),np.power(time,2),time,np.ones((1,steps))))\n",
    "    A = np.array([[0,0,0,0,0,1],[T**5, T**4, T**3,T**2, T, 1],[0,0,0,0,1,0],[5*T**4,4*T**3,3*T**2,2*T,1,0],[0,0,0,2,0,0],[20*T**3,12*T**2,6*T,2,0,0]])  \n",
    "    inpt = np.array([0,1,dss,dse,ddss,ddse])\n",
    "    inpt.shape = (6,1)\n",
    "    sol = np.linalg.inv(A).dot(inpt)\n",
    "    s = sol[0]*timed[0]+sol[1]*timed[1]+sol[2]*timed[2]+sol[3]*timed[3]+sol[4]*timed[4]+sol[5]*timed[5]\n",
    "    x = (1-s)*xs+s*xe\n",
    "    y = (1-s)*ys+s*ye\n",
    "    z = (1-s)*zs+s*ze\n",
    "    \n",
    "    x.shape = (steps,1)\n",
    "    y.shape = (steps,1)\n",
    "    z.shape = (steps,1)\n",
    "    \n",
    "    robot = model.Puma560()\n",
    "    qs = np.zeros((steps,6))\n",
    "    for i in range(steps):\n",
    "        if i == 0:\n",
    "            qs[i,:] = robot.ikine(robopy.transl(x[i,0],y[i,0],z[i,0]), q0=[0,0,0,0,0,0], unit=\"rad\")\n",
    "        else:\n",
    "            qs[i,:] = robot.ikine(robopy.transl(x[i,0],y[i,0],z[i,0]), q0=qs[i-1,:], unit=\"rad\")\n",
    "\n",
    "    qs = qs *180/3.141592653\n",
    "    plot_robot(qs)\n",
    "\n",
    "interact_manual(eef_translation, xs=(-0.6,0.6), xe=(-0.6,0.6), ys=(-0.6,0.6), ye=(-0.6,0.6), zs=(-0.6,0.6), ze=(-0.6,0.6), T=(1,10))"
   ]
  },
  {
   "cell_type": "markdown",
   "metadata": {},
   "source": [
    "## Interploating orientation\n",
    "\n",
    "Orientation is more complicated to interpolate, as its components cannot be interpolated independently of each other when written in a matrix form. This is because the numbers of the transformation matrix are not all independent from each other, and each column represents a unit vector. As such, we cannot interpolate the numbers from our starting orientation toward the ending orientation, since the interpolated values are not guaranteed to form unit vectors. Consider the following simple example of interpolating from one unit vector to another:\n",
    "\n",
    "\\begin{equation}\n",
    "  \\left[ {\\begin{array}{*{20}c}\n",
    "   0  \\\\\n",
    "   0  \\\\\n",
    "   1\n",
    "\\end{array}}\n",
    "\\right] \\rightarrow\n",
    "\\left[ {\\begin{array}{*{20}c}\n",
    "   1  \\\\\n",
    "   0  \\\\\n",
    "   0\n",
    "\\end{array}}\n",
    "\\right]\n",
    "\\end{equation}\n",
    "\n",
    "if we interpolate each component individually, at some point we will end up with vector:\n",
    "\n",
    "\\begin{equation}\n",
    "\\left[ {\\begin{array}{*{20}c}\n",
    "   0.5  \\\\\n",
    "   0  \\\\\n",
    "   0.5\n",
    "\\end{array}}\n",
    "\\right]\n",
    "\\end{equation}\n",
    "\n",
    "which is not a unit vector!\n",
    "\n",
    "Therefore, for interpolating orientation, we need to break the matrix down to its components. As we have seen in the transformations laboratory, there are different ways to express orientation. If we use the Euler angle representation, then we can interpolate the components individually and end up with a smooth transition from one orientation to another one."
   ]
  },
  {
   "cell_type": "code",
   "execution_count": 12,
   "metadata": {},
   "outputs": [
    {
     "data": {
      "application/vnd.jupyter.widget-view+json": {
       "model_id": "12ef6211ace6434098abf72831122d6f",
       "version_major": 2,
       "version_minor": 0
      },
      "text/plain": [
       "interactive(children=(IntSlider(value=0, description='rs', max=20, min=-20), IntSlider(value=20, description='…"
      ]
     },
     "metadata": {},
     "output_type": "display_data"
    },
    {
     "data": {
      "text/plain": [
       "<function __main__.eef_pose(rs=0, re=20, ps=0, pe=20, yas=0, yae=30, xs=0.3, xe=0.5, ys=0.3, ye=0.5, zs=0.3, ze=0.5, T=8)>"
      ]
     },
     "execution_count": 12,
     "metadata": {},
     "output_type": "execute_result"
    }
   ],
   "source": [
    "def eef_pose(rs=0, re=20, ps=0, pe=20, yas=0, yae=30, xs=0.3, xe=0.5, ys=0.3, ye=0.5, zs=0.3, ze=0.5, T=8):\n",
    "    dss, dse, ddss, ddse = 0,0,0,0\n",
    "    steps = 30*T\n",
    "    time = np.linspace(0,T,steps)\n",
    "    timed = np.array((np.power(time,5),np.power(time,4),np.power(time,3),np.power(time,2),time,np.ones((1,steps))))\n",
    "    A = np.array([[0,0,0,0,0,1],[T**5, T**4, T**3,T**2, T, 1],[0,0,0,0,1,0],[5*T**4,4*T**3,3*T**2,2*T,1,0],[0,0,0,2,0,0],[20*T**3,12*T**2,6*T,2,0,0]])  \n",
    "    inpt = np.array([0,1,dss,dse,ddss,ddse])\n",
    "    inpt.shape = (6,1)\n",
    "    sol = np.linalg.inv(A).dot(inpt)\n",
    "    s = sol[0]*timed[0]+sol[1]*timed[1]+sol[2]*timed[2]+sol[3]*timed[3]+sol[4]*timed[4]+sol[5]*timed[5]\n",
    "    x = (1-s)*xs+s*xe\n",
    "    y = (1-s)*ys+s*ye\n",
    "    z = (1-s)*zs+s*ze\n",
    "    r = (1-s)*rs+s*re\n",
    "    p = (1-s)*ps+s*pe\n",
    "    ya = (1-s)*yas+s*yae\n",
    "    \n",
    "    x.shape = (steps,1)\n",
    "    y.shape = (steps,1)\n",
    "    z.shape = (steps,1)\n",
    "    r.shape = (steps,1)\n",
    "    p.shape = (steps,1)\n",
    "    ya.shape = (steps,1)\n",
    "    \n",
    "    qs = np.zeros((steps,6))\n",
    "    robot = model.Puma560()\n",
    "    for i in range(steps):\n",
    "        setpoint = robopy.transl(x[i,0],y[i,0],z[i,0]).dot(robopy.rpy2tr([[r[i,0],p[i,0],ya[i,0]]], order=\"zyx\", unit=\"deg\"))\n",
    "        if i == 0:\n",
    "            qs[i,:] = robot.ikine(setpoint, q0=[0,0,0,0,0,0], unit=\"rad\")\n",
    "        else:\n",
    "            qs[i,:] = robot.ikine(setpoint, q0=qs[i-1,:], unit=\"rad\")\n",
    "\n",
    "    qs = qs *180/3.141592653\n",
    "    plot_robot(qs)\n",
    "\n",
    "interact_manual(eef_pose, rs=(-20,20), re=(-20,20), ps=(-20,20), pe=(-20,20), yas=(-20,20), yae=(-20,20), xs=(-0.6,0.6), xe=(-0.6,0.6), ys=(-0.6,0.6), ye=(-0.6,0.6), zs=(-0.6,0.6), ze=(-0.6,0.6), T=(1,10))"
   ]
  }
 ],
 "metadata": {
  "kernelspec": {
   "display_name": "Python 3",
   "language": "python",
   "name": "python3"
  },
  "language_info": {
   "codemirror_mode": {
    "name": "ipython",
    "version": 3
   },
   "file_extension": ".py",
   "mimetype": "text/x-python",
   "name": "python",
   "nbconvert_exporter": "python",
   "pygments_lexer": "ipython3",
   "version": "3.8.3"
  }
 },
 "nbformat": 4,
 "nbformat_minor": 4
}

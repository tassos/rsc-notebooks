{
 "cells": [
  {
   "cell_type": "markdown",
   "metadata": {},
   "source": [
    "# Laboratory 1"
   ]
  },
  {
   "cell_type": "markdown",
   "metadata": {},
   "source": [
    "## Coordinate systems. Geometrical transformations"
   ]
  },
  {
   "cell_type": "markdown",
   "metadata": {},
   "source": [
    "One of the fundamental necessities in robotics, is the localisation of objects in three\n",
    "dimensional space. These objects can be elements that compose the physical structure of\n",
    "a robot, parts and components that the robots manipulate, tools or in general any body\n",
    "that exists in the space of operation of the robot. (See figure 1.1).\n",
    "These objects can be described fundamentally with roughly two attributes: their position and orientation. An immediate aspect of interest would be how to represent these\n",
    "and, furthermore, how can we manipulate mathematically these properties"
   ]
  },
  {
   "cell_type": "markdown",
   "metadata": {},
   "source": [
    "<center>\n",
    "    <figure>\n",
    "    <img src=\"artwork/transformations/fig1-0.png\" width=30%/>\n",
    "    <figcaption><center>Figure 1.1: Coordinate systems in the space of operation of a robot</center></figcaption>\n",
    "</figure>\n",
    "</center>"
   ]
  },
  {
   "cell_type": "markdown",
   "metadata": {},
   "source": [
    "For the description of position and orientation of a solid in space, we will attach on it a rigid Cartesian coordinate system. Since any coordinate system can serve as a reference system on which we can express the position and orientation of a body, there is the question of how to change or transform these attributes of a body from a Cartesian system of reference to another one. This exercise presents conventions and methodology for the description of positions and orientations, as well as the mathematical formalisation that is used for the manipulation of these quantities in several coordinate systems.\n",
    "\n",
    "The manipulation using a robot assumes the fact that objects and tools will be displaced in space with the use of a mechanism. This fact determines the need to represent the position and orientation of such objects that we want to manipulate as well as the position of the mechanism of manipulation. To define and manipulate mathematically the quantities that represent the position and orientation it is necessary to define a coordinate system and the corresponding conventions used for their representation."
   ]
  },
  {
   "cell_type": "markdown",
   "metadata": {},
   "source": [
    "### 1.1 Cartesian coordinate systems\n"
   ]
  },
  {
   "cell_type": "markdown",
   "metadata": {},
   "source": [
    "In robotics, the _standard_ Cartesian system is obtained through the application of the\n",
    "rule of the right hand, that is presented in figure 1.2. The thumb of the right hand indicates\n",
    "the positive direction of the Z axis, and the extended fingers indicate the positive direction\n",
    "for the X axis. By flexing the fingers by 90◦\n",
    ", we are obtaining the positive direction for\n",
    "axis Y.\n",
    "For the definition of positive directions of rotations, we use again the rule of the right\n",
    "hand. When the thumb is pointing the positive direction of an axis, the rest of the fingers\n",
    "indicate the positive rotation around that axis. \n",
    "\n",
    "<center>\n",
    "    <figure class=\"image\">\n",
    "      <img src=\"artwork/transformations/R3-right_hand_rule.png\" width=30% />\n",
    "      <figcaption>1.2 Rule of the right hand</figcaption>\n",
    "    </figure>\n",
    "</center>\n"
   ]
  },
  {
   "cell_type": "markdown",
   "metadata": {},
   "source": [
    "Try changing the Z coordinates from the sliders to see how the other axes change. The sliders dictate how the Z axis behaves. The 3 directions are the 3 points in space that describe vector Z."
   ]
  },
  {
   "cell_type": "code",
   "execution_count": 1,
   "metadata": {
    "scrolled": false
   },
   "outputs": [
    {
     "data": {
      "application/vnd.jupyter.widget-view+json": {
       "model_id": "6bb727a6bc2d47c5ac8d8a03c96596d0",
       "version_major": 2,
       "version_minor": 0
      },
      "text/plain": [
       "interactive(children=(FloatSlider(value=1.0, description='Zx:', max=1.0, min=-1.0, step=0.01), FloatSlider(val…"
      ]
     },
     "metadata": {},
     "output_type": "display_data"
    },
    {
     "data": {
      "text/plain": [
       "<function lab1_functions.showAxes(x, y, z)>"
      ]
     },
     "execution_count": 1,
     "metadata": {},
     "output_type": "execute_result"
    }
   ],
   "source": [
    "from __future__ import print_function\n",
    "%matplotlib inline\n",
    "from ipywidgets import interact, interactive, fixed, interact_manual\n",
    "import ipywidgets as widgets\n",
    "from lab1_functions import showAxes\n",
    "\n",
    "\n",
    "Zx = widgets.FloatSlider(min=-1.0, max=1.0, step=0.01, value=1.0, description='Zx:')\n",
    "Zy = widgets.FloatSlider(min=-1.0, max=1.0, step=0.01, value=1.0, description='Zy:')\n",
    "Zz = widgets.FloatSlider(min=-1.0, max=1.0, step=0.01, value=1.0, description='Zz:')\n",
    "\n",
    "\n",
    "interact(showAxes, x = Zx, y = Zy, z = Zz)\n"
   ]
  },
  {
   "cell_type": "markdown",
   "metadata": {},
   "source": [
    "The position of a point can be described using the Cartesian coordinates of an object expressed relative to the origin of a coordinate system $(x_1,y_1,z_1)$ or through a vector of position $p_1$. For example, the position of a parallelepiped\n",
    "in a coordinate system can be described using 8 position vectors, one for each one of the vertices. In the case that the object is moving, the calculation of the new position assumes the calculation of a new set of 8 vectors of position. This situation can become even more complicated if we are talking about irregular objects (a particular case, when for each position of the object it might be necessary to calculate more than 8 vector of position), or in the case in which we have more objects that move independently in relation to each other. An alternative and more efficient solution is to attach a different coordinate system on each object, which will displace together with the object itself. If the object is rigid (i.e. it does not deform), the position of every point belonging to the object remains the same in respect to the coordinate system attached on the object, independent of its the displacement. In this way, the problem of calculating the motion of an object is reduced to the calculation of the relation between two coordinate systems (reference system and the coordinate system attached on the object). Moreover, this relationship allows the calculation of the new position of any point belonging to the object of interest. The position of point $P$ is described by its Cartesian coordinates: $P(x,y,z)$."
   ]
  },
  {
   "cell_type": "markdown",
   "metadata": {},
   "source": [
    "### 1.2 Elementary Transformations. Homogeneous Transformations"
   ]
  },
  {
   "cell_type": "markdown",
   "metadata": {},
   "source": [
    "A rigid solid, and its inertial coordinate system, have 6 degrees of freedom (DOF), or 6 independent ways in which the object can move. These elementary transformations are:\n"
   ]
  },
  {
   "cell_type": "markdown",
   "metadata": {},
   "source": [
    "##### 1. Translation on X axis.  If the translation takes place with a distance ’d’, this is denoted as:Trans(X,d). \n",
    "Try moving the slider to see how translation on X takes place."
   ]
  },
  {
   "cell_type": "code",
   "execution_count": 2,
   "metadata": {},
   "outputs": [
    {
     "data": {
      "application/vnd.jupyter.widget-view+json": {
       "model_id": "c1b3fe8c569340438f11ade49966fe91",
       "version_major": 2,
       "version_minor": 0
      },
      "text/plain": [
       "interactive(children=(FloatSlider(value=0.0, description='X:', max=1.0, min=-0.5, step=0.01), Output()), _dom_…"
      ]
     },
     "metadata": {},
     "output_type": "display_data"
    },
    {
     "data": {
      "text/plain": [
       "<function lab1_functions.TransX(d)>"
      ]
     },
     "execution_count": 2,
     "metadata": {},
     "output_type": "execute_result"
    }
   ],
   "source": [
    "from __future__ import print_function\n",
    "%matplotlib inline\n",
    "from ipywidgets import interact, interactive, fixed, interact_manual\n",
    "import ipywidgets as widgets\n",
    "from lab1_functions import TransX\n",
    "  \n",
    "\n",
    "\n",
    "dir_x = widgets.FloatSlider(min=-0.5, max=1.0, step=0.01, value=0.0, description='X:')\n",
    "interact(TransX, d = dir_x)\n"
   ]
  },
  {
   "cell_type": "markdown",
   "metadata": {},
   "source": [
    "##### 2. Translation on Y axis.  If the translation takes place with a distance ’d’, this is denoted as:Trans(Y,d). \n",
    "Try moving the slider to see how translation on Y takes place."
   ]
  },
  {
   "cell_type": "code",
   "execution_count": 3,
   "metadata": {},
   "outputs": [
    {
     "data": {
      "application/vnd.jupyter.widget-view+json": {
       "model_id": "7680c0b5eed94db4936ee12058342c7d",
       "version_major": 2,
       "version_minor": 0
      },
      "text/plain": [
       "interactive(children=(FloatSlider(value=0.0, description='Y:', max=0.5, min=-1.0, step=0.01), Output()), _dom_…"
      ]
     },
     "metadata": {},
     "output_type": "display_data"
    },
    {
     "data": {
      "text/plain": [
       "<function lab1_functions.TransY(d)>"
      ]
     },
     "execution_count": 3,
     "metadata": {},
     "output_type": "execute_result"
    }
   ],
   "source": [
    "from __future__ import print_function\n",
    "%matplotlib inline\n",
    "from ipywidgets import interact, interactive, fixed, interact_manual\n",
    "import ipywidgets as widgets\n",
    "from lab1_functions import TransY\n",
    "  \n",
    "\n",
    "dir_y = widgets.FloatSlider(min=-1.0, max=0.5, step=0.01, value=0.0, description='Y:')\n",
    "interact(TransY, d = dir_y)\n"
   ]
  },
  {
   "cell_type": "markdown",
   "metadata": {},
   "source": [
    "##### 3. Translation on Z axis.  If the translation takes place with a distance ’d’, this is denoted as:Trans(Z,d). \n",
    "Try moving the slider to see how translation on Z takes place."
   ]
  },
  {
   "cell_type": "code",
   "execution_count": 4,
   "metadata": {},
   "outputs": [
    {
     "data": {
      "application/vnd.jupyter.widget-view+json": {
       "model_id": "322612c5c800496d9f2d9e0f9941ccd6",
       "version_major": 2,
       "version_minor": 0
      },
      "text/plain": [
       "interactive(children=(FloatSlider(value=0.0, description='Z:', max=1.0, min=-1.0, step=0.01), Output()), _dom_…"
      ]
     },
     "metadata": {},
     "output_type": "display_data"
    },
    {
     "data": {
      "text/plain": [
       "<function lab1_functions.TransZ(d)>"
      ]
     },
     "execution_count": 4,
     "metadata": {},
     "output_type": "execute_result"
    }
   ],
   "source": [
    "from __future__ import print_function\n",
    "%matplotlib inline\n",
    "from ipywidgets import interact, interactive, fixed, interact_manual\n",
    "import ipywidgets as widgets\n",
    "from lab1_functions import TransZ\n",
    "  \n",
    "\n",
    "dir_z = widgets.FloatSlider(min=-1.0, max=1.0, step=0.01, value=0.0, description='Z:')\n",
    "interact(TransZ, d = dir_z)\n",
    "\n"
   ]
  },
  {
   "cell_type": "markdown",
   "metadata": {},
   "source": [
    "##### 4. Rotation on X axis.  If the rotation takes place with an angle '$\\vartheta$', this is denoted as:Rot(X,$\\vartheta$). \n",
    "Try moving the slider to see how rotation on X takes place."
   ]
  },
  {
   "cell_type": "code",
   "execution_count": 1,
   "metadata": {},
   "outputs": [
    {
     "data": {
      "application/vnd.jupyter.widget-view+json": {
       "model_id": "f381cf33622e49cab561b96aec7329cc",
       "version_major": 2,
       "version_minor": 0
      },
      "text/plain": [
       "interactive(children=(FloatSlider(value=0.0, description='angle:', max=3.141592653589793, min=-3.1415926535897…"
      ]
     },
     "metadata": {},
     "output_type": "display_data"
    },
    {
     "data": {
      "text/plain": [
       "<function lab1_functions.RotX(theta)>"
      ]
     },
     "execution_count": 1,
     "metadata": {},
     "output_type": "execute_result"
    }
   ],
   "source": [
    "#rotation on x using matplotlib by theta [rad]\n",
    "from __future__ import print_function\n",
    "%matplotlib inline\n",
    "from ipywidgets import interact, interactive, fixed, interact_manual\n",
    "import ipywidgets as widgets\n",
    "from lab1_functions import RotX\n",
    "import math\n",
    "\n",
    "#translate with theta in rad\n",
    "theta = math.pi\n",
    "theta_x = widgets.FloatSlider(min=-theta, max=theta, step=0.01, value=0.0, description='angle:')\n",
    "interact(RotX, theta = theta_x)\n"
   ]
  },
  {
   "cell_type": "markdown",
   "metadata": {},
   "source": [
    "##### 5. Rotation on Y axis.  If the rotation takes place with an angle '$\\vartheta$', this is denoted as:Rot(Y,$\\vartheta$). \n",
    "Try moving the slider to see how rotation on Y takes place."
   ]
  },
  {
   "cell_type": "code",
   "execution_count": 1,
   "metadata": {},
   "outputs": [
    {
     "data": {
      "application/vnd.jupyter.widget-view+json": {
       "model_id": "c9f2794f13b741ceb698ad9446691ca6",
       "version_major": 2,
       "version_minor": 0
      },
      "text/plain": [
       "interactive(children=(FloatSlider(value=0.0, description='angle:', max=3.141592653589793, min=-3.1415926535897…"
      ]
     },
     "metadata": {},
     "output_type": "display_data"
    },
    {
     "data": {
      "text/plain": [
       "<function lab1_functions.RotY(theta)>"
      ]
     },
     "execution_count": 1,
     "metadata": {},
     "output_type": "execute_result"
    }
   ],
   "source": [
    "#rotation on y using matplotlib by theta [rad]\n",
    "from __future__ import print_function\n",
    "%matplotlib inline\n",
    "from ipywidgets import interact, interactive, fixed, interact_manual\n",
    "import ipywidgets as widgets\n",
    "from lab1_functions import RotY\n",
    "import math\n",
    "\n",
    "#translate with theta in rad\n",
    "theta = math.pi\n",
    "theta_y = widgets.FloatSlider(min=-theta, max=theta, step=0.01, value=0.0, description='angle:')\n",
    "interact(RotY, theta = theta_y)\n"
   ]
  },
  {
   "cell_type": "markdown",
   "metadata": {},
   "source": [
    "##### 6. Rotation on Z axis.  If the rotation takes place with an angle ’$\\vartheta$’, this is denoted as:Rot(Z,$\\vartheta$). \n",
    "Try moving the slider to see how rotation on Z takes place."
   ]
  },
  {
   "cell_type": "code",
   "execution_count": 2,
   "metadata": {},
   "outputs": [
    {
     "name": "stdout",
     "output_type": "stream",
     "text": [
      "FloatSlider(value=0.0, description='angle:', max=3.141592653589793, min=-3.141592653589793, step=0.01)\n"
     ]
    },
    {
     "data": {
      "application/vnd.jupyter.widget-view+json": {
       "model_id": "faf34f1327264e7f95e6e667380d7e01",
       "version_major": 2,
       "version_minor": 0
      },
      "text/plain": [
       "interactive(children=(FloatSlider(value=0.0, description='angle:', max=3.141592653589793, min=-3.1415926535897…"
      ]
     },
     "metadata": {},
     "output_type": "display_data"
    },
    {
     "data": {
      "text/plain": [
       "<function lab1_functions.RotZ(theta)>"
      ]
     },
     "execution_count": 2,
     "metadata": {},
     "output_type": "execute_result"
    }
   ],
   "source": [
    "#rotation on z using matplotlib by theta [rad]\n",
    "from __future__ import print_function\n",
    "%matplotlib inline\n",
    "from ipywidgets import interact, interactive, fixed, interact_manual\n",
    "import ipywidgets as widgets\n",
    "from lab1_functions import RotZ\n",
    "import math\n",
    "\n",
    "#translate with theta in rad\n",
    "theta = math.pi\n",
    "theta_z = widgets.FloatSlider(min=-theta, max=theta, step=0.01, value=0.0, description='angle:')\n",
    "print(theta_z)\n",
    "interact(RotZ, theta = theta_z)"
   ]
  },
  {
   "cell_type": "markdown",
   "metadata": {},
   "source": [
    "The motion of a rigid object in respect to a reference coordinate system can be described as a succession of elementary rotations and translations applied on the coordinate system that is attached on the object. For the description of any translation in the three dimensional space, we need only three parameters. Therefore the matrix representation of a translation can be made using a vector with three elements $w = [w_{x}, w_{y}, w_z ]^T $. This transformation is finite, but it is not linear."
   ]
  },
  {
   "cell_type": "markdown",
   "metadata": {},
   "source": [
    "\n",
    "For the rotation, there are more than one methods of representation. One of the most popular methods is by using rotation matrices. Considering a Cartesian coordinate system on which we apply an arbitrary rotation, we express the orientation of the set of axes (represented by the vectors $u$, $v$, $w$) with respect to the original coordinate system (represented by the vectors $x$, $z$, $y$). This representation describes completely the rotation. The three vectors $u$,$v$,$w$, that form the expression of the new coordinate system, are each represented of the three components, resulting therefore in a total of 9 parameters that represent a rotation."
   ]
  },
  {
   "cell_type": "markdown",
   "metadata": {},
   "source": [
    "\\begin{equation}\\label{eq.1.1}\n",
    "A = \\left[ {\\begin{array}{*{20}c}\n",
    "   {\\hat u_x } & {\\hat v_x } & {\\hat w_x }  \\\\\n",
    "   {\\hat u_y } & {\\hat v_y } & {\\hat w_y }  \\\\\n",
    "   {\\hat u_z } & {\\hat v_z } & {\\hat w_z }  \\\\\n",
    "\\end{array}} \\right]\n",
    "\\end{equation}"
   ]
  },
  {
   "cell_type": "markdown",
   "metadata": {},
   "source": [
    "Each one of the elements of the matrix represents the cosine of the angle between an axis of the new and one of the reference coordinate system ($x$, $z$ or $y$), that is why the matrix above is called as well *direction cosine matrix*. The rotation matrix is an orthogonal matrix, with real elements and a determinant of +1. The eigenvalues of the matrix are $\\left\\{ {1,e^{ \\pm i \\cdot \\theta } } \\right\\}$ where $ e$ is the unit vector corresponding to the direction around which the rotation is made and $\\theta $ is the angle of the rotation.\n"
   ]
  },
  {
   "cell_type": "markdown",
   "metadata": {},
   "source": [
    "In the case that the rotation is happening with an angle $\\varphi$ around one of the elementary axes ($x$, $y$ or $z$), the direction cosine matrix has the following form:\n"
   ]
  },
  {
   "cell_type": "markdown",
   "metadata": {},
   "source": [
    "Rotation around $x$ axis:\n",
    "$A_x  = \\left( {\\begin{array}{*{20}c}\n",
    "   1 & 0 & 0  \\\\\n",
    "   0 & {\\cos \\varphi } & { - \\sin \\varphi }  \\\\\n",
    "   0 & {\\sin \\varphi } & {\\cos \\varphi }  \\\\\n",
    "\\end{array}} \\right)$\n",
    "\n",
    "Rotation around $y$ axis:\n",
    "$A_y  = \\left( {\\begin{array}{*{20}c}\n",
    "   {\\cos \\varphi } & 0 & {\\sin \\varphi }  \\\\\n",
    "   0 & 1 & 0  \\\\\n",
    "   { - \\sin \\varphi } & 0 & {\\cos \\varphi }  \\\\\n",
    "\\end{array}} \\right)$\n",
    "\n",
    "Rotation around $z$ axis:\n",
    "$A_z  = \\left( {\\begin{array}{*{20}c}\n",
    "   {\\cos \\varphi } & { - \\sin \\varphi } & 0  \\\\\n",
    "   {\\sin \\varphi } & {\\cos \\varphi } & 0  \\\\\n",
    "   0 & 0 & 1  \\\\\n",
    "\\end{array}} \\right)$"
   ]
  },
  {
   "cell_type": "markdown",
   "metadata": {},
   "source": [
    "Therefore, a $3 \\times 3$ matrix can be used for describing a rotation, but not for a translation.\n"
   ]
  },
  {
   "cell_type": "markdown",
   "metadata": {},
   "source": [
    "\n",
    "The *homogeneous coordinates* were introduced by M&ouml;bius to allow the description of finite transformations using matrices. Furthermore, homogeneous coordinates allow to work the same way for rotational transformations as well as translational transformations."
   ]
  },
  {
   "cell_type": "markdown",
   "metadata": {},
   "source": [
    "In principle, the coordinates of a point in $n$-dimensional space can be represented through a vector of $n+1$ dimensions, by adding a non-zero scaling factor. The homogeneous coordinates of a point in three dimensional space are obtained through its Cartesian coordinates by adding a scaling factor, which for the robotics applications equals 1. Therefore, a point $P(x, y, z)$ has homogeneous coordinates:"
   ]
  },
  {
   "cell_type": "markdown",
   "metadata": {},
   "source": [
    "\\begin{equation}\n",
    "\\left[ {\\begin{array}{*{20}c}\n",
    "   x  \\\\\n",
    "   y  \\\\\n",
    "   z  \\\\\n",
    "   1  \\\\\n",
    "\\end{array}}\n",
    "\\right]\n",
    "\\end{equation}"
   ]
  },
  {
   "cell_type": "markdown",
   "metadata": {},
   "source": [
    "Geometrical transformations are represented in this case through a $4 \\times 4$ matrix:\n"
   ]
  },
  {
   "cell_type": "markdown",
   "metadata": {},
   "source": [
    "$\n",
    "\\begin{equation}\n",
    "T = \\left[ {\\begin{array}{ccc|c}\n",
    "   {} & {} & {} & {}  \\\\\n",
    "   3 &  \\times  & 3 & {3 \\times 1}  \\\\\n",
    "   {} & {} & {} & {}  \\\\ \\hline\n",
    "   1 &  \\times  & 3 & {1 \\times 1}  \\\\\n",
    "\\end{array}} \\right] = \\left[ {\\begin{array}{ccc|c}\n",
    "   {} & {} & {} & {trans - }  \\\\\n",
    "   {} & {rotation} & {} & {la - }  \\\\\n",
    "   {} & {} & {} & {tion}  \\\\ \\hline\n",
    "   0 & 0 & 0 & 1  \\\\\n",
    "\\end{array}} \\right] = \\left[ {\\begin{array}{*{20}c}\n",
    "   X & Y & Z & P  \\\\\n",
    "   0 & 0 & 0 & 1  \\\\\n",
    "\\end{array}} \\right]\\,\n",
    "\\end{equation}\n",
    "$"
   ]
  },
  {
   "cell_type": "markdown",
   "metadata": {},
   "source": [
    "where $\n",
    "X = \\left[ {\\begin{array}{*{20}c}\n",
    "   {X_X }  \\\\\n",
    "   {X_Y }  \\\\\n",
    "   {X_Z }  \\\\\n",
    "\\end{array}} \\right]\n",
    "$ represents the direction of $X$ axis of the new coordinate system,\n"
   ]
  },
  {
   "cell_type": "markdown",
   "metadata": {},
   "source": [
    "where $\n",
    "Y = \\left[ {\\begin{array}{*{20}c}\n",
    "   {Y_X }  \\\\\n",
    "   {Y_Y }  \\\\\n",
    "   {Y_Z }  \\\\\n",
    "\\end{array}} \\right]\n",
    "$ represents the direction of $Y$ axis of the new coordinate system,\n"
   ]
  },
  {
   "cell_type": "markdown",
   "metadata": {},
   "source": [
    "where $\n",
    "Z = \\left[ {\\begin{array}{*{20}c}\n",
    "   {Z_X }  \\\\\n",
    "   {Z_Y }  \\\\\n",
    "   {Z_Z }  \\\\\n",
    "\\end{array}} \\right]\n",
    "$ represents the direction of $Z$ axis of the new coordinate system,\n"
   ]
  },
  {
   "cell_type": "markdown",
   "metadata": {},
   "source": [
    "$\n",
    "P = \\left[ {\\begin{array}{*{20}c}\n",
    "   {P_X }  \\\\\n",
    "   {P_Y }  \\\\\n",
    "   {P_Z }  \\\\\n",
    "\\end{array}} \\right]\n",
    "$\n",
    " represents the position of the origin of the new coordinate system."
   ]
  },
  {
   "cell_type": "markdown",
   "metadata": {},
   "source": [
    "The matrix $T$ therefore describes the position (through vector $P$) and the orientation (through vectors $X$, $Y$ and $Z$) of the new coordinate system with respect to the reference system. Through the multiplication of two homogeneous transformation matrices, the result is still a homogeneous transformation matrix."
   ]
  },
  {
   "cell_type": "markdown",
   "metadata": {},
   "source": [
    "\n",
    "The following homogeneous transformation matrices are associated to elementary geometrical transformations:\n",
    "\\begin{equation}\n",
    "   Trans(X,a) = \\left[ {\\begin{array}{*{20}c}\n",
    "   1 & 0 & 0 & a  \\\\\n",
    "   0 & 1 & 0 & 0  \\\\\n",
    "   0 & 0 & 1 & 0  \\\\\n",
    "   0 & 0 & 0 & 1  \\\\\n",
    "\\end{array}} \\right]\n",
    "\\end{equation}\n",
    "\n",
    "\\begin{equation}\n",
    "Trans(Y,b) = \\left[ {\\begin{array}{*{20}c}\n",
    "   1 & 0 & 0 & 0  \\\\\n",
    "   0 & 1 & 0 & b  \\\\\n",
    "   0 & 0 & 1 & 0  \\\\\n",
    "   0 & 0 & 0 & 1  \\\\\n",
    "\\end{array}} \\right]\n",
    "\\end{equation}\n",
    "\n",
    "\\begin{equation}\n",
    "Trans(Z,c) = \\left[ {\\begin{array}{*{20}c}\n",
    "   1 & 0 & 0 & 0  \\\\\n",
    "   0 & 1 & 0 & 0  \\\\\n",
    "   0 & 0 & 1 & c  \\\\\n",
    "   0 & 0 & 0 & 1  \\\\\n",
    "\\end{array}} \\right]\n",
    "\\end{equation}\n",
    "\n",
    "\n",
    "\\begin{equation}\n",
    "Rot(X,\\vartheta ) = \\left[ {\\begin{array}{*{20}c}\n",
    "   1 & 0 & 0 & 0  \\\\\n",
    "   0 & {\\cos \\vartheta } & { - \\sin \\vartheta } & 0  \\\\\n",
    "   0 & {\\sin \\vartheta } & {\\cos \\vartheta } & 0  \\\\\n",
    "   0 & 0 & 0 & 1  \\\\\n",
    "\\end{array}} \\right]\n",
    "\\end{equation}\n",
    "\n",
    "\\begin{equation}\n",
    "Rot(Y,\\varphi ) = \\left[ {\\begin{array}{*{20}c}\n",
    "   {\\cos \\varphi } & 0 & {\\sin \\varphi } & 0  \\\\\n",
    "   0 & 1 & 0 & 0  \\\\\n",
    "   { - \\sin \\varphi } & 0 & {\\cos \\varphi } & 0  \\\\\n",
    "   0 & 0 & 0 & 1  \\\\\n",
    "\\end{array}} \\right]\n",
    "\\end{equation}\n",
    "\n",
    "\n",
    "\n",
    "\\begin{equation}\n",
    "Rot(Z,\\omega ) = \\left[ {\\begin{array}{*{20}c}\n",
    "   {\\cos \\omega } & { - \\sin \\omega } & 0 & 0  \\\\\n",
    "   {\\sin \\omega } & {\\cos \\omega } & 0 & 0  \\\\\n",
    "   0 & 0 & 1 & 0  \\\\\n",
    "   0 & 0 & 0 & 1  \\\\\n",
    "\\end{array}} \\right]\n",
    "\\end{equation}"
   ]
  },
  {
   "cell_type": "markdown",
   "metadata": {},
   "source": [
    "A matrix of a transformation can be understood in different ways:\n",
    "\n",
    "- as a transformation from one coordinate system to another one\n",
    "- as a description of the origin and orientation of the new coordinate system with respect to the reference coordinate system\n",
    "-  as a description of the displacement of an object from a position (reference system) to another one (new coordinate system)\n",
    "- as a method that allows the calculation of the position of a point, that is part of an object, with respect to a system of reference, knowing its position with respect to the new coordinate system:\n",
    "$\n",
    "      \\begin{equation}\\label{eq.1.9}\n",
    "^R q = ^R T_N  \\cdot ^N q\n",
    "      \\end{equation}$\n",
    "<br>\n",
    "where:\n",
    "\n",
    "<br>$^R q$ is the vector of position of a point in the system $R$ (reference system);\n",
    "<br>$^R T_N$ is the transformation of the new coordinate system in respect to the reference system, known as \\emph{direct transformation}. In other words, it is the transformation that is applied on system $R$ so that it arrives at the position of system $N$.\n",
    "<br>$^N q$ is the vector of position of a point in the coordinate system $N$(new coordinate system).\n",
    " \n",
    "\n"
   ]
  },
  {
   "cell_type": "markdown",
   "metadata": {},
   "source": [
    "<center>\n",
    "    <figure>\n",
    "        <img src=\"artwork/transformations/swap_coordinates.png\" width=50% />\n",
    "        <figcaption>Figure 1.3: Calculation of the position of a point in the reference coordinate system, using direct transformation and the coordinates of the point in its own coordinate system</figcaption>\n",
    "        </figure>\n",
    "</center>"
   ]
  },
  {
   "cell_type": "markdown",
   "metadata": {},
   "source": [
    "### 1.3 Combination of transformations\n"
   ]
  },
  {
   "cell_type": "markdown",
   "metadata": {},
   "source": [
    "As it was shown, a geometrical transformation can be decomposed in a succession of elementary rotations and translations. The combination of a succession of elementary geometrical transformations in a general transformation, can be therefore done:"
   ]
  },
  {
   "cell_type": "markdown",
   "metadata": {},
   "source": [
    "- Using <b>LEFT MUTIPLICATION</b> of homogeneous transformation matrices if the transformations are made in respect to a reference coordinate system.\n",
    "    (<b>ABSOLUTE TRANSFORMATIONS</b>). In these conditions, if we have a succession of $n$ absolute transformations$(T_i, \\;\\;i=\\overline{1\\ldots n})$, the transformation matrix can be written as:\n",
    "    \n",
    "\\begin{equation}\n",
    "T_A=\\prod \\limits_{i=n}^1 T_i=T_n\\cdot T_{n-1}\\cdot\\ldots\\cdot T_1\n",
    "\\end{equation}\n",
    "\n",
    "\n",
    "You can see a visualisation of an 'absolute' transformation in the following snippet. Run it and notice how the 'small' coordinate frame is transformed around the blue axis of the 'big' coordinate frame, both in the translation and rotation tab.\n",
    "\n"
   ]
  },
  {
   "cell_type": "code",
   "execution_count": 3,
   "metadata": {
    "scrolled": false
   },
   "outputs": [
    {
     "data": {
      "application/vnd.jupyter.widget-view+json": {
       "model_id": "da36ad958d4f4e42a8969e8b0daac743",
       "version_major": 2,
       "version_minor": 0
      },
      "text/plain": [
       "Tab(children=(interactive(children=(FloatSlider(value=0.0, description='angle:', max=1.5707963267948966, min=-…"
      ]
     },
     "metadata": {},
     "output_type": "display_data"
    }
   ],
   "source": [
    "from __future__ import print_function\n",
    "%matplotlib inline\n",
    "\n",
    "import math as m\n",
    "import numpy as np\n",
    "from IPython.display import display\n",
    "from ipywidgets import HBox, VBox, Button, Layout, Label\n",
    "from ipywidgets import interact, interactive, fixed, interact_manual\n",
    "import ipywidgets as widgets\n",
    "from lab1_functions import TranslateOnXLeft, RotateOnXLeft\n",
    "\n",
    "theta = m.pi/2\n",
    "\n",
    "angleL = widgets.FloatSlider(min=-theta, max=theta, step=0.1, value=0.0, description='angle:')\n",
    "distanceL = widgets.FloatSlider(min=-theta, max=theta, step=0.1, value=0.0, description='distance:')\n",
    "\n",
    "out1 = widgets.interactive(RotateOnXLeft, a = angleL)\n",
    "out2 = widgets.interactive(TranslateOnXLeft, a = distanceL)\n",
    "\n",
    "tab  = widgets.Tab(children = [out1, out2])\n",
    "tab.set_title(0, 'rotation')\n",
    "tab.set_title(1, 'translation')\n",
    "\n",
    "display(tab)\n",
    "\n"
   ]
  },
  {
   "cell_type": "markdown",
   "metadata": {},
   "source": [
    "- Using <b>RIGHT MULTIPLICATION</b> of homogeneous transformation matrices if transformations are made in respect to a new coordinate system (the system that is obtained as a result of the last transformation). (<b>RELATIVE TRANSFORMATIONS</b>). In these conditions, if we have a succession of $n$ relative transformations $(T_i, \\;\\;i=\\overline{1\\ldots n})$, the transformation matrix can be written as:\n",
    "\n",
    "\\begin{equation}\n",
    "T_r=\\prod \\limits_{i=1}^n T_i=T_1\\cdot T_2\\cdot\\ldots\\cdot T_n\n",
    "\\end{equation}\n",
    "\n",
    "You can see a visualisation of an 'relative' transformation in the following snippets. Run it and notice how the 'small' coordinate frame is transformed around the blue axis of its own coordinate frame, both on the translation and the rotation tab:"
   ]
  },
  {
   "cell_type": "code",
   "execution_count": 4,
   "metadata": {},
   "outputs": [
    {
     "data": {
      "application/vnd.jupyter.widget-view+json": {
       "model_id": "586d09cfd06647a094b703e343a1e6a4",
       "version_major": 2,
       "version_minor": 0
      },
      "text/plain": [
       "Tab(children=(interactive(children=(FloatSlider(value=0.0, description='angle:', max=1.5707963267948966, min=-…"
      ]
     },
     "metadata": {},
     "output_type": "display_data"
    }
   ],
   "source": [
    "from __future__ import print_function\n",
    "%matplotlib inline\n",
    "\n",
    "import math as m\n",
    "import numpy as np\n",
    "from IPython.display import display\n",
    "from ipywidgets import HBox, VBox, Button, Layout, Label\n",
    "from ipywidgets import interact, interactive, fixed, interact_manual\n",
    "import ipywidgets as widgets\n",
    "from lab1_functions import RotateOnXRight, TranslateOnXRight\n",
    "\n",
    "theta = m.pi/2\n",
    "\n",
    "angleR = widgets.FloatSlider(min=-theta, max=theta, step=0.1, value=0.0, description='angle:')\n",
    "distanceR = widgets.FloatSlider(min=-theta, max=theta, step=0.1, value=0.0, description='distance')\n",
    "\n",
    "out1 = widgets.interactive(RotateOnXRight, a = angleR)\n",
    "out2 = widgets.interactive(TranslateOnXRight, a = distanceR)\n",
    "\n",
    "tab  = widgets.Tab(children = [out1, out2])\n",
    "tab.set_title(0, 'rotation')\n",
    "tab.set_title(1, 'translation')\n",
    "\n",
    "display(tab)"
   ]
  },
  {
   "cell_type": "markdown",
   "metadata": {},
   "source": [
    "### Swapping coordinate frames"
   ]
  },
  {
   "cell_type": "markdown",
   "metadata": {},
   "source": [
    "With the help of direct geometrical transformations it is possible to determine the position of a point in the reference system  ${ }^Rq$ if we know its position in another coordinate system ${}^Nq$ with direct geometrical transformation $^R T_N$. If we want to find ${}^Nq$, with given ${}^Rq$ and $^R T_N$, we must proceed as following:"
   ]
  },
  {
   "cell_type": "markdown",
   "metadata": {},
   "source": [
    "\n",
    "\\begin{equation}\n",
    "{ }^Rq = T \\cdot { }^Nq \\to T^{ - 1} \\cdot { }^Rq = T^{ - 1} \\cdot T \\cdot {\n",
    "}^Nq \\to { }^Nq = T^{ - 1} \\cdot { }^Rq\n",
    "\\end{equation}\n",
    "\n",
    "\n",
    "<br>\n",
    "Therefore, the inverse geometric transformation is described with the inverse matrix of the direct transformation.\n",
    "<br>\n",
    "\n",
    "Denoted\n",
    "\n",
    "\\begin{equation}\\label{eq.1.11}\n",
    "T = \\left[ \\begin{array}{cccc}\n",
    " {X_X } & {Y_X } & {Z_X } & {P_X } \\\\\n",
    " {X_Y } & {Y_Y } & {Z_Y } & {P_Y } \\\\\n",
    " {X_Z } & {Y_Z } & {Z_Z } & {P_Z } \\\\\n",
    " 0 & 0 & 0  & 1 \\\\\n",
    "\\end{array} \\right]\n",
    "\\end{equation}\n",
    "\n",
    "\n",
    "<br>\n",
    "it can be demonstrated that the inverse of a homogeneous transformation matrix, is:\n",
    "<br>\n",
    "\n",
    "\\begin{equation}\n",
    "T^{ - 1} = \\left[\n",
    "\\begin{array}{cccc}\n",
    " {X_X } & {X_Y } & {X_Z } & { - P_X\\cdot X_X - P_Y \\cdot X_Y - P_Z\\cdot X_Z }  \\\\\n",
    " {Y_X } & {Y_Y } & {Y_Z } & { - P_X \\cdot Y_X - P_Y \\cdot Y_Y - P_Z\\cdot Y_Z }  \\\\\n",
    " {Z_X } & {Z_Y } & {Z_Z } & { - P_X\\cdot Z_X - P_Y \\cdot Z_Y - P_Z\\cdot Z_Z }  \\\\\n",
    " 0  & 0 & 0  & 1\n",
    "\\end{array} \\right]\n",
    "\\end{equation}\n"
   ]
  },
  {
   "cell_type": "markdown",
   "metadata": {},
   "source": [
    "### 1.4 Python commands"
   ]
  },
  {
   "cell_type": "markdown",
   "metadata": {},
   "source": [
    "There are several toolboxes available online for helping us with various robotics operations. One of the most developed ones is [robopy](https://github.com/adityadua24/robopy), which we will use extensively during the laboratories. This toolbox offers a very easy way to calculate various transformation matrices, using the _trotx_, _troty_, _trotz_, and _transl_ commands. You can see an example of how are these used below:"
   ]
  },
  {
   "cell_type": "code",
   "execution_count": 6,
   "metadata": {},
   "outputs": [
    {
     "name": "stdout",
     "output_type": "stream",
     "text": [
      "[[ 0.70710678 -0.70710678  0.          0.        ]\n",
      " [ 0.70710678  0.70710678  0.          0.        ]\n",
      " [ 0.          0.          1.          0.        ]\n",
      " [ 0.          0.          0.          1.        ]]\n"
     ]
    }
   ],
   "source": [
    "from robopy import *\n",
    "\n",
    "t1 = trotx(45, 'deg')\n",
    "t2 = trotz(45, 'deg')\n",
    "t3 = transl(2, 0 ,-1)\n",
    "\n",
    "# print is a function in python 3, it needs brackets\n",
    "print(t2)"
   ]
  },
  {
   "cell_type": "markdown",
   "metadata": {},
   "source": [
    "The matrices obtained using this method can be combined to calculate more complex transformations by multiplication:"
   ]
  },
  {
   "cell_type": "code",
   "execution_count": 7,
   "metadata": {},
   "outputs": [
    {
     "name": "stdout",
     "output_type": "stream",
     "text": [
      "[[ 0.70710678 -0.70710678  0.          1.41421356]\n",
      " [ 0.5         0.5        -0.70710678  1.70710678]\n",
      " [ 0.5         0.5         0.70710678  0.29289322]\n",
      " [ 0.          0.          0.          1.        ]]\n"
     ]
    }
   ],
   "source": [
    "# Calculate coordinate '3' frame after three consecutive transformations\n",
    "t13 = t1*t2*t3\n",
    "print(t13)\n",
    "\n",
    "# You can also visualise the coordinate frame if you use the 'pose' class\n",
    "p1 = pose.SE3.Rx(theta=45, unit='deg')\n",
    "p3 = pose.SE3.Ry(theta=45, unit='deg')\n",
    "p2 = pose.SE3.Rx(theta=0, x=2, y=0, z=-1, unit='deg')\n",
    "\n",
    "#the plot will open a new graphic window\n",
    "(p1*p2*p3).plot()"
   ]
  },
  {
   "cell_type": "markdown",
   "metadata": {},
   "source": [
    "We can also define a point by its coordinates on a coordinate frame, and find out what are its coordinates on another frame if we know the transformation between the two frames. For defining the point we use the [numpy](https://numpy.org/) library. By default, numpy creates row vectors, that's why we need to transpose the vector into a column before we do the multiplication. We do that using the __T__ method:"
   ]
  },
  {
   "cell_type": "code",
   "execution_count": null,
   "metadata": {},
   "outputs": [],
   "source": [
    "import numpy as np\n",
    "\n",
    "# Define point P with coordinates 1,2,3\n",
    "P = np.array([[1,2,3,1]]).T\n",
    "\n",
    "# Calculating coordinates of point P in frame '3'\n",
    "t13*P"
   ]
  },
  {
   "cell_type": "markdown",
   "metadata": {},
   "source": [
    "# Assignments\n",
    "\n",
    "## Transforming a point\n",
    "\n",
    "A point with coordinates $P(1, 2, 3)$ is given. We apply the following transformations on the point, with the specified order: $Trans(X,4),\\;\\; Trans(Y,-4),\\;\\; Rot(X, 90^\\circ), \\;\\;Trans(Z,4),\\;\\; Rot(Y, 90^\\circ)$. Determine the new coordinates of the point if we consider Absolute transformations.\n",
    "\n",
    "## Understanding the general transformation matrix\n",
    "\n",
    "Two coordinate frames ($A$ and $B$) are given in the figure below. Calculate the transformation matrix that expressed frame $A$ using frame $B$ as basis.\n",
    "\n",
    "<center>\n",
    "    <figure class=\"image\">\n",
    "      <img src=\"artwork/transformations/general_matrix.png\" width=50% />\n",
    "      <figcaption>Two coordinate frames. The origin of frame $B$ has coordinates $(3,2,1)$ on frame $A$</figcaption>\n",
    "    </figure>\n",
    "</center>\n",
    "\n",
    "## Transforming a coordinate frame\n",
    "\n",
    "Consider the figure below, describing three coordinate frames. Frame $A$ is the basis coordinate frame, where frames $B$ and $C$ are expressed in (given below). What is the sequence of transformations that transform frame $B$ onto frame $C$?\n",
    "\n",
    "<center>\n",
    "    <figure class=\"image\">\n",
    "      <img src=\"artwork/transformations/matrix_transformations.png\" width=50% />\n",
    "      <figcaption>Three coordinate frames. The coordinates of the origins of frames $B$ and $C$ are calculated based on frame $A$</figcaption>\n",
    "    </figure>\n",
    "</center>\n",
    "\n",
    "If point $P$ has coordinates $(3,1,0)$ on frame $A$, what are its coordinates on frame $B$?"
   ]
  },
  {
   "cell_type": "code",
   "execution_count": null,
   "metadata": {},
   "outputs": [],
   "source": []
  }
 ],
 "metadata": {
  "kernelspec": {
   "display_name": "Python 3",
   "language": "python",
   "name": "python3"
  },
  "language_info": {
   "codemirror_mode": {
    "name": "ipython",
    "version": 3
   },
   "file_extension": ".py",
   "mimetype": "text/x-python",
   "name": "python",
   "nbconvert_exporter": "python",
   "pygments_lexer": "ipython3",
   "version": "3.7.6"
  },
  "varInspector": {
   "cols": {
    "lenName": 16,
    "lenType": 16,
    "lenVar": 40
   },
   "kernels_config": {
    "python": {
     "delete_cmd_postfix": "",
     "delete_cmd_prefix": "del ",
     "library": "var_list.py",
     "varRefreshCmd": "print(var_dic_list())"
    },
    "r": {
     "delete_cmd_postfix": ") ",
     "delete_cmd_prefix": "rm(",
     "library": "var_list.r",
     "varRefreshCmd": "cat(var_dic_list()) "
    }
   },
   "types_to_exclude": [
    "module",
    "function",
    "builtin_function_or_method",
    "instance",
    "_Feature"
   ],
   "window_display": false
  }
 },
 "nbformat": 4,
 "nbformat_minor": 2
}

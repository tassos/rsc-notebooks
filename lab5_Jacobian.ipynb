{
 "cells": [
  {
   "cell_type": "markdown",
   "metadata": {},
   "source": [
    "# Laboratory 5"
   ]
  },
  {
   "cell_type": "markdown",
   "metadata": {},
   "source": [
    "## The Jacobian"
   ]
  },
  {
   "cell_type": "markdown",
   "metadata": {},
   "source": [
    "Up until now, we've been discussing about the position and orientation of the\n",
    "robot as described by transformations. However, it is of special interest to\n",
    "consider the derivatives of the positions, meaning the velocities and\n",
    "accelerations. This is especially important since robots can be used in\n",
    "conditions where speed plays an important role: We usually want to perform a task\n",
    "as fast as possible, while still making it safe for the environment around the\n",
    "robot. The objective of this exercise is to define a way for calculating the\n",
    "end-effector velocity as a function of the joint velocities."
   ]
  },
  {
   "cell_type": "markdown",
   "metadata": {},
   "source": [
    "### 5.1. Theoretical considerations"
   ]
  },
  {
   "cell_type": "markdown",
   "metadata": {},
   "source": [
    "\n",
    "Velocity is defined as the first derivative of the position. When discussing the\n",
    "velocity of a point, we can only have a linear velocity, since a point does not\n",
    "have any specific orientation. When discussing about objects though, there is a\n",
    "distinction between linear and angular velocities. The linear velocity shows us\n",
    "how fast an object translates relative to a fixed frame, while the angular\n",
    "velocity shows us how fast does one object rotate relative to a fixed frame.\n",
    "\n",
    "Each of these velocities has three components, one about each of the axes of the\n",
    "fixed coordinate frame. We denote the linear velocities as $ \\dot{x}, \\dot{y}$,\n",
    "and $ \\dot{z} $ and the angular velocities as $ \\omega_x, \\omega_y$, and $ \\omega_z $."
   ]
  },
  {
   "cell_type": "markdown",
   "metadata": {},
   "source": [
    "\n",
    "If we define a vector containing all the end-effector velocities defined as \n",
    "\n",
    "\\begin{equation}\n",
    "   \\xi = \\begin{bmatrix} \\dot{x} & \\dot{y} & \\dot{z} & \\omega_x & \\omega_y &\n",
    "    \\omega_z \\end{bmatrix}^T \\\\\n",
    "\\end{equation}\n",
    "\n",
    "we can define the relationship between end-effector and joint velocities as:\n",
    "\n",
    "\\begin{equation}\n",
    "   \\xi = J \\dot{q} \n",
    "\\end{equation}\n",
    "\n",
    "where $ \\dot{q} $ is a vector containing the velocities of the $ n $ robot\n",
    "joints. For the multiplication to be feasible, $ J $ should be a matrix and it\n",
    "should have dimensions $ 6 \\times n $. This matrix is called the\n",
    "_Jacobian_ and we can split it in two $ 3 \\times n $ submatrices, one\n",
    "corresponding to the angular and one to the linear velocities."
   ]
  },
  {
   "cell_type": "markdown",
   "metadata": {},
   "source": [
    "#### 5.1.1 ANGULAR velocities"
   ]
  },
  {
   "cell_type": "markdown",
   "metadata": {},
   "source": [
    "Depending on the design of the robot and the types of joints that it has, it\n",
    "might be able to change its orientation relative to the fixed frame. The part of\n",
    "the Jacobian matrix that describes the relationship between joint velocities and\n",
    "the angular velocity of the end effector is symbolised as $ J_{\\omega} $ and it\n",
    "is a $ 3 \\times n $ matrix, where $ n $ is the number of joints.\n",
    "\n",
    "Since prismatic joints do not produce any rotations, their contribution to the\n",
    "end-effector angular velocity is zero. Therefore, the columns corresponding to\n",
    "prismatic joints will be zero.\n",
    "\n",
    "For revolute joints, the contribution of each joint to each of the three angular\n",
    "velocities is related to the orientation of the joint. If a joint e.g. is\n",
    "aligned with the X-axis of the fixed frame, then it will naturally contribute\n",
    "only to the angular velocity of the end-effector around the X-axis, namely the\n",
    "$ \\omega_x $. Therefore, we define the column of the Jacobian corresponding to\n",
    "revolute joints equal to the orientation of the joint axis."
   ]
  },
  {
   "cell_type": "markdown",
   "metadata": {},
   "source": [
    "\n",
    "If we have used the DH convention for calculating the transformation between two\n",
    "subsequent joints, then we have defined a coordinate frame whose z-axis is\n",
    "aligned with the joint axis of rotation. Therefore, the orientation of the\n",
    "revolute joint $ i $ is equal to the last column of the transformation matrix\n",
    "$ R_o^i $."
   ]
  },
  {
   "cell_type": "markdown",
   "metadata": {},
   "source": [
    "\n",
    "Eventually we have:\n",
    "\n",
    "\\begin{equation}\n",
    "   J_{\\omega} = \\begin{bmatrix} J_{\\omega 1} & J_{\\omega 2} & \\dots & J_{\\omega\n",
    "      n} \\end{bmatrix}  \\\\\n",
    "\\end{equation}\n",
    "  where:\n",
    "\n",
    "\\begin{equation}\n",
    "   J_{\\omega i} = \\begin{bmatrix} 0 \\\\ 0 \\\\ 0 \\end{bmatrix} \\\\\n",
    "\\end{equation}\n",
    "  when $ i $ is a prismatic joint, and:\n",
    "\n",
    "\\begin{equation}\n",
    "   J_{\\omega i} = \\begin{bmatrix} Z_x \\\\ Z_y \\\\ Z_z \\end{bmatrix} \\\\\n",
    "\\end{equation}\n",
    "  when $ i $ is a revolute joint.\n",
    "  "
   ]
  },
  {
   "cell_type": "markdown",
   "metadata": {},
   "source": [
    "#### 5.1.2. LINEAR velocities"
   ]
  },
  {
   "cell_type": "markdown",
   "metadata": {},
   "source": [
    "The linear velocity of the end-effector is affected by both the revolute and the\n",
    "prismatic joints. The prismatic joints contribute to the linear velocity of the\n",
    "end effector depending on the orientation of the joint, similar to the way that\n",
    "revolute joints contribute to the angular velocities. If e.g. a prismatic joint\n",
    "is oriented with the Z-axis of the fixed frame, then the velocity of the joint\n",
    "results in a velocity of the end-effector along the Z-axis of the fixed frame,\n",
    "and no velocity in the other two axes."
   ]
  },
  {
   "cell_type": "markdown",
   "metadata": {},
   "source": [
    "Therefore, the column of the linear Jacobian corresponding to a prismatic joint\n",
    "has the form:\n",
    "\n",
    "\\begin{equation}\n",
    "   J_{u i} = \\begin{bmatrix} Z_x \\\\ Z_y \\\\ Z_z \\end{bmatrix} \n",
    "\\end{equation}"
   ]
  },
  {
   "cell_type": "markdown",
   "metadata": {},
   "source": [
    "\n",
    "However, contrary to the angular velocities, the linear velocity of the\n",
    "end-effector does not depend only on the prismatic joints. The revolute joints\n",
    "have a contribution to the linear velocity of the end-effector as well. This is\n",
    "similar to the way that the wheels of the car, even though they are just\n",
    "rotating and not translating, they still cause a linear motion of the car.\n",
    "\n",
    "The contribution of the revolute joints on the linear velocity of the\n",
    "end-effector are related to the orientation of the joint, but also to the\n",
    "distance between the joint and the end effector. This is once again similar to\n",
    "the wheels of a car: the resulting linear velocity of the car depends on the\n",
    "distance from the joint of rotation of the wheel and the ground. For the same\n",
    "angular velocity of the wheel, we have larger linear velocity of the car for a\n",
    "wheel with a bigger diameter."
   ]
  },
  {
   "cell_type": "markdown",
   "metadata": {},
   "source": [
    "\n",
    "Finally, the linear velocity resulting from an revolute joint is expressed as a\n",
    "vector, and more specifically as the cross product between the vectors of the\n",
    "axis of rotation and the vector connecting the joint origin and the\n",
    "end-effector. Therefore, for revolute joints the linear Jacobian has the form:\n",
    "\n",
    "\\begin{equation}\n",
    "   J_{u i} = \\begin{bmatrix} z_{i} \\times (o_n - o_{i-1}) \\end{bmatrix}\n",
    "\\end{equation}"
   ]
  },
  {
   "cell_type": "markdown",
   "metadata": {},
   "source": [
    "### 5.2 Inverse velocities"
   ]
  },
  {
   "cell_type": "markdown",
   "metadata": {},
   "source": [
    "As with the kinematics, it is usually more useful to be able to solve the\n",
    "inverse velocities problem i.e. to calculate the joint coordinates that will\n",
    "result in the desired end-effector velocities. This is accomplished by\n",
    "multiplying from the left with the inverse of the Jacobian both sides of our\n",
    "principal equation:\n",
    "\n",
    "\\begin{equation}\n",
    "   \\xi = J \\dot{q} \\equiv J^{-1}\\xi = \\dot{q} \n",
    "\\end{equation}"
   ]
  },
  {
   "cell_type": "markdown",
   "metadata": {},
   "source": [
    "\n",
    "However, to be able to do this, the Jacobian must be invertible. For a matrix to\n",
    "be invertible, it must satisfy two conditions:\n",
    "\n",
    "- It must be square\n",
    "- Its rank should be equal to its dimension\n"
   ]
  },
  {
   "cell_type": "markdown",
   "metadata": {},
   "source": [
    "\n",
    "As we noticed above, the size of the Jacobian is $ 6 \\times n $, where n is the\n",
    "number of joints. Therefore, for the Jacobian to be invertible we need to have\n",
    "six joints. The second condition is related to the degrees of freedom as the rank\n",
    "of the Jacobian is equal to the degrees of freedom of the robot. Therefore for the\n",
    "Jacobian to be invertible, the robot must not only have six joints, but also they\n",
    "should be arranged in such a configuration so that they result in six degrees of\n",
    "freedom.\n",
    "Since the Jacobian depends on the joint coordinates, we can see that for some\n",
    "set of joint coordinates, the Jacobian might lose rank and become\n",
    "non-invertible. When this occurs, we say that the robot is in a\n",
    "_singular_ configuration. This usually happens when two subsequent links get\n",
    "aligned, and therefore the influence of one of the two joints on the\n",
    "end-effector position becomes almost zero (see figure 5.1)"
   ]
  },
  {
   "cell_type": "markdown",
   "metadata": {},
   "source": [
    "<center>\n",
    "    <figure class=\"image\">\n",
    "      <img src=\"artwork/jacobian/jac1.png\" width=40% />\n",
    "      <figcaption>Figure 5.1: A robot in a singular configuration </figcaption>\n",
    "    </figure>\n",
    "</center>"
   ]
  },
  {
   "cell_type": "markdown",
   "metadata": {},
   "source": [
    "#### 5.2.1. The pseudoinverse"
   ]
  },
  {
   "cell_type": "markdown",
   "metadata": {},
   "source": [
    "\n",
    "Some times, we have robots with more than 6 joints, still resulting in a robot\n",
    "with six degrees of freedom. We should be able to calculate the inverse\n",
    "velocities problem since the robot has the dexterity to impose velocities in and\n",
    "around all axes. However, our Jacobian is $ 6 \\times 7 $ and therefore non\n",
    "invertible.\n",
    "\n",
    "To go around this problem, we calculate the pseudoinverse of the Jacobian. The\n",
    "pseudoinverse is a matrix that if multiplied with the original matrix gives the\n",
    "identity, just like the real inverse. We calculate it using the following\n",
    "methodology:\n",
    "\n",
    "\\begin{equation}\n",
    "   (JJ^T)(JJ^T)^{-1}= I \\\\\n",
    "   J[J^T(JJ^T)^{-1}]= I \\\\\n",
    "   JJ^+ = I \\\\\n",
    "\\end{equation}\n",
    "\n",
    "where: \n",
    "\\begin{equation}\n",
    "   J^+ = J^T(JJ^T)^{-1} \n",
    "\\end{equation}"
   ]
  },
  {
   "cell_type": "markdown",
   "metadata": {},
   "source": [
    "### 5.3 Robopy toolbox"
   ]
  },
  {
   "cell_type": "markdown",
   "metadata": {},
   "source": [
    "The robotics toolbox has some methods to calculate the jacobian of a robot,\n",
    "however it is able to do that only for specific configurations. As we saw above,\n",
    "the Jacobian depends on the joint orientations, which depend on the joint\n",
    "angles. Therefore, the Jacobian is not a fixed quantity and the robotics toolbox\n",
    "cannot calculate an analytical expression of it. Instead, it can calculate it\n",
    "for specific joint coordinates.\n",
    "In the following examples, we will work with a predefined robot model, namely\n",
    "the __Puma560__ robot from Unimate robots. It is a SerialLink object with respective methods.\n",
    "\n",
    "We can then calculate the Jacobian for a specific configuration\n",
    "running the following command:\n",
    "\n",
    "__p560.jacobian(q, unit = 'rad')__ \n",
    "\n",
    "where q is a list of the joints' angles.\n"
   ]
  },
  {
   "cell_type": "code",
   "execution_count": 38,
   "metadata": {},
   "outputs": [
    {
     "data": {
      "text/plain": [
       "array([[ 1.50050000e-01, -4.31800000e-01, -4.31800000e-01,\n",
       "         0.00000000e+00,  0.00000000e+00,  0.00000000e+00],\n",
       "       [ 0.00000000e+00,  4.52100000e-01,  2.03000000e-02,\n",
       "         0.00000000e+00,  0.00000000e+00,  0.00000000e+00],\n",
       "       [-4.52100000e-01, -2.76831409e-17, -1.24301650e-18,\n",
       "         0.00000000e+00,  0.00000000e+00,  0.00000000e+00],\n",
       "       [ 0.00000000e+00,  0.00000000e+00,  0.00000000e+00,\n",
       "         0.00000000e+00,  0.00000000e+00,  0.00000000e+00],\n",
       "       [ 1.00000000e+00,  6.12323400e-17,  6.12323400e-17,\n",
       "         1.00000000e+00,  6.12323400e-17,  1.00000000e+00],\n",
       "       [ 0.00000000e+00,  1.00000000e+00,  1.00000000e+00,\n",
       "         0.00000000e+00,  1.00000000e+00,  0.00000000e+00]])"
      ]
     },
     "execution_count": 38,
     "metadata": {},
     "output_type": "execute_result"
    }
   ],
   "source": [
    "import numpy as np\n",
    "from robopy import *\n",
    "from robopy import serial_link\n",
    "import matplotlib.pyplot as plt\n",
    "import math\n",
    "import sympy as sym\n",
    "\n",
    "robo = Puma560()\n",
    "q = np.array([0,0,0,0,0,0])\n",
    "robo.jacobian(q, unit = 'rad')\n"
   ]
  },
  {
   "cell_type": "markdown",
   "metadata": {},
   "source": [
    "### 5.4. Proposed problems"
   ]
  },
  {
   "cell_type": "markdown",
   "metadata": {},
   "source": [
    "\n",
    "  1. We consider the robotic structure with 3 degrees of freedom from fig 5.2\n",
    "  \n",
    "  <center>\n",
    "    <figure class=\"image\">\n",
    "      <img src=\"artwork/jacobian/jac2.png\" width=40% />\n",
    "      <figcaption>Figure 5.2.: Robot RRT</figcaption>\n",
    "    </figure>\n",
    "</center>\n",
    "\n",
    "\n",
    "    a. Determine the DH parameters for the model.\n",
    "    b. Determine the transformation from the fixed frame to each joint\n",
    "        coordinate frame.\n",
    "    c. Determine the Jacobian.\n",
    "  \n",
    "  \n",
    "  2. Consider the Puma 560 robot in the following joint coordinates: $ q_1 = 0.1, q_2 = 0.5, q_3 = 0.1, q_4 = 0.8, q_5 = 0.1, q_6 = 0.2 $\n",
    "    \n",
    "    \n",
    "    a. Calculate the Jacobian for this configuration using the robotics\n",
    "        toolbox.\n",
    "    b. Calculate the joint velocities that will result in end-effector\n",
    "        linear velocity along the X-axis of 2 m/s.\n",
    "    c. Calculate the resulting end-effector velocities (linear and angular)\n",
    "        for joint velocities equal to:\n",
    "$\\dot{q} = \\begin{bmatrix} 1 & 1.4 & 1.7 & 0.2 & 0.3 & 0.1 \\end{bmatrix}$\n",
    "    \n",
    "\n"
   ]
  },
  {
   "cell_type": "code",
   "execution_count": null,
   "metadata": {},
   "outputs": [],
   "source": []
  }
 ],
 "metadata": {
  "kernelspec": {
   "display_name": "Python 3",
   "language": "python",
   "name": "python3"
  },
  "varInspector": {
   "cols": {
    "lenName": 16,
    "lenType": 16,
    "lenVar": 40
   },
   "kernels_config": {
    "python": {
     "delete_cmd_postfix": "",
     "delete_cmd_prefix": "del ",
     "library": "var_list.py",
     "varRefreshCmd": "print(var_dic_list())"
    },
    "r": {
     "delete_cmd_postfix": ") ",
     "delete_cmd_prefix": "rm(",
     "library": "var_list.r",
     "varRefreshCmd": "cat(var_dic_list()) "
    }
   },
   "types_to_exclude": [
    "module",
    "function",
    "builtin_function_or_method",
    "instance",
    "_Feature"
   ],
   "window_display": false
  }
 },
 "nbformat": 4,
 "nbformat_minor": 4
}

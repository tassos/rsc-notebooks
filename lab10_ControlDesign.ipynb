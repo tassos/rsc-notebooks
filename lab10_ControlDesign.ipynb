{
 "cells": [
  {
   "cell_type": "markdown",
   "metadata": {},
   "source": [
    "## Laboratory 10"
   ]
  },
  {
   "cell_type": "markdown",
   "metadata": {},
   "source": [
    "# Control design of a robot arm process"
   ]
  },
  {
   "cell_type": "markdown",
   "metadata": {},
   "source": [
    "## 10.1 Independent Joint Control"
   ]
  },
  {
   "cell_type": "markdown",
   "metadata": {},
   "source": [
    "Independent joint control is the classical control approach, where a controller is designed for each individual joint (fig 10.1}). The effect of other joints is considered as a disturbance that the controller has to reject."
   ]
  },
  {
   "cell_type": "markdown",
   "metadata": {},
   "source": [
    "<center>\n",
    "    <figure class=\"image\">\n",
    "      <img src=\"artwork/control/Control_1.png\" width=40% />\n",
    "      <figcaption>Figure 10.1: Independent joint control - PD controllers</figcaption>\n",
    "    </figure>\n",
    "</center>"
   ]
  },
  {
   "cell_type": "markdown",
   "metadata": {},
   "source": [
    "\n",
    "Let us first rewrite a 2DOF model in terms of each individual joint $i$ :\n",
    "\n",
    "\\begin{equation}\\label{decoupledmodel}\n",
    "d_{ii}\\ddot{q}_i+c_{ii}\\dot{q}_i=\\tau_i-r^2_i w_i , \\quad i=1,2,..,n \\text{ (1)}\n",
    "\\end{equation}\n",
    "\n",
    "where $d_{ii}$ includes only the constant diagonal terms of $D'(q)$, while the disturbance term $w_i$ includes all other $i^{th}$ terms of $D'(q)$, and $i^{th}$ components of $C(q,\\dot{q})$ and $G(q)$. It is important to notice that if the the Coriolis and centripetal terms are not very large, then the process dynamics can be approximated well by _n decoupled linear second-order systems_.\n"
   ]
  },
  {
   "cell_type": "markdown",
   "metadata": {},
   "source": [
    "### 10.1.1 Control problem"
   ]
  },
  {
   "cell_type": "markdown",
   "metadata": {},
   "source": [
    "Design a linear controller for each joint that ensure tracking ($q$ tracks a reference signal $q_d$) and disturbance \n",
    "rejection ($w_{p}$)."
   ]
  },
  {
   "cell_type": "markdown",
   "metadata": {},
   "source": [
    "Consider standard PD controllers\n",
    "\\begin{equation}\\label{pd}\n",
    "\\tau_i=K(K_{di}\\dot{e}_i+K_{pi}e_i) \\text{ (2)}\n",
    "\\end{equation}\n",
    "where $e_i$ represents the tracking error, defined as $e_i=q_{di}-q_{i}$, and\n",
    "$\\dot{e}_i=\\dot{q}_{di}-\\dot{q}_{i}$ is the error of the derivatives."
   ]
  },
  {
   "cell_type": "markdown",
   "metadata": {},
   "source": [
    "If we consider the case of set-point tracking, that is $\\dot{q}_{di}=0$, and replace eq(2) in eq(1) we obtain:\n",
    "\n",
    "\\begin{equation}\\label{simpleprocess}\n",
    "d_{ii}\\ddot{q}_i(t)+(c_{ii}+KK_{di})\\dot{q}_i(t)+KK_{pi}q_i(t)=KK_{pi}q_{di}(t)-w_{pi}(t) , \\quad i=1,2, \\text{ (3)}\n",
    "\\end{equation}"
   ]
  },
  {
   "cell_type": "markdown",
   "metadata": {},
   "source": [
    "By applying the Laplace transform we get the transfer function relating the outputs ($q_i$) to the reference and disturbance inputs ($q_{di}$ and $w_{pi}$):\n",
    "\\begin{equation}\\label{tf}\n",
    "q_i(s)=\\frac{KK_{pi}}{d_{ii}s^2+(c_{ii}+KK_{di})s+KK_{pi}}q_{di}(s)-\\frac{1}{d_{ii}s^2+(c_{ii}+KK_{di})s+KK_{pi}}w_{pi}(s), \\quad i=1,2, \\text{ (4)}\n",
    "\\end{equation}"
   ]
  },
  {
   "cell_type": "markdown",
   "metadata": {},
   "source": [
    "The characteristic equations are \n",
    "\\begin{equation}\n",
    "{d_{ii}s^2+(c_{ii}+KK_{di})s+KK_{pi}}=0, \\text{ (5)}\n",
    "\\end{equation}\n",
    "which can also be written as\n",
    "\\begin{equation}\n",
    "s^2+\\frac{c_{ii}+KK_{di}}{d_{ii}}s+\\frac{ KK_{pi}}{d_{ii}}=0.   \\text{ (6)}\n",
    "\\end{equation}"
   ]
  },
  {
   "cell_type": "markdown",
   "metadata": {},
   "source": [
    "Because the standard second order equation is given by\n",
    "\\begin{equation}\n",
    "s^2+2 \\zeta_i \\omega_{ni}s+\\omega^2_{ni}=0, \\text{ (7)}\n",
    "\\end{equation}\n",
    "\n",
    "the controller parameters can be expressed in terms of damping ratio $\\zeta$ and natural frequency $\\omega_n$:\n",
    "\n",
    "\\begin{equation}\\label{pdgain}\n",
    "K_{pi}=\\frac{d_{ii}\\omega^2_{ni}}{K} , \\quad K_{di}=\\frac{2\\zeta_i \\omega_{ni} d_{ii}-c_{ii}}{K}  \\text{ (8)}\n",
    "\\end{equation}"
   ]
  },
  {
   "cell_type": "markdown",
   "metadata": {},
   "source": [
    "Usually $\\zeta$ is set to 1 (critical damping), and $\\omega_n$ is chosen as high\n",
    "as possible. One possible limitation in the value adopted for $\\omega_n$ is the\n",
    "input torque $\\tau_i$ saturation.\n",
    "The control strategy proves very efficient in practice. If we further want to force a very small or null steady state error $e_{ss}$, then we can either adopt PID type controllers\n",
    "\n",
    "\\begin{equation}\\label{pid}\n",
    "\\tau_i=K_{di}\\dot{e}_i+K_{pi}e_i+K_{ii}\\int_{0}^{t} e\\,dt, \\text{ (9)}\n",
    "\\end{equation}\n",
    "\n",
    "or PD controllers with an additional gravity term. Note that in this case the control signals are not decoupled anymore.\n",
    "\n",
    "\\begin{equation}\\label{pdgrav}\n",
    "\\tau_i=K_{di}\\dot{e}_i+K_{pi}e_i+G'_i(q) \\text{ (10)}\n",
    "\\end{equation}"
   ]
  },
  {
   "cell_type": "markdown",
   "metadata": {},
   "source": [
    "## 10.2 Computed Torque Control"
   ]
  },
  {
   "cell_type": "markdown",
   "metadata": {},
   "source": [
    "Computed torque control (in some places called feedback linearization control) is a more sophisticated and modern control strategy that can be used to increase the control performances. The control consists out of an inner feedback loop and an outer feedback loop: fig.10.2. Although it is a nonlinear control approach, because the inner feedback loop achieves dynamic linearization, the outer feedback loop resume to a classical linear control design.  \n"
   ]
  },
  {
   "cell_type": "markdown",
   "metadata": {},
   "source": [
    "<center>\n",
    "    <figure class=\"image\">\n",
    "      <img src=\"artwork/control/Control_2.png\" width=60% />\n",
    "      <figcaption>Figure 10.2: Computed torque control - feedback linearization - principal control structure </figcaption>\n",
    "    </figure>\n",
    "</center>"
   ]
  },
  {
   "cell_type": "markdown",
   "metadata": {},
   "source": [
    "\n",
    "Consider the robot arm process model from equation (1). By the change of notation $V(q,\\dot{q})=C(q,\\dot{q})\\dot{q}+G(q)$ we can rewrite the model more compactly as\n",
    "\n",
    "\\begin{equation}\\label{lastmodel}\n",
    "D(q)\\ddot{q}+V(q,\\dot{q})=\\tau \\text{ (11)}\n",
    "\\end{equation}"
   ]
  },
  {
   "cell_type": "markdown",
   "metadata": {},
   "source": [
    "\n",
    "Consider the following control law for the inner control loop:\n",
    "\\begin{equation}\\label{controlaw}\n",
    "\\tau=D(q)(\\ddot{q}_d-u)+V(q,\\dot{q}) \\text{ (12)}\n",
    "\\end{equation}\n",
    "\n",
    "We define the tracking error as\n",
    "\\begin{equation}\\label{error}\n",
    "e=q_d-q. \\text{ (13)}\n",
    "\\end{equation}\n",
    "Then $\\dot{e}=\\dot{q}_d-\\dot{q} \\quad and \\quad \\ddot{e}=\\ddot{q}_d-\\ddot{q}$.\n",
    "\n",
    "By replacing the torque from eq(13) in model eq(12), and using the definition eq(14), we obtain:\n",
    "\n",
    "\\begin{equation}\\label{doubleintegrator}\n",
    "\\ddot{e}=u \\text{ (14)}\n",
    "\\end{equation}"
   ]
  },
  {
   "cell_type": "markdown",
   "metadata": {},
   "source": [
    "\n",
    "Thus the inner feedback loop achieves dynamic linearization, in other words the outer loop \"sees\" a double integrator process.\n",
    "The double integrator model eq(14) can be written in state space form:\n",
    "\n",
    "\\begin{equation}\n",
    "\\dot{x}=Ax+Bu \\text{ (15)}\n",
    "\\end{equation}\n",
    "\n",
    "with \n",
    "\n",
    "\\begin{equation}\n",
    "x=\\begin{bmatrix}\n",
    "e\\\\\n",
    "\\dot{e}\n",
    "\\end{bmatrix},\n",
    "A=\\begin{bmatrix}\n",
    "0_2 & I_2 \\\\\n",
    "0_2 & 0_2 \\\\\n",
    "\\end{bmatrix},\n",
    "B=\\begin{bmatrix}\n",
    "0_2 \\\\\n",
    "I_2\n",
    "\\end{bmatrix} \\text{ (16)}\n",
    "\\end{equation}"
   ]
  },
  {
   "cell_type": "markdown",
   "metadata": {},
   "source": [
    "Now the outer loop can be designed by any classical linear control technique. We will consider here a state feedback control law with integrator component:\n",
    "\n",
    "\\begin{equation}\\label{statefeedback}\n",
    "u=-Kx+K_i\\epsilon \\text{ (17)}\n",
    "\\end{equation}\n",
    "\n",
    "where $\\epsilon$ is the output of the integrator ($\\dot{\\epsilon}=e$) - see Fig:10.3.\n",
    "We will first design the state feedback gain K using Ackerman's formula for a $4^{th}$ order system:\n",
    "\n",
    "\\begin{equation}\n",
    "K=[0 \\, 0 \\, 0 \\, 1]M^{-1}_c \\Delta(A) \\text{ (18)}\n",
    "\\end{equation}\n",
    "\n",
    "where $\\Delta$ is the desired characteristic polynomial of the closed loop system\n",
    "\n",
    "\\begin{equation}\n",
    "\\Delta(s)=s^4+a_3s^3+a_2s^2+a_1s^1+a_0,  \\text{ (19)}\n",
    "\\end{equation}\n",
    "\n",
    "and $M_c$ is the controllability matrix:\n",
    "\n",
    "\\begin{equation}\n",
    "M_c=[B|AB|A^2B|A^3B]. \\text{ (20)}\n",
    "\\end{equation}"
   ]
  },
  {
   "cell_type": "markdown",
   "metadata": {},
   "source": [
    "After the state feedback gain K is designed through pole placement, we will consider that the integrator gain can be designed through trial and error in simulations, in order the achieve the best tracking performances possible, while taking into account nonlinear effects like saturation, dead-zones or backlash.\n",
    "\n",
    "Finally, the detailed control structure is shown in Figure 10.3."
   ]
  },
  {
   "cell_type": "markdown",
   "metadata": {},
   "source": [
    "<center>\n",
    "    <figure class=\"image\">\n",
    "      <img src=\"artwork/control/Control_3.png\" width=60% />\n",
    "      <figcaption>Figure 10.3: Computed torque control - feedback linearization - detailed control structure </figcaption>\n",
    "    </figure>\n",
    "</center>"
   ]
  },
  {
   "cell_type": "markdown",
   "metadata": {},
   "source": [
    "##  10.3 Numerical results"
   ]
  },
  {
   "cell_type": "markdown",
   "metadata": {},
   "source": [
    "### 10.3.1 Robot arm example"
   ]
  },
  {
   "cell_type": "markdown",
   "metadata": {},
   "source": [
    "As an example of a 2DOF robot with the structure as in Figure 7.1 (from Dynamic Model laboratory), consider the robot from Figure 10.4., that we model using eq(10.1).\n",
    "\n",
    "The parameters are (The parameters were either measured or estimated) :$L_1=0.095 \\ m$, $L_2=0.1 \\ m$, $m_1=0.095 \\ kg$, $m_2=0.37\\ kg$, $g=9.81 \\ m/s^2$, $I_{1x}=2.27 \\ 10^{-2} \\ kg \\ m^2$, $I_{2y}=2.27 \\ 10{-2} \\ kg \\ m^2$, $b_1=0.24$, $b_2=0.16$, $r=1$. The torque control signal is limited to the range $[-1.18,1.18] \\, Nm$."
   ]
  },
  {
   "cell_type": "markdown",
   "metadata": {},
   "source": [
    "<center>\n",
    "    <figure class=\"image\">\n",
    "      <img src=\"artwork/control/Control_4.png\" width=40% />\n",
    "      <figcaption>Figure 10.4: Real robot arm process  </figcaption>\n",
    "    </figure>\n",
    "</center>"
   ]
  },
  {
   "cell_type": "markdown",
   "metadata": {},
   "source": [
    "### 10.3.2 Independent Joint Control"
   ]
  },
  {
   "cell_type": "markdown",
   "metadata": {},
   "source": [
    "Here we will design PD controller for independent joint controller\n",
    "\n",
    "\\begin{equation}\n",
    "\\tau_1=K_{d1}\\dot{e}_1+K_{p1}e_1,\n",
    "\\tau_2=K_{d2}\\dot{e}_2+K_{p2}e_2, \\text{ (21)}\n",
    "\\end{equation}\n",
    "\n",
    "for the robot process eq(10.1), with the parameters given in previous section. We will use the formula eq(7.5), with $B=0, J_{p1}=0.0263$,$J_{p2}=0.0236$, $\\zeta=1$, $K=1$. We started from a value for $\\omega_n=\\omega_{n1}=\\omega_{n2}$ of 0.1, an increased it until the step response of the closed loop system is fast enough, and the control torques reach saturation for a small time interval. In the end, a value of $12$ provided good enough results."
   ]
  },
  {
   "cell_type": "markdown",
   "metadata": {},
   "source": [
    "The implementation of the controllers and process was done in Matlab/Simulink. Figure 10.5 shows simulations results of the closed loop system with step reference signals, while Figure 10.6 shows the control torques. The results show that a small steady state is present. This can be eliminated by adding a gravity term as in eq(10.10). The results with PD+gravity control are shown in Figure 10.7. It can be noticed that now the steady state error is zero. Note that in the case of PD+gravity controller, the controller is no longer joint independent, due to the gravity terms that contain expressions in both joint variables $q_1$ and $q_2$.\n",
    "\n",
    "A more interesting and demanding tracking scenario is that when the reference signals are sinusoidal ($q_d(t)=sin(t)$), which is shown Figure 10.8 for the PD+gravity controllers. Although the steady state error is now exactly zero, because the reference continuously changes, the error is kept into very small limits.  "
   ]
  },
  {
   "cell_type": "markdown",
   "metadata": {},
   "source": [
    "<center>\n",
    "    <figure class=\"image\">\n",
    "      <img src=\"artwork/control/Control_5.png\" width=70% />\n",
    "      <figcaption>Figure 10.5: Simulations with PD independent joint control - step response </figcaption>\n",
    "    </figure>\n",
    "</center>\n",
    "\n",
    "<center>\n",
    "    <figure class=\"image\">\n",
    "      <img src=\"artwork/control/Control_6.png\" width=70% />\n",
    "      <figcaption>Figure 10.6: Control torques for PD independent joint control  </figcaption>\n",
    "    </figure>\n",
    "</center>\n",
    "\n",
    "<center>\n",
    "    <figure class=\"image\">\n",
    "      <img src=\"artwork/control/Control_7.png\" width=70% />\n",
    "      <figcaption>Figure 10.7:Simulations with PD+Gravity joint control - step response  </figcaption>\n",
    "    </figure>\n",
    "</center>\n",
    "\n",
    "<center>\n",
    "    <figure class=\"image\">\n",
    "      <img src=\"artwork/control/Control_8.png\" width=70% />\n",
    "      <figcaption>Figure 10.8: Simulations with PD+Gravity joint control - sinusoidal response </figcaption>\n",
    "    </figure>\n",
    "</center>\n",
    "\n",
    "\n",
    "\n"
   ]
  },
  {
   "cell_type": "markdown",
   "metadata": {},
   "source": [
    "### 10.3.3. Computed Torque Control"
   ]
  },
  {
   "cell_type": "markdown",
   "metadata": {},
   "source": [
    "Consider the inner feedback loop with control law eq(10.12), and the outer feedback loop with control law eq(10.17) (Figure 10.2)\n",
    "\n",
    "We will design the state feedback gain K for the double integrator process eq(10.14), through pole placement. Consider the following closed loop pole configuration [-4 -4 -9 -9] (desired eigenvalues for $A-BK$). The poles where chosen such that we get an overdamped and fast enough response, while avoiding saturation as much as possible. As the poles are moved farther to the left in the complex plane, the response becomes faster, but the control effort increases. \n",
    "\n",
    "\\begin{equation}\n",
    "K=\\begin{bmatrix}\n",
    "36 & 0 & 13 & 0\\\\\n",
    "0 & 36 & 0 & 13\n",
    "\\end{bmatrix} \\text{ (22)}\n",
    "\\end{equation}\n",
    "\n"
   ]
  },
  {
   "cell_type": "markdown",
   "metadata": {},
   "source": [
    "The integrator gain $K_i$ is found through trial and error in simulations:\n",
    "we increase the gain starting from an initial value of 0.1 - until the maximum steady state error starts to increase. We keep the previous iterated value. Thus, we finally arrive at the value $0.6$ (that is $K_i=[0.6 \\quad 0.6]$).   \n",
    "\n",
    "For a better comparison between the performances of the PD+gravity control approach versus the computed torque control, we reconsider the sinusoidal reference input from the previous section, but now we will look directly at the tracking errors defined as $e_1=q_{d1}-q_1, \\, e_2=q_{d2}-q_2$. Figure 10.9 shows the tracking errors for the two joint positions  in the case of PD+gravity control. The maximum error is about 0.05 rad (2.8 deg). For the Computed Torque control the results are shown in Figure 10.10. Notice that the maximum error is now much smaller 0.01 rad (0.5 deg). Of course that the cost is an increase complexity for the controller - the implementation requires a considerable increase in computational power."
   ]
  },
  {
   "cell_type": "markdown",
   "metadata": {},
   "source": [
    "<center>\n",
    "    <figure class=\"image\">\n",
    "      <img src=\"artwork/control/Control_9.png\" width=70% />\n",
    "      <figcaption>Figure 10.9:Tracking error for PD$+$grav control  </figcaption>\n",
    "    </figure>\n",
    "</center>\n",
    "\n",
    "<center>\n",
    "    <figure class=\"image\">\n",
    "      <img src=\"artwork/control/Control_10.png\" width=70% />\n",
    "      <figcaption>Figure 10.10: Tracking error for Computer Torque Control </figcaption>\n",
    "    </figure>\n",
    "</center>"
   ]
  },
  {
   "cell_type": "markdown",
   "metadata": {},
   "source": [
    "## 10.4 Proposed problems"
   ]
  },
  {
   "cell_type": "markdown",
   "metadata": {},
   "source": [
    "\n",
    "  1. Consider the 2DOF robotic structure from laboratory 7, figure 10.11, with known matrices D,C,G given in the code. Implement an Independent Joint Control with PD controllers.\n",
    "  \n",
    "  \n",
    "    a. Use step and then sinusoidals of different frequencies as input joint trajectories\n",
    "    b. Add a saturation of -1.18, 1.18 for the input torque.\n",
    "    c. Adapt the natural frequencies and observe their influence on the movement and position of the robot.\n",
    "    d. Add an integrator and tune its gain manually, for a PID.\n",
    "    \n",
    "<center>\n",
    "    <figure class=\"image\">\n",
    "      <img src=\"artwork/DynMod/fig7-1.png\" width=30% />\n",
    "      <figcaption>Figure 10.11: 2DOF robot </figcaption>\n",
    "    </figure>\n",
    "</center>\n",
    "  \n",
    "\n"
   ]
  },
  {
   "cell_type": "code",
   "execution_count": null,
   "metadata": {},
   "outputs": [],
   "source": [
    "%reset -f\n",
    "import numpy as np\n",
    "from scipy.integrate import odeint\n",
    "import matplotlib.pyplot as plt\n",
    "import math as m\n",
    "from odeintw import *\n",
    "from math import pi\n",
    "\n",
    "\n",
    "def model(x,t,tau):\n",
    "    g  = 9.8\n",
    "  \n",
    "    tau = tau.reshape(2,1) # reshaping for mathematical operations\n",
    "    \n",
    "    q  = x[:,0]  #first column of x, the states\n",
    "    dq = x[:,1]  #second column of x, the states derivated\n",
    "\n",
    "    D = np.array([ [0.003515*m.cos(q[1])+0.000925*m.cos(q[1])**2+0.026254,      0       ],\n",
    "                 [0,                                                            0.023625] ])\n",
    "\n",
    "    C = np.array([ [0.24-0.0017575*dq[1]*m.sin(q[1]) - 0.0004625*dq[1]*m.sin(2.0*q[1]), -0.0004625*dq[0]*m.sin(2.0*q[1]) - 0.0017575*dq[0]*m.sin(q[1])],\n",
    "                   [0.0004625*dq[0]*m.sin(2.0*q[1]) + 0.0017575*dq[0]*m.sin(q[1]),      0.16                                                          ] ])\n",
    "\n",
    "    G = np.array([ [(-0.1815*m.cos(q[1])-0.1376)*m.sin(q[0])],\n",
    "                   [-0.18149*m.cos(q[0])*m.sin(q[1])      ] ])\n",
    "    \n",
    "    \n",
    "    xdot1 = dq.reshape(2,1)\n",
    "    xdot2 = np.matmul(np.linalg.inv(D), (tau - C.dot(dq).reshape(2,1) - G))\n",
    "    \n",
    "    xdot = np.concatenate((xdot1, xdot2), axis=1)\n",
    "\n",
    "    return xdot\n",
    "\n",
    "\n",
    "\n",
    "\n",
    "# time interval\n",
    "dt = 0.01\n",
    "\n",
    "# final time\n",
    "tf = 20\n",
    "\n",
    "# nr of samples\n",
    "n = int(np.round(tf/dt))\n",
    "\n",
    "# Desired time samples for the solution.\n",
    "t = np.arange(0, tf, dt)\n",
    "\n",
    "# step reference\n",
    "sp = np.heaviside(t, 0)\n",
    "\n",
    "q1  = np.zeros(n)\n",
    "q2  = np.zeros(n)\n",
    "dq1 = np.zeros(n)\n",
    "dq2 = np.zeros(n)\n",
    "tau1 = np.zeros(n)\n",
    "tau2 = np.zeros(n)\n",
    "\n",
    "# x0 is the initial condition.\n",
    "x0 = np.array([[0.0, 0.0],\n",
    "               [0.0, 0.0]])\n",
    "\n",
    "\n",
    "# natural frequencies and damping coeff\n",
    "xi  = 1\n",
    "wn1 = 30\n",
    "wn2 = 15\n",
    "\n",
    "# solve ODE for each step\n",
    "for i in range(2,n):\n",
    "\n",
    "    # span for next time step\n",
    "    tspan = [t[i-1],t[i]]  \n",
    "\n",
    "    tau = np.array([[tau1[i]],[tau2[i]]])\n",
    "\n",
    "    # solve for next step\n",
    "    x = odeintw(model,x0,tspan,args=(tau,))\n",
    "\n",
    "    # store solution for plotting\n",
    "    q1[i]  = x[1][0,0]\n",
    "    q2[i]  = x[1][1,0]\n",
    "    dq1[i] = x[1][0,1]\n",
    "    dq2[i] = x[1][1,1]\n",
    "\n",
    "    # next initial condition \n",
    "    x0 = x[1]\n",
    "    \n",
    "    \n",
    "\n",
    "\n",
    "fig = plt.figure()\n",
    "fig.set_size_inches(18.5, 18.5)\n",
    "\n",
    "\n",
    "plt.subplot(4, 1, 1)\n",
    "plt.plot(t, q1, 'b', label='q1')\n",
    "plt.plot(t, sp, 'g', label='ref1')\n",
    "plt.legend(loc='best')\n",
    "plt.ylabel('values')\n",
    "plt.xlabel('time')\n",
    "plt.grid(True)\n",
    "\n",
    "plt.subplot(4, 1, 2)\n",
    "plt.plot(t, q2, 'b', label='q2')\n",
    "plt.plot(t, sp, 'g', label='ref2')\n",
    "plt.legend(loc='best')\n",
    "plt.ylabel('values')\n",
    "plt.xlabel('time')\n",
    "plt.grid(True)\n",
    "\n",
    "plt.subplot(4, 1, 3)\n",
    "plt.plot(t, tau1, 'b', label='tau1')\n",
    "plt.legend(loc='best')\n",
    "plt.ylabel('command1')\n",
    "plt.xlabel('time')\n",
    "plt.grid(True)\n",
    "\n",
    "plt.subplot(4, 1, 4)\n",
    "plt.plot(t, tau2, 'b', label='tau2')\n",
    "plt.legend(loc='best')\n",
    "plt.ylabel('command2')\n",
    "plt.xlabel('time')\n",
    "plt.grid(True)\n",
    "\n",
    "\n",
    "plt.show()\n",
    "    \n",
    "\n"
   ]
  },
  {
   "cell_type": "markdown",
   "metadata": {},
   "source": [
    "2. Consider the same 2DOF robotic structure from figure 10.11. Implement an Computed Torque Control with an inner state feedback controller. Add an outer loop PI controller.\n",
    "  \n",
    "    "
   ]
  },
  {
   "cell_type": "markdown",
   "metadata": {},
   "source": [
    "There are some steps to be taken into consideration. We first have to eliminate the nonlinear element from the model. In order to do that, we remodel the equation of the torques using the D and V matrices(figure 10.12 and 10.13), which will later linearize the system. For that, we can just define 2 functions that would take the positions and velocities as input and return their respective terms. \n",
    "\n",
    "\n",
    "<center>\n",
    "    <figure class=\"image\">\n",
    "      <img src=\"artwork/control/Control_3_2.png\" width=50% />\n",
    "      <figcaption>Figure 10.12: D term </figcaption>\n",
    "    </figure>\n",
    "</center>\n",
    "\n",
    "<center>\n",
    "    <figure class=\"image\">\n",
    "      <img src=\"artwork/control/Control_3_1.png\" width=50% />\n",
    "      <figcaption>Figure 10.13: V term </figcaption>\n",
    "    </figure>\n",
    "</center>"
   ]
  },
  {
   "cell_type": "code",
   "execution_count": null,
   "metadata": {},
   "outputs": [],
   "source": [
    "# run this cell to put the functions in the workspace\n",
    "import math as m \n",
    "import numpy as np\n",
    "\n",
    "def D(x,a):\n",
    "    \"\"\" function computing the D*acceleration vector\"\"\"\n",
    "      \n",
    "    q  = x[:,0]  #first column of x, the states\n",
    "    dq = x[:,1]  #second column of x, the states derivated\n",
    "\n",
    "    D = np.array([ [0.003515*m.cos(q[1])+0.000925*m.cos(q[1])**2+0.026254,      0       ],\n",
    "                 [0,                                                            0.023625] ])\n",
    "\n",
    "    return np.matmul(D,a)\n",
    "\n",
    "\n",
    "def V(x):\n",
    "    \"\"\" function computing the V term\"\"\"\n",
    "\n",
    "    q  = x[:,0]  #first column of x, the states\n",
    "    dq = x[:,1]  #second column of x, the states derivated\n",
    "\n",
    "    C = np.array([ [0.24-0.0017575*dq[1]*m.sin(q[1]) - 0.0004625*dq[1]*m.sin(2.0*q[1]), -0.0004625*dq[0]*m.sin(2.0*q[1]) - 0.0017575*dq[0]*m.sin(q[1])],\n",
    "                   [0.0004625*dq[0]*m.sin(2.0*q[1]) + 0.0017575*dq[0]*m.sin(q[1]),      0.16                                                          ] ])\n",
    "\n",
    "    G = np.array([ [(-0.1815*m.cos(q[1])-0.1376)*m.sin(q[0])],\n",
    "                   [-0.18149*m.cos(q[0])*m.sin(q[1])      ] ])\n",
    "    \n",
    "    return C.dot(dq).reshape(2,1) + G"
   ]
  },
  {
   "cell_type": "markdown",
   "metadata": {},
   "source": [
    "After that, since we have a linear system, we can try to just use a state feedback controller (with the error and error derivatives as states) for the inner control loop (fig. 10.14) and an integrator term for the outer control loop(fig. 10.15).\n",
    "\n",
    "\n",
    "<center>\n",
    "    <figure class=\"image\">\n",
    "      <img src=\"artwork/control/Control_3_3.png\" width=50% />\n",
    "      <figcaption>Figure 10.14: Inner loop controller </figcaption>\n",
    "    </figure>\n",
    "</center>\n",
    "\n",
    "<center>\n",
    "    <figure class=\"image\">\n",
    "      <img src=\"artwork/control/Control_3_4.png\" width=50% />\n",
    "      <figcaption>Figure 10.15: Outer loop controller </figcaption>\n",
    "    </figure>\n",
    "</center>"
   ]
  },
  {
   "cell_type": "code",
   "execution_count": null,
   "metadata": {
    "scrolled": true
   },
   "outputs": [],
   "source": [
    "import numpy as np\n",
    "from scipy.integrate import odeint\n",
    "import matplotlib.pyplot as plt\n",
    "import math as m\n",
    "from odeintw import *\n",
    "from math import pi\n",
    "from scipy.signal import place_poles \n",
    "from robopy import serial_link as sl\n",
    "from robopy import *\n",
    "\n",
    "def model(x,t,tau):\n",
    "    g  = 9.8\n",
    "  \n",
    "    tau = tau.reshape(2,1) # reshaping for mathematical operations\n",
    "    \n",
    "    q  = x[:,0]  #first column of x, the states\n",
    "    dq = x[:,1]  #second column of x, the states derivated\n",
    "\n",
    "    D = np.array([ [0.003515*m.cos(q[1])+0.000925*m.cos(q[1])**2+0.026254,      0       ],\n",
    "                 [0,                                                            0.023625] ])\n",
    "\n",
    "    C = np.array([ [0.24-0.0017575*dq[1]*m.sin(q[1]) - 0.0004625*dq[1]*m.sin(2.0*q[1]), -0.0004625*dq[0]*m.sin(2.0*q[1]) - 0.0017575*dq[0]*m.sin(q[1])],\n",
    "                   [0.0004625*dq[0]*m.sin(2.0*q[1]) + 0.0017575*dq[0]*m.sin(q[1]),      0.16                                                          ] ])\n",
    "\n",
    "    G = np.array([ [(-0.1815*m.cos(q[1])-0.1376)*m.sin(q[0])],\n",
    "                   [-0.18149*m.cos(q[0])*m.sin(q[1])      ] ])\n",
    "    \n",
    "    \n",
    "    xdot1 = dq.reshape(2,1)\n",
    "    xdot2 = np.matmul(np.linalg.inv(D), (tau - C.dot(dq).reshape(2,1) - G))\n",
    "    \n",
    "    xdot = np.concatenate((xdot1, xdot2), axis=1)\n",
    "\n",
    "    return xdot\n",
    "\n",
    "\n",
    "\n",
    "\n",
    "\n",
    "\n",
    "# time interval/sampling time\n",
    "dt = 0.01\n",
    "\n",
    "# final time\n",
    "tf = 10\n",
    "\n",
    "# nr of samples\n",
    "n = int(np.round(tf/dt))\n",
    "\n",
    "# Desired time samples for the solution.\n",
    "t = np.arange(0, tf, dt)\n",
    "\n",
    "# trajectory planning\n",
    "sp_q1   = np.sin(t)\n",
    "sp_q2   = np.sin(t)\n",
    "dsp_q1  = np.cos(t)\n",
    "dsp_q2  = np.cos(t)\n",
    "ddsp_q1 = -sp_q1\n",
    "ddsp_q2 = -sp_q2\n",
    "\n",
    "\n",
    "# x0 is the initial condition\n",
    "x0 = np.array([[0.0, 0.0],\n",
    "               [0.0, 0.0]])\n",
    "\n",
    "q1   = np.zeros(n)\n",
    "q2   = np.zeros(n)\n",
    "dq1  = np.zeros(n)\n",
    "dq2  = np.zeros(n)\n",
    "ddq1 = np.zeros(n)\n",
    "ddq2 = np.zeros(n)\n",
    "tau  = np.zeros((2,n))\n",
    "u    = np.zeros((2,n))\n",
    "\n",
    "\n",
    "\n",
    "# natural frequencies and damping coeff\n",
    "xi  = 1\n",
    "wn1 = 30\n",
    "wn2 = 15\n",
    "\n",
    "\n",
    "# pole placement for inner loop state feedback\n",
    "\n",
    "K = \n",
    "\n",
    "\n",
    "\n",
    "# current error \n",
    "e1 = 0\n",
    "e2 = 0\n",
    "\n",
    "# error z^-1\n",
    "e1_prev = 0\n",
    "e2_prev = 0\n",
    "\n",
    "# error z^-2\n",
    "e1_pprev = 0\n",
    "e2_pprev = 0\n",
    "\n",
    "\n",
    "\n",
    "# solve ODE for each step\n",
    "for i in range(1,n):\n",
    "\n",
    "    # span for next time step\n",
    "    tspan = [t[i-1],t[i]]  \n",
    "\n",
    "    \n",
    "\n",
    "    #state feedback\n",
    "    \n",
    "    u[:,i] = \n",
    "    \n",
    "      \n",
    "        \n",
    "    # linearising inner controller\n",
    "    \n",
    "    tau[:,i] = \n",
    "    \n",
    "    \n",
    "    \n",
    "    # solve for next step\n",
    "    x = odeintw(model,x0,tspan,args=(tau[:,i],))\n",
    "\n",
    "    \n",
    "    \n",
    "    # store solution for plotting\n",
    "    q1[i]  = x[1][0,0]\n",
    "    q2[i]  = x[1][1,0]\n",
    "    dq1[i] = x[1][0,1]\n",
    "    dq2[i] = x[1][1,1]\n",
    "    \n",
    "    \n",
    "\n",
    "    # next initial condition \n",
    "    x0 = x[1]\n",
    "\n",
    "    \n",
    "    \n",
    "    \n",
    "    \n",
    "    \n",
    "    \n",
    "fig = plt.figure()\n",
    "fig.set_size_inches(18.5, 18.5)\n",
    "\n",
    "\n",
    "plt.subplot(4, 1, 1)\n",
    "plt.plot(t, q1, 'b', label='q1')\n",
    "plt.plot(t, sp_q1, 'g', label='ref1')\n",
    "plt.legend(loc='best')\n",
    "plt.ylabel('values')\n",
    "plt.xlabel('time')\n",
    "plt.grid(True)\n",
    "\n",
    "plt.subplot(4, 1, 2)\n",
    "plt.plot(t, q2, 'b', label='q2')\n",
    "plt.plot(t, sp_q2, 'g', label='ref2')\n",
    "plt.legend(loc='best')\n",
    "plt.ylabel('values')\n",
    "plt.xlabel('time')\n",
    "plt.grid(True)\n",
    "\n",
    "plt.subplot(4, 1, 3)\n",
    "plt.plot(t, tau[0,:], 'b', label='tau1')\n",
    "plt.plot(t, tau[1,:], 'g', label='tau2')\n",
    "plt.legend(loc='best')\n",
    "plt.ylabel('torques')\n",
    "plt.xlabel('time')\n",
    "plt.grid(True)\n",
    "\n",
    "plt.subplot(4, 1, 4)\n",
    "plt.plot(t, u[0,:], 'b', label='cmd1')\n",
    "plt.plot(t, u[1,:], 'g', label='cmd2')\n",
    "plt.legend(loc='best')\n",
    "plt.ylabel('state feedback command')\n",
    "plt.xlabel('time')\n",
    "plt.grid(True)\n",
    "\n",
    "\n",
    "plt.show()\n",
    "    \n",
    "\n",
    "    \n",
    "\n",
    "qval = 0\n",
    "l    = 0.5\n",
    "qlim = [-m.pi,m.pi]\n",
    "\n",
    "# theta, d, a, alpha, offset, qlim\n",
    "L1 = sl.Revolute(0, 0, 0, pi/2, pi/2, qlim, mdh=1)\n",
    "L2 = sl.Revolute(0, 0, l, pi/2, 0, qlim, mdh=1)\n",
    "\n",
    "robot = sl.SerialLink([L1, L2], name = '2 DOF robot', tool = transl(l,0,0))#, base = trotx(-m.pi/2))\n",
    "\n",
    "q1 = np.asmatrix(q1).reshape(n,1)\n",
    "q2 = np.asmatrix(q2).reshape(n,1)\n",
    "f  = np.concatenate((q1, q2), axis=1)\n",
    "\n",
    "robot.animate(stances=f, frame_rate=1/dt, unit='rad')"
   ]
  }
 ],
 "metadata": {
  "kernelspec": {
   "display_name": "Python 3",
   "language": "python",
   "name": "python3"
  },
  "language_info": {
   "codemirror_mode": {
    "name": "ipython",
    "version": 3
   },
   "file_extension": ".py",
   "mimetype": "text/x-python",
   "name": "python",
   "nbconvert_exporter": "python",
   "pygments_lexer": "ipython3",
   "version": "3.7.6"
  },
  "varInspector": {
   "cols": {
    "lenName": 16,
    "lenType": 16,
    "lenVar": 40
   },
   "kernels_config": {
    "python": {
     "delete_cmd_postfix": "",
     "delete_cmd_prefix": "del ",
     "library": "var_list.py",
     "varRefreshCmd": "print(var_dic_list())"
    },
    "r": {
     "delete_cmd_postfix": ") ",
     "delete_cmd_prefix": "rm(",
     "library": "var_list.r",
     "varRefreshCmd": "cat(var_dic_list()) "
    }
   },
   "types_to_exclude": [
    "module",
    "function",
    "builtin_function_or_method",
    "instance",
    "_Feature"
   ],
   "window_display": false
  }
 },
 "nbformat": 4,
 "nbformat_minor": 4
}

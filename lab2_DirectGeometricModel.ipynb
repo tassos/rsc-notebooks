{
 "cells": [
  {
   "cell_type": "markdown",
   "metadata": {},
   "source": [
    "# Laboratory 2"
   ]
  },
  {
   "cell_type": "markdown",
   "metadata": {},
   "source": [
    "## Direct Geometric Model"
   ]
  },
  {
   "cell_type": "markdown",
   "metadata": {},
   "source": [
    "This laboratory presents an algorithm for the determination of the direct geometric model for an 'open chain' manipulation structure. We will:\n",
    "\n",
    "- Define the homogeneous transformation matrices for the joints of a manipulation structure with \"n\" degrees of freedom.\n",
    "- Define and calculate the position vector $Z_{p}=[x\\;\\;y\\;\\;z]^{T}$ for the specified manipulation structure.\n"
   ]
  },
  {
   "cell_type": "markdown",
   "metadata": {},
   "source": [
    "### 2.1 Anatomy of a robot\n",
    "The arm of a robot is composed of a succession of rigid segments, called *links*. The links are connected with each other through articulations, called *joints*. The links and joints are forming a kinematic chain. The kinematic chain can be open or closed. Every link in a closed kinematic chain is connected at least with two joints. In the case of an open kinematic chain, the first link (base) and the last link (end effector), have only a single joint. There are two types of joints available when constructing a robot: joints that allow a rotation (R) and joints that allow a translation (T). If a joint is actuated with the help of a motor, it is called motor joint.\n",
    "\n",
    "\n"
   ]
  },
  {
   "cell_type": "markdown",
   "metadata": {},
   "source": [
    "<figure>\n",
    "    <img src=\"artwork/DGM/fig2-1.png\" width=50%/>\n",
    "    <figcaption><center>Figure 2.1: The KR 60 P2 robot</center></figcaption>\n",
    "</figure>"
   ]
  },
  {
   "cell_type": "markdown",
   "metadata": {},
   "source": [
    "In figure 2.1 the KR 60 P2 robot of KUKA Roboter GmbH is presented. All the joints of this robot are rotational joints (robot RRR/RRR), denoted $A1 \\;- \\;A6$.\n",
    "\n",
    "The purpose of the direct geometric model is to provide a connection between the movement of a joint (described with a variable for each one of the joints) and the movement of the end effector. With other words, we intend to establish a link between the generalised coordinates of each joint and the Cartesian coordinates of the end effector."
   ]
  },
  {
   "cell_type": "markdown",
   "metadata": {},
   "source": [
    "### 2.2 Direct geometric model of an open chain manipulation structure"
   ]
  },
  {
   "cell_type": "markdown",
   "metadata": {},
   "source": [
    "For a sequence of bodies $i-j-k$, within a kinematic chain of a industrial robot, the iterative calculation of its position uses the relationship:"
   ]
  },
  {
   "cell_type": "markdown",
   "metadata": {},
   "source": [
    "\n",
    "\\begin{equation}\\label{eq2.1}\n",
    "r_{ik} ^{(i)} = r_{ij} ^{(i)} + R_{ij} \\cdot r_{jk}\n",
    "^{(j)},\n",
    "\\end{equation}\n",
    "\n",
    "\n",
    "\\begin{equation}\\label{eq2.2}\n",
    "   R_{ik}=R_{ij}\\cdot R_{jk}\n",
    "\\end{equation}"
   ]
  },
  {
   "cell_type": "markdown",
   "metadata": {},
   "source": [
    "where $i$ is the index for a reference link towards which the position is referenced. Vector $r_{ij}^{(i)}$ defines the position of body $(j)$ in respect to body $(i)$, while $R_{ij}$ defines the orientation of body $(j)$ in respect to the body $(i)$ (Direction cosine matrix, of dimension $3 \\times 3$)."
   ]
  },
  {
   "cell_type": "markdown",
   "metadata": {},
   "source": [
    "Considering a sequence that includes the base body (denoted \"1\"):\n",
    "\n",
    "$1-j-k$, (see figure $2.2$) we can write:"
   ]
  },
  {
   "cell_type": "markdown",
   "metadata": {},
   "source": [
    "\n",
    "\\begin{equation}\\label{eq2.3}\n",
    "r_{1k} ^{(1)} = r_{1j} ^{(1)} + R_{1j} \\cdot r_{jk}\n",
    "^{(j)}\n",
    "\\end{equation}\n",
    "\\begin{equation}\\label{eq2.4}\n",
    "   R_{1k}=R_{1j}\\cdot R_{jk}\n",
    "\\end{equation}"
   ]
  },
  {
   "cell_type": "markdown",
   "metadata": {},
   "source": [
    "<figure>\n",
    "    <img src=\"artwork/DGM/fig2-2.png\" width=50%/>\n",
    "    <figcaption><center>Figure 2.2: Sequence of Cartesian systems and the relationship between them</center></figcaption>\n",
    "</figure>"
   ]
  },
  {
   "cell_type": "markdown",
   "metadata": {},
   "source": [
    "We can write the relationships \\ref{eq2.1} and \\ref{eq2.2} as:"
   ]
  },
  {
   "cell_type": "markdown",
   "metadata": {},
   "source": [
    "\n",
    "\\begin{equation}\n",
    "\\label{eq2.5}\n",
    "\\left[ {\\begin{array}{c}\n",
    " \\mathop r\\nolimits_{ik}^{(i)} \\\\\n",
    " \\\\\n",
    " 1 \\\\\n",
    " \\end{array}} \\right] = \\left[ {{\\begin{array}{*{20}c}\n",
    " {\\mathop R\\nolimits_{ij} } & {\\mathop r\\nolimits_{ij}^{(i)} } \\\\\n",
    " \\\\\n",
    " 0 & 1 \\\\\n",
    "\\end{array} }} \\right]\\cdot\\left[ {\\begin{array}{c}\n",
    " \\mathop r\\nolimits_{jk}^{(j)} \\\\\n",
    " \\\\\n",
    " 1 \\\\\n",
    " \\end{array}} \\right]\n",
    "\\end{equation}"
   ]
  },
  {
   "cell_type": "markdown",
   "metadata": {},
   "source": [
    "\n",
    "Matrix\n",
    "\n",
    "\\begin{equation}\n",
    "\\label{eq2.6}\n",
    "\\mathop H\\nolimits_{ij} = \\left[ {{\\begin{array}{*{20}c}\n",
    " {\\mathop R\\nolimits_{ij} } & {\\mathop r\\nolimits_{ij}^{(i)} } \\\\\n",
    " \\\\\n",
    " 0 & 1 \\\\\n",
    "\\end{array} }} \\right]\n",
    "\\end{equation}\n",
    "\n",
    "is a homogeneous transformation matrix, with ${\\mathop R\\nolimits_{ij} }$ orientation matrix (Direction Cosine Matrix, with dimension $3 \\times 3$)  and ${\\mathop r\\nolimits_{ij}^{(i)} }$ position vector (with dimension $3\\times 1$).\n"
   ]
  },
  {
   "cell_type": "markdown",
   "metadata": {},
   "source": [
    "The equation \\ref{eq2.3} can be written in the following form:"
   ]
  },
  {
   "cell_type": "markdown",
   "metadata": {},
   "source": [
    "\n",
    "\\begin{equation}\\label{eq2.7}\n",
    "\\left[ {{\\begin{array}{*{20}c}\n",
    " {r_{1k}^{(1)} } \\hfill \\\\\n",
    " \\\\\n",
    " 1 \\hfill \\\\\n",
    "\\end{array} }} \\right] = \\left[ {{\\begin{array}{*{20}c}\n",
    " {R_{1i} } \\hfill & {r_{1i}^{(1)} } \\hfill \\\\\n",
    " \\\\\n",
    " 0 \\hfill & 1 \\hfill \\\\\n",
    "\\end{array} }} \\right]\\cdot\\left[ {{\\begin{array}{*{20}c}\n",
    " {r_{ik}^{(i)} } \\hfill \\\\\n",
    " \\\\\n",
    " 1 \\hfill \\\\\n",
    "\\end{array} }} \\right]\n",
    "\\end{equation}"
   ]
  },
  {
   "cell_type": "markdown",
   "metadata": {},
   "source": [
    "The equation \\ref{eq2.7} together with relationship \\ref{eq2.5} leads to:   \n",
    "\\begin{equation}\n",
    "\\left[ {\\begin{array}{c}\n",
    " \\mathop r\\nolimits_{1k}^{(1)} \\\\\n",
    " \\\\\n",
    " 1 \\\\\n",
    " \\end{array}} \\right] = \\left[ {{\\begin{array}{*{20}c}\n",
    " {\\mathop R\\nolimits_{1i} } & {\\mathop r\\nolimits_{1i}^{(1)} } \\\\\n",
    " \\\\\n",
    " 0 & 1 \\\\\n",
    "\\end{array} }} \\right]\\cdot\\left[ {{\\begin{array}{*{20}c}\n",
    " {\\mathop R\\nolimits_{ij} } & {\\mathop r\\nolimits_{ij}^{(i)} } \\\\\n",
    " \\\\\n",
    " 0 & 1 \\\\\n",
    "\\end{array} }} \\right]\\cdot\\left[ {\\begin{array}{c}\n",
    " \\mathop r\\nolimits_{jk}^{(i)} \\\\\n",
    " \\\\\n",
    " 1 \\\\\n",
    " \\end{array}} \\right]\n",
    "\\end{equation}"
   ]
  },
  {
   "cell_type": "markdown",
   "metadata": {},
   "source": [
    "Keeping the notation from relationship \\ref{eq2.6} we obtain:\n",
    "\n",
    "\\begin{equation}\n",
    "\\left[ {\\begin{array}{c}\n",
    " \\mathop r\\nolimits_{1k}^{(1)} \\\\\n",
    " \\\\\n",
    " 1 \\\\\n",
    " \\end{array}} \\right] = \\mathop H\\nolimits_{1i} \\cdot \\mathop\n",
    "H\\nolimits_{ij} \\cdot \\left[ {\\begin{array}{c}\n",
    " \\mathop r\\nolimits_{jk}^{(j)} \\\\\n",
    " \\\\\n",
    " 1 \\\\\n",
    " \\end{array}} \\right] = \\mathop H\\nolimits_{1j} \\cdot \\left[\n",
    "{\\begin{array}{c}\n",
    " \\mathop r\\nolimits_{jk}^{(j)} \\\\\n",
    " \\\\\n",
    " 1 \\\\\n",
    " \\end{array}} \\right]\n",
    " \\end{equation}\n",
    "\n",
    "where\n",
    "\n",
    "\\begin{equation}\n",
    "H_{1j} = H_{1i} \\cdot H_{ij}\n",
    "\\end{equation}"
   ]
  },
  {
   "cell_type": "markdown",
   "metadata": {},
   "source": [
    "For a structure with \"n\" bodies, the position and orientation of body \"n\" (end-effector), in respect to the base body 1 (inertial reference), are given by:\n",
    "\n",
    "\\begin{equation}\\label{eq2.11}\n",
    "H_{1n} = H_{12} \\cdot H_{23} \\cdot .... \\cdot H_{n - 1,n}\n",
    "\\end{equation}\n",
    "\n",
    "The homogeneous transformation matrices $H_{i - 1,i}$ are referring to the kinematic joints of the structure (links $i-1,i$) which are rotational or translational. \n",
    "The definition the matrices for these situation, is found in relationships $1.3 - 1.8$."
   ]
  },
  {
   "cell_type": "markdown",
   "metadata": {},
   "source": [
    "### 2.3 Algorithm for DGM"
   ]
  },
  {
   "cell_type": "markdown",
   "metadata": {},
   "source": [
    "The algorithm for the determination of the direct geometric model, with the example of the RTT robot in figure $2.3$ could be the following:    \n",
    "\n",
    "For efficiency reasons, we will use the following notation \n",
    "<br>\n",
    "\n",
    "\\begin{equation}\n",
    "\\left\\{ {{\\begin{array}{rcl}\n",
    " \\cos(q_i)\\stackrel{\\mbox{not}}{=}  & c_i  &     \\\\\n",
    " \\\\\n",
    " \\sin(q_i)\\stackrel{\\mbox{not}}{=}   & s_i &    \\\\\n",
    " \\end{array} }} \\right. for\\;any\\; generalised\\;coordinate\\; q_i,\\; i=\\overline{1..n}\n",
    "\\end{equation}\n"
   ]
  },
  {
   "cell_type": "markdown",
   "metadata": {},
   "source": [
    "<figure>\n",
    "    <img src=\"artwork/DGM/fig2-3.png\" width=50%/>\n",
    "    <figcaption><center>Figure 2.3: Robot RRT</center></figcaption>\n",
    "</figure>"
   ]
  },
  {
   "cell_type": "markdown",
   "metadata": {},
   "source": [
    "#### 1.We attach a variable on each motor joint (generalised coordinate) $q_1...q_n$."
   ]
  },
  {
   "cell_type": "markdown",
   "metadata": {},
   "source": [
    "<figure>\n",
    "    <img align=\"left\" src=\"artwork/DGM/step1.png\" width=50%/>\n",
    "</figure>"
   ]
  },
  {
   "cell_type": "markdown",
   "metadata": {},
   "source": [
    "#### 2. We attach a coordinate system on each link, starting with the base (1) until the end effector (n)."
   ]
  },
  {
   "cell_type": "markdown",
   "metadata": {},
   "source": [
    "<figure>\n",
    "    <img align=\"left\" src=\"artwork/DGM/step2.png\" width=50%/>\n",
    "</figure>\n"
   ]
  },
  {
   "cell_type": "markdown",
   "metadata": {},
   "source": [
    "#### 4. We calculate iteratively, the position and orientation of each body in respect to the base body, using relationships \\ref{eq2.3} and \\ref{eq2.4}. Alternatively we can express this with homogeneous matrices, from relationship \\ref{eq2.11}"
   ]
  },
  {
   "cell_type": "markdown",
   "metadata": {},
   "source": [
    "<video controls src=\"artwork/DGM/1to2.mp4\" width = 50%>animation</video>\n",
    "\n",
    "\n"
   ]
  },
  {
   "cell_type": "markdown",
   "metadata": {},
   "source": [
    " \\begin{equation}\n",
    "\\label{mgd-eq4}\n",
    " T_{12} = \\left[ {{\\begin{array}{*{20}c}\n",
    " {\\cos (q_1 )}  & { - \\sin (q_1 )}  & 0  & 0  \\\\\n",
    " {\\sin (q_1 )}  & {\\cos (q_1 )}  & 0  & 0  \\\\\n",
    " 0  & 0  & 1  & 0  \\\\\n",
    " 0  & 0  & 0  & 1  \\\\\n",
    "\\end{array} }} \\right]\n",
    "\\end{equation}"
   ]
  },
  {
   "cell_type": "markdown",
   "metadata": {
    "scrolled": false
   },
   "source": [
    "<video controls src=\"artwork/DGM/2to3.mp4\" width = 50%>animation</video>\n"
   ]
  },
  {
   "cell_type": "markdown",
   "metadata": {},
   "source": [
    "\\begin{equation}\n",
    "T_{23} = \\left[ {{\\begin{array}{*{20}c}\n",
    " 1  & 0  & 0  & 0  \\\\\n",
    " 0  & 1  & 0  & 0  \\\\\n",
    " 0  & 0  & 1  & {q_2 }  \\\\\n",
    " 0  & 0 & 0  & 1  \\\\\n",
    "\\end{array} }}\n",
    "\\right]\n",
    "\\end{equation}"
   ]
  },
  {
   "cell_type": "markdown",
   "metadata": {
    "scrolled": false
   },
   "source": [
    "<video controls src=\"artwork/DGM/3to4.mp4\" width = 50%>animation</video>\n"
   ]
  },
  {
   "cell_type": "markdown",
   "metadata": {},
   "source": [
    "\\begin{equation}\n",
    "T_{34} = \\left[ {{\\begin{array}{*{20}c}\n",
    " 1  & 0  & 0  & 0  \\\\\n",
    " 0 & 1 & 0  & {q_3 + L_1}  \\\\\n",
    " 0  & 0 & 1 & 0  \\\\\n",
    " 0  & 0 & 0  & 1  \\\\\n",
    "\\end{array} }} \\right]\n",
    "\\end{equation}\n"
   ]
  },
  {
   "cell_type": "markdown",
   "metadata": {},
   "source": [
    "\n",
    "We determine the direct geometric model using post-multiplication of the elementary matrices that characterise the structure, starting from the base body until the end-effector:\n",
    "\\begin{equation}\n",
    "T=T_{14}=T_{12}\\cdot T_{23}\\cdot T_{34}\n",
    "\\end{equation}\n",
    "\n",
    "\\begin{equation}\n",
    "T_{14}=\\left[ {{\\begin{array}{*{20}c}\n",
    " c_1 &  -s_1 & 0  & 0  \\\\\n",
    " s_1 & c_1  & 0  & 0  \\\\\n",
    " 0  & 0  & 1  & 0  \\\\\n",
    " 0  & 0  & 0  & 1  \\\\\n",
    "\\end{array} }} \\right]\\cdot\n",
    "\\left[ {{\\begin{array}{*{20}c}\n",
    " 1  & 0  & 0  & 0  \\\\\n",
    " 0  & 1  & 0  & 0  \\\\\n",
    " 0  & 0  & 1  & {q_2 }  \\\\\n",
    " 0  & 0 & 0  & 1  \\\\\n",
    "\\end{array} }}\n",
    "\\right]\\cdot\n",
    "\\left[ {{\\begin{array}{*{20}c}\n",
    " 1  & 0  & 0  & 0  \\\\\n",
    " 0 & 1 & 0  & {q_3 + L_1}  \\\\\n",
    " 0  & 0 & 1 & 0  \\\\\n",
    " 0  & 0 & 0  & 1  \\\\\n",
    "\\end{array} }} \\right]\n",
    "\\end{equation}\n",
    "\n",
    "resulting in direct geometric model in the following form:\n",
    "\\begin{equation}\n",
    "T_{14}=\\left[ {{\\begin{array}{*{20}c}\n",
    " c_1 &  -s_1 & 0  & -(q_3+L_1)\\cdot s_1  \\\\\n",
    " s_1 & c_1  & 0  & (q_3+L_1)\\cdot c_1  \\\\\n",
    " 0  & 0  & 1  & q_2  \\\\\n",
    " 0  & 0  & 0  & 1  \\\\\n",
    "\\end{array} }} \\right]\n",
    "\\end{equation}\n",
    "\n"
   ]
  },
  {
   "cell_type": "markdown",
   "metadata": {},
   "source": [
    "The position parameters of the end-effector are given in the final column of matrix $T_{14}$:\n",
    "\n",
    "\\begin{equation}\n",
    "Z_P=\\left[ {{\\begin{array}{rcc}\n",
    "          x_{ef}& =& -(q_3+L_1)\\cdot {\\sin(q_1)} \\\\\n",
    "          y_{ef} &= &(q_3+L_1)\\cdot {\\cos(q_1)}\\\\\n",
    "          z_{ef} &=& q_2 \\\\\n",
    "         \\end{array} }} \\right]\n",
    "\\end{equation}"
   ]
  },
  {
   "cell_type": "markdown",
   "metadata": {},
   "source": [
    "### 2.4 Proposed problems"
   ]
  },
  {
   "cell_type": "markdown",
   "metadata": {},
   "source": [
    "We consider the robotic structure from figure 2.4:"
   ]
  },
  {
   "cell_type": "markdown",
   "metadata": {},
   "source": [
    "<figure>\n",
    "    <img src=\"artwork/DGM/dgm-robot.png\" width=70%/>\n",
    "    <figcaption><center>Figure 2.4: Robot RRRT </center></figcaption>\n",
    "</figure>"
   ]
  },
  {
   "cell_type": "markdown",
   "metadata": {},
   "source": [
    "- Determine the direct geometric model using homogeneous transformation matrices.\n",
    "- Calculate the position obtained by imposing the following position of joints:\n",
    "       \n",
    "         \n",
    "          \n",
    "\n",
    "       \n",
    "    \n",
    "\\begin{equation}\n",
    " \\left\\{ {{\\begin{array}{rcl}\n",
    "         q_1& =& 0 \\\\\n",
    "         q_2 &=& -\\frac{\\pi}{20}\\\\\n",
    "         q_3 &=& \\frac{\\pi}{20} \\\\\n",
    "         q_4& =& 10\\\\\n",
    "         \\end{array} }} \\right.\n",
    "\\end{equation}\n",
    "    "
   ]
  },
  {
   "cell_type": "code",
   "execution_count": null,
   "metadata": {},
   "outputs": [],
   "source": [
    "# use the imported DrawIt function to plot the robot, you have to call it with an input using the knowledge until now\n",
    "\n",
    "# Function for drawing the segments of a robot and their coordinate frames\n",
    "\n",
    "# Input:        M          Array of size N. Each element represents a\n",
    "#                                fundamendtal transformation (Rotation or\n",
    "#                                Translation). The coordinate frames are\n",
    "#                                drawn after each transformation and\n",
    "#                                segments are drawn between transformations\n",
    "\n",
    "# if needed, you can look at type(M) of objects, M.shape of objects or properties of objects with vars(M)\n",
    "\n",
    "%matplotlib nbagg\n",
    "import numpy as np\n",
    "from robopy import *\n",
    "from lab2_functions import Drawit\n",
    "\n",
    "\n",
    "\n",
    " "
   ]
  }
 ],
 "metadata": {
  "kernelspec": {
   "display_name": "Python 3",
   "language": "python",
   "name": "python3"
  },
  "language_info": {
   "codemirror_mode": {
    "name": "ipython",
    "version": 3
   },
   "file_extension": ".py",
   "mimetype": "text/x-python",
   "name": "python",
   "nbconvert_exporter": "python",
   "pygments_lexer": "ipython3",
   "version": "3.7.6"
  },
  "varInspector": {
   "cols": {
    "lenName": 16,
    "lenType": 16,
    "lenVar": 40
   },
   "kernels_config": {
    "python": {
     "delete_cmd_postfix": "",
     "delete_cmd_prefix": "del ",
     "library": "var_list.py",
     "varRefreshCmd": "print(var_dic_list())"
    },
    "r": {
     "delete_cmd_postfix": ") ",
     "delete_cmd_prefix": "rm(",
     "library": "var_list.r",
     "varRefreshCmd": "cat(var_dic_list()) "
    }
   },
   "position": {
    "height": "567.727px",
    "left": "1160.45px",
    "right": "20px",
    "top": "72.9943px",
    "width": "567.003px"
   },
   "types_to_exclude": [
    "module",
    "function",
    "builtin_function_or_method",
    "instance",
    "_Feature"
   ],
   "window_display": false
  }
 },
 "nbformat": 4,
 "nbformat_minor": 2
}
